{
 "cells": [
  {
   "cell_type": "markdown",
   "id": "4ce1f9c3",
   "metadata": {},
   "source": [
    "# Imports and load data"
   ]
  },
  {
   "cell_type": "code",
   "execution_count": null,
   "id": "13cf0bf1",
   "metadata": {},
   "outputs": [],
   "source": [
    "# upgrade excel package to load specific files\n",
    "# %pip install -U xlrd\n",
    "# county choropleth graph\n",
    "# %pip install -U geopandas\n",
    "# %pip install -U pyshp\n",
    "# %pip install -U shapely\n",
    "# %pip install -U plotly-geo\n",
    "# %pip install -U xgboost\n",
    "# %pip install -U lightgbm\n",
    "# %pip install -U scikit-learn\n",
    "# %pip install -U tslearn"
   ]
  },
  {
   "cell_type": "code",
   "execution_count": null,
   "id": "2b3032c0",
   "metadata": {},
   "outputs": [],
   "source": [
    "import pandas as pd\n",
    "import numpy as np\n",
    "import matplotlib.pyplot as plt\n",
    "import os\n",
    "import pickle\n",
    "from tqdm import tqdm"
   ]
  },
  {
   "cell_type": "code",
   "execution_count": null,
   "id": "53e13a2e",
   "metadata": {},
   "outputs": [],
   "source": [
    "community_color_dic = {\"African American South\": \"#457a59\",\n",
    "                       \"Aging Farmlands\": \"#7a3842\",\n",
    "                       \"Big Cities\": \"#c43b82\",\n",
    "                       \"College Towns\": \"#c44244\",\n",
    "                       \"Evangelical Hubs\": \"#82477f\",\n",
    "                       \"Exurbs\": \"#fcb93a\",\n",
    "                       \"Graying America\": \"#2e547a\",\n",
    "                       \"Hispanic Centers\": \"#1f8fba\",\n",
    "                       \"LDS Enclaves\": \"#3a2c70\",\n",
    "                       \"Middle Suburbs\": \"#699246\",\n",
    "                       \"Military Posts\": \"#abbf48\",\n",
    "                       \"Native American Lands\": \"#eacd3f\",\n",
    "                       \"Rural Middle America\": \"#3a9c9b\",\n",
    "                       \"Urban Suburbs\": \"#f08031\",\n",
    "                       \"Working Class Country\": \"#86563e\"}\n",
    "acp_dic = {1: \"Exurbs\",\n",
    "           2: \"Graying America\",\n",
    "           3: \"African American South\",\n",
    "           4: \"Evangelical Hubs\",\n",
    "           5: \"Working Class Country\",\n",
    "           6: \"Military Posts\",\n",
    "           7: \"Urban Suburbs\",\n",
    "           8: \"Hispanic Centers\",\n",
    "           9: \"Native American Lands\",\n",
    "           10: \"Rural Middle America\",\n",
    "           11: \"College Towns\",\n",
    "           12: \"LDS Enclaves\",\n",
    "           13: \"Aging Farmlands\",\n",
    "           14: \"Big Cities\",\n",
    "           15: \"Middle Suburbs\"}"
   ]
  },
  {
   "cell_type": "markdown",
   "id": "d9078d0d",
   "metadata": {},
   "source": [
    "Execute the cells below to directly import the datasets (instead of calculate everything)"
   ]
  },
  {
   "cell_type": "code",
   "execution_count": null,
   "id": "0a946e1d",
   "metadata": {},
   "outputs": [],
   "source": [
    "type_data = \"COVID-19\"  # default type: All Causes, COVID-19, Excess Mortality\n",
    "\n",
    "county_databases = {}\n",
    "\n",
    "# Load all causes dataset\n",
    "county_database = pd.read_csv(\"county_database_all_causes.csv\")\n",
    "county_database.index = county_database.FIPS\n",
    "county_database2 = pd.read_csv(\"county_database2_all_causes.csv\")\n",
    "county_database2.index = county_database2.FIPS\n",
    "county_database2_imputed = pd.read_csv(\"county_database2_imputed_all_causes.csv\")\n",
    "county_database2_imputed.index = county_database2_imputed.FIPS\n",
    "\n",
    "county_database.drop(columns=[\"FIPS.1\"], inplace=True)\n",
    "county_database2.drop(columns=[\"FIPS.1\"], inplace=True)\n",
    "county_database2_imputed.drop(columns=[\"FIPS.1\"], inplace=True)\n",
    "\n",
    "county_databases[\"All Causes\"] = {}\n",
    "county_databases[\"All Causes\"][\"county_database\"] = county_database\n",
    "county_databases[\"All Causes\"][\"county_database2\"] = county_database2\n",
    "county_databases[\"All Causes\"][\"county_database2_imputed\"] = county_database2_imputed\n",
    "\n",
    "# Load COVID-19 dataset\n",
    "county_database = pd.read_csv(\"county_database_covid19.csv\")\n",
    "county_database.index = county_database.FIPS\n",
    "county_database2 = pd.read_csv(\"county_database2_covid19.csv\")\n",
    "county_database2.index = county_database2.FIPS\n",
    "county_database2_imputed = pd.read_csv(\"county_database2_imputed_covid19.csv\")\n",
    "county_database2_imputed.index = county_database2_imputed.FIPS\n",
    "\n",
    "county_database.drop(columns=[\"FIPS.1\"], inplace=True)\n",
    "county_database2.drop(columns=[\"FIPS.1\"], inplace=True)\n",
    "county_database2_imputed.drop(columns=[\"FIPS.1\"], inplace=True)\n",
    "\n",
    "county_databases[\"COVID-19\"] = {}\n",
    "county_databases[\"COVID-19\"][\"county_database\"] = county_database\n",
    "county_databases[\"COVID-19\"][\"county_database2\"] = county_database2\n",
    "county_databases[\"COVID-19\"][\"county_database2_imputed\"] = county_database2_imputed\n",
    "\n",
    "# Load Excess Mortality dataset\n",
    "county_database = pd.read_csv(\"county_database_excess_mortality.csv\")\n",
    "county_database.index = county_database.FIPS\n",
    "county_database2 = pd.read_csv(\"county_database2_excess_mortality.csv\")\n",
    "county_database2.index = county_database2.FIPS\n",
    "county_database2_imputed = pd.read_csv(\"county_database2_imputed_excess_mortality.csv\")\n",
    "county_database2_imputed.index = county_database2_imputed.FIPS\n",
    "\n",
    "county_database.drop(columns=[\"FIPS.1\"], inplace=True)\n",
    "county_database2.drop(columns=[\"FIPS.1\"], inplace=True)\n",
    "county_database2_imputed.drop(columns=[\"FIPS.1\"], inplace=True)\n",
    "\n",
    "county_databases[\"Excess Mortality\"] = {}\n",
    "county_databases[\"Excess Mortality\"][\"county_database\"] = county_database\n",
    "county_databases[\"Excess Mortality\"][\"county_database2\"] = county_database2\n",
    "county_databases[\"Excess Mortality\"][\"county_database2_imputed\"] = county_database2_imputed\n",
    "\n",
    "with open(\"feature_selection\", \"rb\") as fp:  # load feature selection\n",
    "  features = pickle.load(fp)\n",
    "  selected_columns_list = features[0]\n",
    "  X_selected_columns_list = features[1]\n",
    "\n",
    "# load default dataset\n",
    "county_database = county_databases[type_data][\"county_database\"]\n",
    "county_database2 = county_databases[type_data][\"county_database2\"]\n",
    "county_database2_imputed = county_databases[type_data][\"county_database2_imputed\"]"
   ]
  },
  {
   "cell_type": "markdown",
   "id": "ad0b5cbf",
   "metadata": {},
   "source": [
    "# Functions and additional imports"
   ]
  },
  {
   "cell_type": "markdown",
   "id": "70f8de6b",
   "metadata": {},
   "source": [
    "Initialization"
   ]
  },
  {
   "cell_type": "code",
   "execution_count": null,
   "id": "c83c2324",
   "metadata": {},
   "outputs": [],
   "source": [
    "import geopandas\n",
    "import shapely\n",
    "import shapefile\n",
    "import plotly\n",
    "from plotly.figure_factory._county_choropleth import create_choropleth\n",
    "\n",
    "import plotly.express as px\n",
    "from urllib.request import urlopen\n",
    "import json\n",
    "with urlopen('https://raw.githubusercontent.com/plotly/datasets/master/geojson-counties-fips.json') as response:\n",
    "    counties_json = json.load(response)\n",
    "# duplicate the county with no 0 at the beginning of the FIPS\n",
    "list_of_geo = counties_json[\"features\"]\n",
    "list_of_id = [v[\"id\"] for v in counties_json[\"features\"]]\n",
    "for cty in counties_json[\"features\"]:\n",
    "  new_id = str(int(cty[\"id\"]))\n",
    "  if not(new_id in list_of_id):\n",
    "    list_of_id.append(new_id)\n",
    "    new_cty = cty.copy()\n",
    "    new_cty[\"id\"] = new_id\n",
    "    list_of_geo.append(new_cty)\n",
    "counties_json[\"features\"] = list_of_geo\n",
    "\n",
    "def create_custom_choropleth(county_database, counties_json, label_col,\n",
    "                             label_display, color_continuous_scale=None,\n",
    "                             range_color=None):\n",
    "  if range_color is None:\n",
    "    range_color_min = county_database[label_col].min()\n",
    "    range_color_max = county_database[label_col].max()\n",
    "  else:\n",
    "    range_color_min = range_color[0]\n",
    "    range_color_max = range_color[1]\n",
    "  fig = px.choropleth(county_database, geojson=counties_json, locations=\"FIPS\",\n",
    "                      color=label_col,\n",
    "                      color_continuous_scale=color_continuous_scale,\n",
    "                      range_color=(range_color_min, range_color_max),\n",
    "                      scope=\"usa\",\n",
    "                      labels={label_col:label_display},\n",
    "                      title=\"USA by {}\".format(label_display)\n",
    "                      )\n",
    "  fig.update_layout(margin={\"r\":0,\"t\":0,\"l\":0,\"b\":0})\n",
    "  fig.show()"
   ]
  },
  {
   "cell_type": "markdown",
   "id": "dc6049eb",
   "metadata": {},
   "source": [
    "Custom function to plot the scatter plots with trends"
   ]
  },
  {
   "cell_type": "code",
   "execution_count": null,
   "id": "3f44fba1",
   "metadata": {},
   "outputs": [],
   "source": [
    "from plotly.subplots import make_subplots\n",
    "import plotly.graph_objects as go\n",
    "from sklearn.linear_model import LinearRegression\n",
    "\n",
    "def custom_scatter_plot(feat_col=\"political_leaning\",\n",
    "                        feat_name=\"Political Leaning\", *,\n",
    "                        type_data=\"COVID-19\",\n",
    "                        cmid=None,\n",
    "                        min_val=None, max_val=None,\n",
    "                        filter=None, filter_threshold=None,\n",
    "                        show_figures=True,\n",
    "                        **kwargs):\n",
    "\n",
    "  additional_text = \"\"  # for the title\n",
    "  height = 600  # height of the plot\n",
    "\n",
    "  county_db_to_use = county_databases[type_data][\"county_database2_imputed\"]\n",
    "\n",
    "  if \"filter_equality\" in kwargs:\n",
    "    county_db_to_use = county_db_to_use[county_db_to_use[kwargs.get(\"filter_equality\")] == kwargs.get(\"filter_equality_value\")]\n",
    "    additional_text = additional_text + kwargs.get(\"additional_text\", \"\")\n",
    "\n",
    "  if filter is None:\n",
    "    county_db = county_db_to_use\n",
    "    county_db2 = county_db_to_use  # not used\n",
    "    rows = 2\n",
    "  else:\n",
    "    county_db = county_db_to_use[county_db_to_use[filter] <= filter_threshold]\n",
    "    county_db2 = county_db_to_use[county_db_to_use[filter] > filter_threshold]\n",
    "    rows = 4\n",
    "\n",
    "  if cmid is None:\n",
    "    cmid = 0\n",
    "\n",
    "  # shared_yaxes=\"all\" or missing from kwargs\n",
    "  shared_yaxes = kwargs.get(\"shared_yaxes\", False)\n",
    "  fig = make_subplots(rows=rows, cols=3,\n",
    "                      subplot_titles=tuple([\"Period {i}\".format(i=i) for i in range(1, 7)]),\n",
    "                      shared_yaxes=shared_yaxes)\n",
    "  for per in range(6):\n",
    "    fig.add_trace(\n",
    "        go.Scatter(x=county_db[feat_col],\n",
    "                   y=county_db[f\"deathRate_period{per+1}\"],\n",
    "                   mode=\"markers\",\n",
    "                   marker_color=county_db[feat_col],\n",
    "                   marker_colorscale=\"rdbu_r\",\n",
    "                   marker={\"cmid\": cmid},\n",
    "                   name=f\"Period {per+1}\",\n",
    "                   showlegend=False),\n",
    "        row=(per//3 + 1), col=(per%3 + 1)\n",
    "    )\n",
    "\n",
    "    dt = county_db[[feat_col, f\"deathRate_period{per+1}\", \"total_pop\"]].dropna()\n",
    "    lr = LinearRegression(fit_intercept=True)\n",
    "    lr.fit(dt[feat_col].to_numpy().reshape(-1, 1),\n",
    "          dt[f\"deathRate_period{per+1}\"].to_numpy(),\n",
    "          np.log(dt[\"total_pop\"]).to_numpy())  # log total pop sample weight\n",
    "\n",
    "    slope = round(lr.coef_[0], 2)\n",
    "\n",
    "    if min_val is None:\n",
    "      min_val2 = county_db[feat_col].min()\n",
    "    else:\n",
    "      min_val2 = min_val\n",
    "    if max_val is None:\n",
    "      max_val2 = county_db[feat_col].max()\n",
    "    else:\n",
    "      max_val2 = max_val\n",
    "    y_pred = lr.predict(np.linspace(min_val2, max_val2, 1000).reshape(-1, 1))\n",
    "    fig.append_trace(go.Scatter(x=np.linspace(min_val2, max_val2, 1000), y=y_pred,\n",
    "                                name=f\"Regression Period {per+1}. Slope={slope}\",\n",
    "                                line=dict(color=\"black\", width=4,\n",
    "                                          dash=\"dash\")\n",
    "                                ), row=(per//3 + 1), col=(per%3 + 1))\n",
    "\n",
    "    if not(filter is None):\n",
    "      fig.add_trace(\n",
    "        go.Scatter(x=county_db2[feat_col],\n",
    "                   y=county_db2[f\"deathRate_period{per+1}\"],\n",
    "                   mode=\"markers\",\n",
    "                   marker_color=county_db2[feat_col],\n",
    "                   marker_colorscale=\"rdbu_r\",\n",
    "                   marker={\"cmid\": cmid},\n",
    "                   name=f\"Period {per+1}, {filter} above\",\n",
    "                   showlegend=False),\n",
    "        row=(per//3 + 3), col=(per%3 + 1)\n",
    "      )\n",
    "      dt = county_db2[[feat_col, f\"deathRate_period{per+1}\", \"total_pop\"]].dropna()\n",
    "      lr = LinearRegression(fit_intercept=True)\n",
    "      lr.fit(dt[feat_col].to_numpy().reshape(-1, 1),\n",
    "            dt[f\"deathRate_period{per+1}\"].to_numpy(),\n",
    "            np.log(dt[\"total_pop\"]).to_numpy())  # log total pop sample weight\n",
    "\n",
    "      slope = round(lr.coef_[0], 2)\n",
    "\n",
    "      if min_val is None:\n",
    "        min_val2 = county_db2[feat_col].min()\n",
    "      else:\n",
    "        min_val2 = min_val\n",
    "      if max_val is None:\n",
    "        max_val2 = county_db2[feat_col].max()\n",
    "      else:\n",
    "        max_val2 = max_val\n",
    "      y_pred = lr.predict(np.linspace(min_val2, max_val2, 1000).reshape(-1, 1))\n",
    "      fig.append_trace(go.Scatter(x=np.linspace(min_val2, max_val2, 1000), y=y_pred,\n",
    "                                  name=f\"Regression Period {per+1}, {filter} above. Slope={slope}\",\n",
    "                                  line=dict(color=\"black\", width=4,\n",
    "                                            dash=\"dash\")\n",
    "                                  ), row=(per//3 + 3), col=(per%3 + 1))\n",
    "      additional_text = additional_text + f\"<br>{filter} <= {filter_threshold} compared to {filter} above\"\n",
    "      height = 1200  # higher image is mandatory as we add more rows\n",
    "  title_text = f\"{type_data} Crude Death Rate and {feat_name} by period{additional_text}\" if type_data != \"Excess Mortality\" else f\"{type_data} and {feat_name} by period{additional_text}\"\n",
    "  yaxis_title = f\"{type_data} crude death rate\" if type_data != \"Excess Mortality\" else f\"{type_data}\"\n",
    "  fig.update_layout(height=height, width=800,\n",
    "                    title_text=title_text,\n",
    "                    xaxis_title=f\"{feat_name}\",\n",
    "                    yaxis_title=yaxis_title,\n",
    "                    legend_title=\"Slopes\")\n",
    "  filename = \"Plot/Analysis/{feat_col}_{type_data}\".format(feat_col=feat_col,\n",
    "                                                           type_data=type_data)\n",
    "  if not(filter is None):\n",
    "    filename += \"filter_\" + str(filter)\n",
    "  if \"filter_equality\" in kwargs:\n",
    "    filename += \"_\" + str(kwargs.get(\"filter_equality\")) + \"_\" + str(kwargs.get(\"filter_equality_value\"))\n",
    "  else:\n",
    "    filename += \"_national\"\n",
    "  fig.write_image(filename + \".png\")\n",
    "  if show_figures:\n",
    "    fig.show()"
   ]
  },
  {
   "cell_type": "markdown",
   "id": "afab987c",
   "metadata": {},
   "source": [
    "Function for the stringency index (as it is a function of the period)"
   ]
  },
  {
   "cell_type": "code",
   "execution_count": null,
   "id": "871a76b3",
   "metadata": {},
   "outputs": [],
   "source": [
    "def custom_scatter_plot_stringency(*,\n",
    "                                   min_val=None, max_val=None,\n",
    "                                   type_data=\"COVID-19\",\n",
    "                                   filter=None, filter_threshold=None,\n",
    "                                   show_figures=True):\n",
    "  feat_name = \"Stringency Index\"\n",
    "\n",
    "  county_db_to_use = county_databases[type_data][\"county_database2_imputed\"]\n",
    "\n",
    "  if filter is None:\n",
    "    county_db = county_db_to_use\n",
    "    county_db2 = county_db_to_use  # not used\n",
    "    rows = 2\n",
    "  else:\n",
    "    county_db = county_db_to_use[county_db_to_use[filter] <= filter_threshold]\n",
    "    county_db2 = county_db_to_use[county_db_to_use[filter] > filter_threshold]\n",
    "    rows = 4\n",
    "\n",
    "  fig = make_subplots(rows=rows, cols=3,\n",
    "                      subplot_titles=tuple([\"Period {i}\".format(i=i) for i in range(1, 7)]),\n",
    "                      shared_yaxes=\"all\")\n",
    "  for per in range(6):\n",
    "    fig.add_trace(\n",
    "        go.Scatter(x=county_db[f\"StringencyIndex{per+1}_mean\"],\n",
    "                   y=county_db[f\"deathRate_period{per+1}\"],\n",
    "                   mode=\"markers\",\n",
    "                   marker_color=county_db[f\"StringencyIndex{per+1}_mean\"],\n",
    "                   marker_colorscale=\"rdbu_r\",\n",
    "                   marker={\"cmid\": 37},\n",
    "                   name=f\"Period {per+1}\",\n",
    "                   showlegend=False),\n",
    "        row=(per//3 + 1), col=(per%3 + 1)\n",
    "    )\n",
    "\n",
    "    dt = county_db[[f\"StringencyIndex{per+1}_mean\", f\"deathRate_period{per+1}\", \"total_pop\"]].dropna()\n",
    "    lr = LinearRegression(fit_intercept=True)\n",
    "    lr.fit(dt[f\"StringencyIndex{per+1}_mean\"].to_numpy().reshape(-1, 1),\n",
    "           dt[f\"deathRate_period{per+1}\"].to_numpy(),\n",
    "           np.log(dt[\"total_pop\"]).to_numpy())  # log total pop sample weight\n",
    "\n",
    "    slope = round(lr.coef_[0], 2)\n",
    "\n",
    "    if min_val is None:\n",
    "      min_val2 = county_db[f\"StringencyIndex{per+1}_mean\"].min()\n",
    "    else:\n",
    "      min_val2 = min_val\n",
    "    if max_val is None:\n",
    "      max_val2 = county_db[f\"StringencyIndex{per+1}_mean\"].max()\n",
    "    else:\n",
    "      max_val2 = max_val\n",
    "\n",
    "    y_pred = lr.predict(np.linspace(min_val2, max_val2, 1000).reshape(-1, 1))\n",
    "    fig.append_trace(go.Scatter(x=np.linspace(min_val2, max_val2, 1000), y=y_pred,\n",
    "                                name=f\"Regression Period {per+1}. Slope={slope}\",\n",
    "                                line=dict(color=\"black\", width=4,\n",
    "                                          dash=\"dash\")\n",
    "                                ), row=(per//3 + 1), col=(per%3 + 1))\n",
    "    additional_text = \"\"  # for the title\n",
    "    height = 600  # height of the plot\n",
    "\n",
    "    if not(filter is None):\n",
    "      fig.add_trace(\n",
    "        go.Scatter(x=county_db2[f\"StringencyIndex{per+1}_mean\"],\n",
    "                   y=county_db2[f\"deathRate_period{per+1}\"],\n",
    "                   mode=\"markers\",\n",
    "                   marker_color=county_db2[f\"StringencyIndex{per+1}_mean\"],\n",
    "                   marker_colorscale=\"rdbu_r\",\n",
    "                   marker={\"cmid\": 37},\n",
    "                   name=f\"Period {per+1}, {filter} above\",\n",
    "                   showlegend=False),\n",
    "        row=(per//3 + 3), col=(per%3 + 1)\n",
    "      )\n",
    "      dt = county_db2[[f\"StringencyIndex{per+1}_mean\", f\"deathRate_period{per+1}\", \"total_pop\"]].dropna()\n",
    "      lr = LinearRegression(fit_intercept=True)\n",
    "      lr.fit(dt[f\"StringencyIndex{per+1}_mean\"].to_numpy().reshape(-1, 1),\n",
    "            dt[f\"deathRate_period{per+1}\"].to_numpy(),\n",
    "            np.log(dt[\"total_pop\"]).to_numpy())  # log total pop sample weight\n",
    "\n",
    "      slope = round(lr.coef_[0], 2)\n",
    "\n",
    "      if min_val is None:\n",
    "        min_val2 = county_db2[f\"StringencyIndex{per+1}_mean\"].min()\n",
    "      else:\n",
    "        min_val2 = min_val\n",
    "      if max_val is None:\n",
    "        max_val2 = county_db2[f\"StringencyIndex{per+1}_mean\"].max()\n",
    "      else:\n",
    "        max_val2 = max_val\n",
    "      y_pred = lr.predict(np.linspace(min_val2, max_val2, 1000).reshape(-1, 1))\n",
    "      fig.append_trace(go.Scatter(x=np.linspace(min_val2, max_val2, 1000), y=y_pred,\n",
    "                                  name=f\"Regression Period {per+1}, {filter} above. Slope={slope}\",\n",
    "                                  line=dict(color=\"black\", width=4,\n",
    "                                            dash=\"dash\")\n",
    "                                  ), row=(per//3 + 3), col=(per%3 + 1))\n",
    "      additional_text = f\"<br>{filter} <= {filter_threshold} compared to {filter} above\"\n",
    "      height = 1200  # higher image is mandatory as we add more rows\n",
    "  title_text = f\"{type_data} Crude Death Rate and {feat_name} by period{additional_text}\" if type_data != \"Excess Mortality\" else f\"{type_data} and {feat_name} by period{additional_text}\"\n",
    "  yaxis_title = f\"{type_data} crude death rate\" if type_data != \"Excess Mortality\" else f\"{type_data}\"\n",
    "  fig.update_layout(height=height, width=800,\n",
    "                    title_text=title_text,\n",
    "                    xaxis_title=f\"{feat_name}\",\n",
    "                    yaxis_title=yaxis_title,\n",
    "                    legend_title=\"Slopes\")\n",
    "  fig.write_image(\"Plot/Analysis/StringencyIndex_{type_data}_filter-{filter}.png\".format(type_data=type_data,\n",
    "                                                                                         filter=filter))\n",
    "  if show_figures:\n",
    "    fig.show()"
   ]
  },
  {
   "cell_type": "markdown",
   "id": "64fe60ca",
   "metadata": {},
   "source": [
    "# Plots"
   ]
  },
  {
   "cell_type": "markdown",
   "id": "a215625f",
   "metadata": {},
   "source": [
    "## Analysis at the national level"
   ]
  },
  {
   "cell_type": "markdown",
   "id": "bc891171",
   "metadata": {},
   "source": [
    "### Political Leaning"
   ]
  },
  {
   "cell_type": "markdown",
   "id": "f1002b4d",
   "metadata": {},
   "source": [
    "Box plot"
   ]
  },
  {
   "cell_type": "code",
   "execution_count": null,
   "id": "bc302aec",
   "metadata": {},
   "outputs": [],
   "source": [
    "fig = go.Figure()\n",
    "fig.add_trace(go.Box(y=county_database[\"political_leaning\"],\n",
    "                     name=\"National\"))\n",
    "\n",
    "fig.add_hline(y=0, line_dash=\"dash\")\n",
    "\n",
    "fig.update_layout(title_text=\"Box Plot Political Leaning - National level\",\n",
    "                  yaxis_title=\"Political Leaning\")\n",
    "fig.write_image(\"Plot/Analysis/boxplot_political_leaning_national.png\")"
   ]
  },
  {
   "cell_type": "markdown",
   "id": "60765b18",
   "metadata": {},
   "source": [
    "COVID-19"
   ]
  },
  {
   "cell_type": "code",
   "execution_count": null,
   "id": "7a88f13d",
   "metadata": {},
   "outputs": [],
   "source": [
    "kwargs = {\"shared_yaxes\": \"all\"}\n",
    "\n",
    "custom_scatter_plot(feat_col=\"political_leaning\",\n",
    "                    feat_name=\"Political Leaning\",\n",
    "                    type_data=\"COVID-19\",\n",
    "                    min_val=-0.5, max_val=0.5,\n",
    "                    cmid=0,\n",
    "                    show_figures=False,\n",
    "                    **kwargs)"
   ]
  },
  {
   "cell_type": "markdown",
   "id": "ace4f111",
   "metadata": {},
   "source": [
    "All Causes"
   ]
  },
  {
   "cell_type": "code",
   "execution_count": null,
   "id": "99609a6c",
   "metadata": {},
   "outputs": [],
   "source": [
    "kwargs = {\"shared_yaxes\": \"all\"}\n",
    "\n",
    "custom_scatter_plot(feat_col=\"political_leaning\",\n",
    "                    feat_name=\"Political Leaning\",\n",
    "                    type_data=\"All Causes\",\n",
    "                    min_val=-0.5, max_val=0.5,\n",
    "                    cmid=0,\n",
    "                    show_figures=False,\n",
    "                    **kwargs)"
   ]
  },
  {
   "cell_type": "markdown",
   "id": "c0e3bc06",
   "metadata": {},
   "source": [
    "Excess Mortality"
   ]
  },
  {
   "cell_type": "code",
   "execution_count": null,
   "id": "7e533bea",
   "metadata": {},
   "outputs": [],
   "source": [
    "kwargs = {\"shared_yaxes\": \"all\"}\n",
    "\n",
    "custom_scatter_plot(feat_col=\"political_leaning\",\n",
    "                    feat_name=\"Political Leaning\",\n",
    "                    type_data=\"Excess Mortality\",\n",
    "                    min_val=-0.5, max_val=0.5,\n",
    "                    cmid=0,\n",
    "                    show_figures=False,\n",
    "                    **kwargs)"
   ]
  },
  {
   "cell_type": "markdown",
   "id": "b1e9d559",
   "metadata": {},
   "source": [
    "### Obesity %"
   ]
  },
  {
   "cell_type": "markdown",
   "id": "6103e6f3",
   "metadata": {},
   "source": [
    "Box plot"
   ]
  },
  {
   "cell_type": "code",
   "execution_count": null,
   "id": "dc4c6674",
   "metadata": {},
   "outputs": [],
   "source": [
    "fig = go.Figure()\n",
    "fig.add_trace(go.Box(y=county_database[\"obesity\"],\n",
    "                     name=\"National\"))\n",
    "\n",
    "fig.update_layout(title_text=\"Box Plot Obesity % - National level\",\n",
    "                  yaxis_title=\"Obesity %\")\n",
    "fig.write_image(\"Plot/Analysis/boxplot_obesity_national.png\")"
   ]
  },
  {
   "cell_type": "markdown",
   "id": "d1bd543d",
   "metadata": {},
   "source": [
    "COVID-19"
   ]
  },
  {
   "cell_type": "code",
   "execution_count": null,
   "id": "b9cd2205",
   "metadata": {},
   "outputs": [],
   "source": [
    "kwargs = {\"shared_yaxes\": \"all\"}\n",
    "\n",
    "custom_scatter_plot(feat_col=\"obesity\",\n",
    "                    feat_name=\"Obesity %\",\n",
    "                    type_data=\"COVID-19\",\n",
    "                    min_val=None, max_val=None,\n",
    "                    cmid=35,\n",
    "                    show_figures=False,\n",
    "                    **kwargs)"
   ]
  },
  {
   "cell_type": "markdown",
   "id": "d468a764",
   "metadata": {},
   "source": [
    "All Causes"
   ]
  },
  {
   "cell_type": "code",
   "execution_count": null,
   "id": "6d10ca78",
   "metadata": {},
   "outputs": [],
   "source": [
    "kwargs = {\"shared_yaxes\": \"all\"}\n",
    "\n",
    "custom_scatter_plot(feat_col=\"obesity\",\n",
    "                    feat_name=\"Obesity %\",\n",
    "                    type_data=\"All Causes\",\n",
    "                    min_val=None, max_val=None,\n",
    "                    cmid=35,\n",
    "                    show_figures=False,\n",
    "                    **kwargs)"
   ]
  },
  {
   "cell_type": "markdown",
   "id": "3a32d4c1",
   "metadata": {},
   "source": [
    "Excess Mortality"
   ]
  },
  {
   "cell_type": "code",
   "execution_count": null,
   "id": "d7112e65",
   "metadata": {},
   "outputs": [],
   "source": [
    "kwargs = {\"shared_yaxes\": \"all\"}\n",
    "\n",
    "custom_scatter_plot(feat_col=\"obesity\",\n",
    "                    feat_name=\"Obesity %\",\n",
    "                    type_data=\"Excess Mortality\",\n",
    "                    min_val=None, max_val=None,\n",
    "                    cmid=35,\n",
    "                    show_figures=False,\n",
    "                    **kwargs)"
   ]
  },
  {
   "cell_type": "markdown",
   "id": "42f9c2a1",
   "metadata": {},
   "source": [
    "### Jail population %"
   ]
  },
  {
   "cell_type": "markdown",
   "id": "2c0d6414",
   "metadata": {},
   "source": [
    "Box plot"
   ]
  },
  {
   "cell_type": "code",
   "execution_count": null,
   "id": "36f54e10",
   "metadata": {},
   "outputs": [],
   "source": [
    "fig = go.Figure()\n",
    "fig.add_trace(go.Box(y=county_database[\"pct_jail\"],\n",
    "                     name=\"National\"))\n",
    "\n",
    "fig.update_layout(title_text=\"Box Plot Jail population % - National level\",\n",
    "                  yaxis_title=\"Jail population %\")\n",
    "fig.write_image(\"Plot/Analysis/boxplot_pct_jail_national.png\")"
   ]
  },
  {
   "cell_type": "markdown",
   "id": "ab10cb41",
   "metadata": {},
   "source": [
    "COVID-19"
   ]
  },
  {
   "cell_type": "code",
   "execution_count": null,
   "id": "150b845f",
   "metadata": {},
   "outputs": [],
   "source": [
    "kwargs = {\"shared_yaxes\": \"all\"}\n",
    "\n",
    "custom_scatter_plot(feat_col=\"pct_jail\",\n",
    "                    feat_name=\"Jail population %\",\n",
    "                    type_data=\"COVID-19\",\n",
    "                    min_val=None, max_val=None,\n",
    "                    cmid=0,\n",
    "                    show_figures=False,\n",
    "                    **kwargs)"
   ]
  },
  {
   "cell_type": "markdown",
   "id": "6322a81e",
   "metadata": {},
   "source": [
    "All Causes"
   ]
  },
  {
   "cell_type": "code",
   "execution_count": null,
   "id": "a2419bec",
   "metadata": {},
   "outputs": [],
   "source": [
    "kwargs = {\"shared_yaxes\": \"all\"}\n",
    "\n",
    "custom_scatter_plot(feat_col=\"pct_jail\",\n",
    "                    feat_name=\"Jail population %\",\n",
    "                    type_data=\"All Causes\",\n",
    "                    min_val=None, max_val=None,\n",
    "                    cmid=0,\n",
    "                    show_figures=False,\n",
    "                    **kwargs)"
   ]
  },
  {
   "cell_type": "markdown",
   "id": "137468dd",
   "metadata": {},
   "source": [
    "Excess Mortality"
   ]
  },
  {
   "cell_type": "code",
   "execution_count": null,
   "id": "52940b6e",
   "metadata": {},
   "outputs": [],
   "source": [
    "kwargs = {\"shared_yaxes\": \"all\"}\n",
    "\n",
    "custom_scatter_plot(feat_col=\"pct_jail\",\n",
    "                    feat_name=\"Jail population %\",\n",
    "                    type_data=\"Excess Mortality\",\n",
    "                    min_val=None, max_val=None,\n",
    "                    cmid=0,\n",
    "                    show_figures=False,\n",
    "                    **kwargs)"
   ]
  },
  {
   "cell_type": "markdown",
   "id": "a11673ec",
   "metadata": {},
   "source": [
    "### Nursing population %"
   ]
  },
  {
   "cell_type": "markdown",
   "id": "5649b52d",
   "metadata": {},
   "source": [
    "Box plot"
   ]
  },
  {
   "cell_type": "code",
   "execution_count": null,
   "id": "e4e43d9d",
   "metadata": {},
   "outputs": [],
   "source": [
    "fig = go.Figure()\n",
    "fig.add_trace(go.Box(y=county_database[\"pct_nursing\"],\n",
    "                     name=\"National\"))\n",
    "\n",
    "fig.update_layout(title_text=\"Box Plot Nursing population % - National level\",\n",
    "                  yaxis_title=\"Nursing population %\")\n",
    "fig.write_image(\"Plot/Analysis/boxplot_pct_nursing_national.png\")"
   ]
  },
  {
   "cell_type": "markdown",
   "id": "27b70e54",
   "metadata": {},
   "source": [
    "COVID-19"
   ]
  },
  {
   "cell_type": "code",
   "execution_count": null,
   "id": "185f9b33",
   "metadata": {},
   "outputs": [],
   "source": [
    "kwargs = {\"shared_yaxes\": \"all\"}\n",
    "\n",
    "custom_scatter_plot(feat_col=\"pct_nursing\",\n",
    "                    feat_name=\"Nursing population %\",\n",
    "                    type_data=\"COVID-19\",\n",
    "                    min_val=None, max_val=None,\n",
    "                    cmid=0,\n",
    "                    show_figures=False,\n",
    "                    **kwargs)"
   ]
  },
  {
   "cell_type": "markdown",
   "id": "7be69249",
   "metadata": {},
   "source": [
    "All Causes"
   ]
  },
  {
   "cell_type": "code",
   "execution_count": null,
   "id": "a724ffcf",
   "metadata": {},
   "outputs": [],
   "source": [
    "kwargs = {\"shared_yaxes\": \"all\"}\n",
    "\n",
    "custom_scatter_plot(feat_col=\"pct_nursing\",\n",
    "                    feat_name=\"Nursing population %\",\n",
    "                    type_data=\"All Causes\",\n",
    "                    min_val=None, max_val=None,\n",
    "                    cmid=0,\n",
    "                    show_figures=False,\n",
    "                    **kwargs)"
   ]
  },
  {
   "cell_type": "markdown",
   "id": "6db8f824",
   "metadata": {},
   "source": [
    "Excess Mortality"
   ]
  },
  {
   "cell_type": "code",
   "execution_count": null,
   "id": "377a9ad3",
   "metadata": {},
   "outputs": [],
   "source": [
    "kwargs = {\"shared_yaxes\": \"all\"}\n",
    "\n",
    "custom_scatter_plot(feat_col=\"pct_nursing\",\n",
    "                    feat_name=\"Nursing population %\",\n",
    "                    type_data=\"Excess Mortality\",\n",
    "                    min_val=None, max_val=None,\n",
    "                    cmid=0,\n",
    "                    show_figures=False,\n",
    "                    **kwargs)"
   ]
  },
  {
   "cell_type": "markdown",
   "id": "85081cbf",
   "metadata": {},
   "source": [
    "### Median Household Income"
   ]
  },
  {
   "cell_type": "markdown",
   "id": "9ecd9783",
   "metadata": {},
   "source": [
    "Box plot"
   ]
  },
  {
   "cell_type": "code",
   "execution_count": null,
   "id": "35cddfda",
   "metadata": {},
   "outputs": [],
   "source": [
    "fig = go.Figure()\n",
    "fig.add_trace(go.Box(y=county_database[\"income\"],\n",
    "                     name=\"National\"))\n",
    "\n",
    "fig.update_layout(title_text=\"Box Plot Median Household Income - National level\",\n",
    "                  yaxis_title=\"Median Household Income\")\n",
    "fig.write_image(\"Plot/Analysis/boxplot_income_national.png\")"
   ]
  },
  {
   "cell_type": "markdown",
   "id": "10f7f027",
   "metadata": {},
   "source": [
    "COVID-19"
   ]
  },
  {
   "cell_type": "code",
   "execution_count": null,
   "id": "930e3965",
   "metadata": {},
   "outputs": [],
   "source": [
    "kwargs = {\"shared_yaxes\": \"all\"}\n",
    "\n",
    "custom_scatter_plot(feat_col=\"income\",\n",
    "                    feat_name=\"Median Household Income\",\n",
    "                    type_data=\"COVID-19\",\n",
    "                    min_val=None, max_val=None,\n",
    "                    cmid=0,\n",
    "                    show_figures=False,\n",
    "                    **kwargs)"
   ]
  },
  {
   "cell_type": "markdown",
   "id": "6c069830",
   "metadata": {},
   "source": [
    "All Causes"
   ]
  },
  {
   "cell_type": "code",
   "execution_count": null,
   "id": "bd13ad53",
   "metadata": {},
   "outputs": [],
   "source": [
    "kwargs = {\"shared_yaxes\": \"all\"}\n",
    "\n",
    "custom_scatter_plot(feat_col=\"income\",\n",
    "                    feat_name=\"Median Household Income\",\n",
    "                    type_data=\"All Causes\",\n",
    "                    min_val=None, max_val=None,\n",
    "                    cmid=0,\n",
    "                    show_figures=False,\n",
    "                    **kwargs)"
   ]
  },
  {
   "cell_type": "markdown",
   "id": "f8f7273c",
   "metadata": {},
   "source": [
    "Excess Mortality"
   ]
  },
  {
   "cell_type": "code",
   "execution_count": null,
   "id": "ae8a9dbb",
   "metadata": {},
   "outputs": [],
   "source": [
    "kwargs = {\"shared_yaxes\": \"all\"}\n",
    "\n",
    "custom_scatter_plot(feat_col=\"income\",\n",
    "                    feat_name=\"Median Household Income\",\n",
    "                    type_data=\"Excess Mortality\",\n",
    "                    min_val=None, max_val=None,\n",
    "                    cmid=0,\n",
    "                    show_figures=False,\n",
    "                    **kwargs)"
   ]
  },
  {
   "cell_type": "markdown",
   "id": "239ee963",
   "metadata": {},
   "source": [
    "### Stringency index (at each period)"
   ]
  },
  {
   "cell_type": "code",
   "execution_count": null,
   "id": "3a2cfeac",
   "metadata": {},
   "outputs": [],
   "source": [
    "custom_scatter_plot_stringency(type_data=\"COVID-19\",\n",
    "                               show_figures=False)\n",
    "custom_scatter_plot_stringency(type_data=\"All Causes\",\n",
    "                               show_figures=False)\n",
    "custom_scatter_plot_stringency(type_data=\"Excess Mortality\",\n",
    "                               show_figures=False)"
   ]
  },
  {
   "cell_type": "markdown",
   "id": "49845ba2",
   "metadata": {},
   "source": [
    "## Analysis at the community level"
   ]
  },
  {
   "cell_type": "code",
   "execution_count": null,
   "id": "2a00190f",
   "metadata": {},
   "outputs": [],
   "source": [
    "import plotly.express as px\n",
    "import math\n",
    "# rename communities\n",
    "fig = px.pie(county_database, names=\"acp_name\", title=\"Number of counties per communities\",\n",
    "             color=\"acp_name\",\n",
    "             color_discrete_map=community_color_dic,\n",
    "             width=1200, height=720)\n",
    "fig.write_image(\"Plot/Analysis/pie-chart-number-communities.png\")"
   ]
  },
  {
   "cell_type": "code",
   "execution_count": null,
   "id": "f3ed0074",
   "metadata": {},
   "outputs": [],
   "source": [
    "import plotly.express as px\n",
    "# rename communities\n",
    "bypop = county_database.groupby(by=\"acp_name\")[\"total_pop\"].sum().to_frame()\n",
    "bypop.reset_index(drop=False, inplace=True)\n",
    "bypop\n",
    "fig = px.pie(bypop, names=\"acp_name\", values=\"total_pop\",\n",
    "             title=\"Population per communities\",\n",
    "             color=\"acp_name\",\n",
    "             color_discrete_map=community_color_dic,\n",
    "             width=1200, height=720)\n",
    "fig.update_traces(textposition=\"inside\", textinfo=\"percent+label\")\n",
    "fig.update_layout(legend_title=\"American Communities (id & name)\")\n",
    "fig.write_image(\"Plot/Analysis/pie-chart-population-communities.png\")"
   ]
  },
  {
   "cell_type": "markdown",
   "id": "5bb418b6",
   "metadata": {},
   "source": [
    "Scatter plots"
   ]
  },
  {
   "cell_type": "markdown",
   "id": "f47a1e06",
   "metadata": {},
   "source": [
    "### Political Leaning"
   ]
  },
  {
   "cell_type": "markdown",
   "id": "77127e90",
   "metadata": {},
   "source": [
    "Box plot"
   ]
  },
  {
   "cell_type": "code",
   "execution_count": null,
   "id": "91e7d25c",
   "metadata": {},
   "outputs": [],
   "source": [
    "fig = go.Figure()\n",
    "for acp_nb in range(1, 16):\n",
    "    acp_name = acp_dic[acp_nb]\n",
    "    fig.add_trace(go.Box(y=county_database[county_database[\"acp\"] == acp_nb][\"political_leaning\"],\n",
    "                         name=acp_name,\n",
    "                         marker_color=community_color_dic[acp_name]))\n",
    "\n",
    "fig.add_hline(y=0, line_dash=\"dash\")\n",
    "\n",
    "fig.update_layout(title_text=\"Box Plot Political Leaning - Community level\",\n",
    "                  yaxis_title=\"Political Leaning\",\n",
    "                  width=1500, height=500)\n",
    "fig.write_image(\"Plot/Analysis/boxplot_political_leaning_communities.png\")"
   ]
  },
  {
   "cell_type": "markdown",
   "id": "abfc7039",
   "metadata": {},
   "source": [
    "Community type 1 - COVID-19"
   ]
  },
  {
   "cell_type": "code",
   "execution_count": null,
   "id": "eada763e",
   "metadata": {},
   "outputs": [],
   "source": [
    "acp_nb = 1\n",
    "acp_name = county_database[county_database[\"acp\"] == acp_nb][\"acp_name\"].iloc[0]\n",
    "\n",
    "kwargs = {\"filter_equality\": \"acp\",\n",
    "          \"filter_equality_value\": acp_nb,\n",
    "          \"additional_text\": \"<br>American Communities: \" + acp_name,\n",
    "          \"shared_yaxes\": \"all\"}\n",
    "\n",
    "custom_scatter_plot(feat_col=\"political_leaning\",\n",
    "                    feat_name=\"Political Leaning\",\n",
    "                    type_data=\"COVID-19\",\n",
    "                    min_val=-0.5, max_val=0.5,\n",
    "                    cmid=0,\n",
    "                    show_figures=False,\n",
    "                    **kwargs)"
   ]
  },
  {
   "cell_type": "markdown",
   "id": "50665c8f",
   "metadata": {},
   "source": [
    "Community type 1 - All Causes"
   ]
  },
  {
   "cell_type": "code",
   "execution_count": null,
   "id": "e86e7947",
   "metadata": {},
   "outputs": [],
   "source": [
    "acp_nb = 1\n",
    "acp_name = county_database[county_database[\"acp\"] == acp_nb][\"acp_name\"].iloc[0]\n",
    "\n",
    "kwargs = {\"filter_equality\": \"acp\",\n",
    "          \"filter_equality_value\": acp_nb,\n",
    "          \"additional_text\": \"<br>American Communities: \" + acp_name,\n",
    "          \"shared_yaxes\": \"all\"}\n",
    "\n",
    "custom_scatter_plot(feat_col=\"political_leaning\",\n",
    "                    feat_name=\"Political Leaning\",\n",
    "                    type_data=\"All Causes\",\n",
    "                    min_val=-0.5, max_val=0.5,\n",
    "                    cmid=0,\n",
    "                    show_figures=False,\n",
    "                    **kwargs)"
   ]
  },
  {
   "cell_type": "markdown",
   "id": "6cb94fbd",
   "metadata": {},
   "source": [
    "Community type 1 - Excess Mortality"
   ]
  },
  {
   "cell_type": "code",
   "execution_count": null,
   "id": "12275854",
   "metadata": {},
   "outputs": [],
   "source": [
    "acp_nb = 1\n",
    "acp_name = county_database[county_database[\"acp\"] == acp_nb][\"acp_name\"].iloc[0]\n",
    "\n",
    "kwargs = {\"filter_equality\": \"acp\",\n",
    "          \"filter_equality_value\": acp_nb,\n",
    "          \"additional_text\": \"<br>American Communities: \" + acp_name,\n",
    "          \"shared_yaxes\": \"all\"}\n",
    "\n",
    "custom_scatter_plot(feat_col=\"political_leaning\",\n",
    "                    feat_name=\"Political Leaning\",\n",
    "                    type_data=\"Excess Mortality\",\n",
    "                    min_val=-0.5, max_val=0.5,\n",
    "                    cmid=0,\n",
    "                    show_figures=False,\n",
    "                    **kwargs)"
   ]
  },
  {
   "cell_type": "markdown",
   "id": "8ddaff36",
   "metadata": {},
   "source": [
    "Community type 2 - COVID-19"
   ]
  },
  {
   "cell_type": "code",
   "execution_count": null,
   "id": "5eba86a1",
   "metadata": {},
   "outputs": [],
   "source": [
    "acp_nb = 2\n",
    "acp_name = county_database[county_database[\"acp\"] == acp_nb][\"acp_name\"].iloc[0]\n",
    "\n",
    "kwargs = {\"filter_equality\": \"acp\",\n",
    "          \"filter_equality_value\": acp_nb,\n",
    "          \"additional_text\": \"<br>American Communities: \" + acp_name,\n",
    "          \"shared_yaxes\": \"all\"}\n",
    "\n",
    "custom_scatter_plot(feat_col=\"political_leaning\",\n",
    "                    feat_name=\"Political Leaning\",\n",
    "                    type_data=\"COVID-19\",\n",
    "                    min_val=-0.5, max_val=0.5,\n",
    "                    cmid=0,\n",
    "                    show_figures=False,\n",
    "                    **kwargs)"
   ]
  },
  {
   "cell_type": "markdown",
   "id": "6fe76a93",
   "metadata": {},
   "source": [
    "Community type 2 - All Causes"
   ]
  },
  {
   "cell_type": "code",
   "execution_count": null,
   "id": "c0ed732a",
   "metadata": {},
   "outputs": [],
   "source": [
    "acp_nb = 2\n",
    "acp_name = county_database[county_database[\"acp\"] == acp_nb][\"acp_name\"].iloc[0]\n",
    "\n",
    "kwargs = {\"filter_equality\": \"acp\",\n",
    "          \"filter_equality_value\": acp_nb,\n",
    "          \"additional_text\": \"<br>American Communities: \" + acp_name,\n",
    "          \"shared_yaxes\": \"all\"}\n",
    "\n",
    "custom_scatter_plot(feat_col=\"political_leaning\",\n",
    "                    feat_name=\"Political Leaning\",\n",
    "                    type_data=\"All Causes\",\n",
    "                    min_val=-0.5, max_val=0.5,\n",
    "                    cmid=0,\n",
    "                    show_figures=False,\n",
    "                    **kwargs)"
   ]
  },
  {
   "cell_type": "markdown",
   "id": "3afe8d97",
   "metadata": {},
   "source": [
    "Community type 2 - Excess Mortality"
   ]
  },
  {
   "cell_type": "code",
   "execution_count": null,
   "id": "91bafb6f",
   "metadata": {},
   "outputs": [],
   "source": [
    "acp_nb = 2\n",
    "acp_name = county_database[county_database[\"acp\"] == acp_nb][\"acp_name\"].iloc[0]\n",
    "\n",
    "kwargs = {\"filter_equality\": \"acp\",\n",
    "          \"filter_equality_value\": acp_nb,\n",
    "          \"additional_text\": \"<br>American Communities: \" + acp_name,\n",
    "          \"shared_yaxes\": \"all\"}\n",
    "\n",
    "custom_scatter_plot(feat_col=\"political_leaning\",\n",
    "                    feat_name=\"Political Leaning\",\n",
    "                    type_data=\"Excess Mortality\",\n",
    "                    min_val=-0.5, max_val=0.5,\n",
    "                    cmid=0,\n",
    "                    show_figures=False,\n",
    "                    **kwargs)"
   ]
  },
  {
   "cell_type": "markdown",
   "id": "583410cf",
   "metadata": {},
   "source": [
    "Community type 3 - COVID-19"
   ]
  },
  {
   "cell_type": "code",
   "execution_count": null,
   "id": "aae04e19",
   "metadata": {},
   "outputs": [],
   "source": [
    "acp_nb = 3\n",
    "acp_name = county_database[county_database[\"acp\"] == acp_nb][\"acp_name\"].iloc[0]\n",
    "\n",
    "kwargs = {\"filter_equality\": \"acp\",\n",
    "          \"filter_equality_value\": acp_nb,\n",
    "          \"additional_text\": \"<br>American Communities: \" + acp_name,\n",
    "          \"shared_yaxes\": \"all\"}\n",
    "\n",
    "custom_scatter_plot(feat_col=\"political_leaning\",\n",
    "                    feat_name=\"Political Leaning\",\n",
    "                    type_data=\"COVID-19\",\n",
    "                    min_val=-0.5, max_val=0.5,\n",
    "                    cmid=0,\n",
    "                    show_figures=False,\n",
    "                    **kwargs)"
   ]
  },
  {
   "cell_type": "markdown",
   "id": "23cc7054",
   "metadata": {},
   "source": [
    "Community type 3 - All Causes"
   ]
  },
  {
   "cell_type": "code",
   "execution_count": null,
   "id": "50ceeb99",
   "metadata": {},
   "outputs": [],
   "source": [
    "acp_nb = 3\n",
    "acp_name = county_database[county_database[\"acp\"] == acp_nb][\"acp_name\"].iloc[0]\n",
    "\n",
    "kwargs = {\"filter_equality\": \"acp\",\n",
    "          \"filter_equality_value\": acp_nb,\n",
    "          \"additional_text\": \"<br>American Communities: \" + acp_name,\n",
    "          \"shared_yaxes\": \"all\"}\n",
    "\n",
    "custom_scatter_plot(feat_col=\"political_leaning\",\n",
    "                    feat_name=\"Political Leaning\",\n",
    "                    type_data=\"All Causes\",\n",
    "                    min_val=-0.5, max_val=0.5,\n",
    "                    cmid=0,\n",
    "                    show_figures=False,\n",
    "                    **kwargs)"
   ]
  },
  {
   "cell_type": "markdown",
   "id": "2e30fbdf",
   "metadata": {},
   "source": [
    "Community type 3 - Excess Mortality"
   ]
  },
  {
   "cell_type": "code",
   "execution_count": null,
   "id": "34eac442",
   "metadata": {},
   "outputs": [],
   "source": [
    "acp_nb = 3\n",
    "acp_name = county_database[county_database[\"acp\"] == acp_nb][\"acp_name\"].iloc[0]\n",
    "\n",
    "kwargs = {\"filter_equality\": \"acp\",\n",
    "          \"filter_equality_value\": acp_nb,\n",
    "          \"additional_text\": \"<br>American Communities: \" + acp_name,\n",
    "          \"shared_yaxes\": \"all\"}\n",
    "\n",
    "custom_scatter_plot(feat_col=\"political_leaning\",\n",
    "                    feat_name=\"Political Leaning\",\n",
    "                    type_data=\"Excess Mortality\",\n",
    "                    min_val=-0.5, max_val=0.5,\n",
    "                    cmid=0,\n",
    "                    show_figures=False,\n",
    "                    **kwargs)"
   ]
  },
  {
   "cell_type": "markdown",
   "id": "95491e85",
   "metadata": {},
   "source": [
    "Community type 4 - COVID-19"
   ]
  },
  {
   "cell_type": "code",
   "execution_count": null,
   "id": "0190cd2a",
   "metadata": {},
   "outputs": [],
   "source": [
    "acp_nb = 4\n",
    "acp_name = county_database[county_database[\"acp\"] == acp_nb][\"acp_name\"].iloc[0]\n",
    "\n",
    "kwargs = {\"filter_equality\": \"acp\",\n",
    "          \"filter_equality_value\": acp_nb,\n",
    "          \"additional_text\": \"<br>American Communities: \" + acp_name,\n",
    "          \"shared_yaxes\": \"all\"}\n",
    "\n",
    "custom_scatter_plot(feat_col=\"political_leaning\",\n",
    "                    feat_name=\"Political Leaning\",\n",
    "                    type_data=\"COVID-19\",\n",
    "                    min_val=-0.5, max_val=0.5,\n",
    "                    cmid=0,\n",
    "                    show_figures=False,\n",
    "                    **kwargs)"
   ]
  },
  {
   "cell_type": "markdown",
   "id": "484d83de",
   "metadata": {},
   "source": [
    "Community type 4 - All Causes"
   ]
  },
  {
   "cell_type": "code",
   "execution_count": null,
   "id": "2dacd47c",
   "metadata": {},
   "outputs": [],
   "source": [
    "acp_nb = 4\n",
    "acp_name = county_database[county_database[\"acp\"] == acp_nb][\"acp_name\"].iloc[0]\n",
    "\n",
    "kwargs = {\"filter_equality\": \"acp\",\n",
    "          \"filter_equality_value\": acp_nb,\n",
    "          \"additional_text\": \"<br>American Communities: \" + acp_name,\n",
    "          \"shared_yaxes\": \"all\"}\n",
    "\n",
    "custom_scatter_plot(feat_col=\"political_leaning\",\n",
    "                    feat_name=\"Political Leaning\",\n",
    "                    type_data=\"All Causes\",\n",
    "                    min_val=-0.5, max_val=0.5,\n",
    "                    cmid=0,\n",
    "                    show_figures=False,\n",
    "                    **kwargs)"
   ]
  },
  {
   "cell_type": "markdown",
   "id": "c34983bc",
   "metadata": {},
   "source": [
    "Community type 4 - Excess Mortality"
   ]
  },
  {
   "cell_type": "code",
   "execution_count": null,
   "id": "f77207fa",
   "metadata": {},
   "outputs": [],
   "source": [
    "acp_nb = 4\n",
    "acp_name = county_database[county_database[\"acp\"] == acp_nb][\"acp_name\"].iloc[0]\n",
    "\n",
    "kwargs = {\"filter_equality\": \"acp\",\n",
    "          \"filter_equality_value\": acp_nb,\n",
    "          \"additional_text\": \"<br>American Communities: \" + acp_name,\n",
    "          \"shared_yaxes\": \"all\"}\n",
    "\n",
    "custom_scatter_plot(feat_col=\"political_leaning\",\n",
    "                    feat_name=\"Political Leaning\",\n",
    "                    type_data=\"Excess Mortality\",\n",
    "                    min_val=-0.5, max_val=0.5,\n",
    "                    cmid=0,\n",
    "                    show_figures=False,\n",
    "                    **kwargs)"
   ]
  },
  {
   "cell_type": "markdown",
   "id": "17511702",
   "metadata": {},
   "source": [
    "Community type 5 - COVID-19"
   ]
  },
  {
   "cell_type": "code",
   "execution_count": null,
   "id": "76aa9e9d",
   "metadata": {},
   "outputs": [],
   "source": [
    "acp_nb = 5\n",
    "acp_name = county_database[county_database[\"acp\"] == acp_nb][\"acp_name\"].iloc[0]\n",
    "\n",
    "kwargs = {\"filter_equality\": \"acp\",\n",
    "          \"filter_equality_value\": acp_nb,\n",
    "          \"additional_text\": \"<br>American Communities: \" + acp_name,\n",
    "          \"shared_yaxes\": \"all\"}\n",
    "\n",
    "custom_scatter_plot(feat_col=\"political_leaning\",\n",
    "                    feat_name=\"Political Leaning\",\n",
    "                    type_data=\"COVID-19\",\n",
    "                    min_val=-0.5, max_val=0.5,\n",
    "                    cmid=0,\n",
    "                    show_figures=False,\n",
    "                    **kwargs)"
   ]
  },
  {
   "cell_type": "markdown",
   "id": "348e7ebd",
   "metadata": {},
   "source": [
    "Community type 5 - All Causes"
   ]
  },
  {
   "cell_type": "code",
   "execution_count": null,
   "id": "cc484d3a",
   "metadata": {},
   "outputs": [],
   "source": [
    "acp_nb = 5\n",
    "acp_name = county_database[county_database[\"acp\"] == acp_nb][\"acp_name\"].iloc[0]\n",
    "\n",
    "kwargs = {\"filter_equality\": \"acp\",\n",
    "          \"filter_equality_value\": acp_nb,\n",
    "          \"additional_text\": \"<br>American Communities: \" + acp_name,\n",
    "          \"shared_yaxes\": \"all\"}\n",
    "\n",
    "custom_scatter_plot(feat_col=\"political_leaning\",\n",
    "                    feat_name=\"Political Leaning\",\n",
    "                    type_data=\"All Causes\",\n",
    "                    min_val=-0.5, max_val=0.5,\n",
    "                    cmid=0,\n",
    "                    show_figures=False,\n",
    "                    **kwargs)"
   ]
  },
  {
   "cell_type": "markdown",
   "id": "912d309b",
   "metadata": {},
   "source": [
    "Community type 5 - Excess Mortality"
   ]
  },
  {
   "cell_type": "code",
   "execution_count": null,
   "id": "b256370c",
   "metadata": {},
   "outputs": [],
   "source": [
    "acp_nb = 5\n",
    "acp_name = county_database[county_database[\"acp\"] == acp_nb][\"acp_name\"].iloc[0]\n",
    "\n",
    "kwargs = {\"filter_equality\": \"acp\",\n",
    "          \"filter_equality_value\": acp_nb,\n",
    "          \"additional_text\": \"<br>American Communities: \" + acp_name,\n",
    "          \"shared_yaxes\": \"all\"}\n",
    "\n",
    "custom_scatter_plot(feat_col=\"political_leaning\",\n",
    "                    feat_name=\"Political Leaning\",\n",
    "                    type_data=\"Excess Mortality\",\n",
    "                    min_val=-0.5, max_val=0.5,\n",
    "                    cmid=0,\n",
    "                    show_figures=False,\n",
    "                    **kwargs)"
   ]
  },
  {
   "cell_type": "markdown",
   "id": "4f455e75",
   "metadata": {},
   "source": [
    "Community type 6 - COVID-19"
   ]
  },
  {
   "cell_type": "code",
   "execution_count": null,
   "id": "cee9ca10",
   "metadata": {},
   "outputs": [],
   "source": [
    "acp_nb = 6\n",
    "acp_name = county_database[county_database[\"acp\"] == acp_nb][\"acp_name\"].iloc[0]\n",
    "\n",
    "kwargs = {\"filter_equality\": \"acp\",\n",
    "          \"filter_equality_value\": acp_nb,\n",
    "          \"additional_text\": \"<br>American Communities: \" + acp_name,\n",
    "          \"shared_yaxes\": \"all\"}\n",
    "\n",
    "custom_scatter_plot(feat_col=\"political_leaning\",\n",
    "                    feat_name=\"Political Leaning\",\n",
    "                    type_data=\"COVID-19\",\n",
    "                    min_val=-0.5, max_val=0.5,\n",
    "                    cmid=0,\n",
    "                    show_figures=False,\n",
    "                    **kwargs)"
   ]
  },
  {
   "cell_type": "markdown",
   "id": "c514e983",
   "metadata": {},
   "source": [
    "Community type 6 - All Causes"
   ]
  },
  {
   "cell_type": "code",
   "execution_count": null,
   "id": "0093730d",
   "metadata": {},
   "outputs": [],
   "source": [
    "acp_nb = 6\n",
    "acp_name = county_database[county_database[\"acp\"] == acp_nb][\"acp_name\"].iloc[0]\n",
    "\n",
    "kwargs = {\"filter_equality\": \"acp\",\n",
    "          \"filter_equality_value\": acp_nb,\n",
    "          \"additional_text\": \"<br>American Communities: \" + acp_name,\n",
    "          \"shared_yaxes\": \"all\"}\n",
    "\n",
    "custom_scatter_plot(feat_col=\"political_leaning\",\n",
    "                    feat_name=\"Political Leaning\",\n",
    "                    type_data=\"All Causes\",\n",
    "                    min_val=-0.5, max_val=0.5,\n",
    "                    cmid=0,\n",
    "                    show_figures=False,\n",
    "                    **kwargs)"
   ]
  },
  {
   "cell_type": "markdown",
   "id": "6660d304",
   "metadata": {},
   "source": [
    "Community type 6 - Excess Mortality"
   ]
  },
  {
   "cell_type": "code",
   "execution_count": null,
   "id": "4ff2a68e",
   "metadata": {},
   "outputs": [],
   "source": [
    "acp_nb = 6\n",
    "acp_name = county_database[county_database[\"acp\"] == acp_nb][\"acp_name\"].iloc[0]\n",
    "\n",
    "kwargs = {\"filter_equality\": \"acp\",\n",
    "          \"filter_equality_value\": acp_nb,\n",
    "          \"additional_text\": \"<br>American Communities: \" + acp_name,\n",
    "          \"shared_yaxes\": \"all\"}\n",
    "\n",
    "custom_scatter_plot(feat_col=\"political_leaning\",\n",
    "                    feat_name=\"Political Leaning\",\n",
    "                    type_data=\"Excess Mortality\",\n",
    "                    min_val=-0.5, max_val=0.5,\n",
    "                    cmid=0,\n",
    "                    show_figures=False,\n",
    "                    **kwargs)"
   ]
  },
  {
   "cell_type": "markdown",
   "id": "d2153a1d",
   "metadata": {},
   "source": [
    "Community type 7 - COVID-19"
   ]
  },
  {
   "cell_type": "code",
   "execution_count": null,
   "id": "d8218f3e",
   "metadata": {},
   "outputs": [],
   "source": [
    "acp_nb = 7\n",
    "acp_name = county_database[county_database[\"acp\"] == acp_nb][\"acp_name\"].iloc[0]\n",
    "\n",
    "kwargs = {\"filter_equality\": \"acp\",\n",
    "          \"filter_equality_value\": acp_nb,\n",
    "          \"additional_text\": \"<br>American Communities: \" + acp_name,\n",
    "          \"shared_yaxes\": \"all\"}\n",
    "\n",
    "custom_scatter_plot(feat_col=\"political_leaning\",\n",
    "                    feat_name=\"Political Leaning\",\n",
    "                    type_data=\"COVID-19\",\n",
    "                    min_val=-0.5, max_val=0.5,\n",
    "                    cmid=0,\n",
    "                    show_figures=False,\n",
    "                    **kwargs)"
   ]
  },
  {
   "cell_type": "markdown",
   "id": "49e9ec6e",
   "metadata": {},
   "source": [
    "Community type 7 - All Causes"
   ]
  },
  {
   "cell_type": "code",
   "execution_count": null,
   "id": "0126e052",
   "metadata": {},
   "outputs": [],
   "source": [
    "acp_nb = 7\n",
    "acp_name = county_database[county_database[\"acp\"] == acp_nb][\"acp_name\"].iloc[0]\n",
    "\n",
    "kwargs = {\"filter_equality\": \"acp\",\n",
    "          \"filter_equality_value\": acp_nb,\n",
    "          \"additional_text\": \"<br>American Communities: \" + acp_name,\n",
    "          \"shared_yaxes\": \"all\"}\n",
    "\n",
    "custom_scatter_plot(feat_col=\"political_leaning\",\n",
    "                    feat_name=\"Political Leaning\",\n",
    "                    type_data=\"All Causes\",\n",
    "                    min_val=-0.5, max_val=0.5,\n",
    "                    cmid=0,\n",
    "                    show_figures=False,\n",
    "                    **kwargs)"
   ]
  },
  {
   "cell_type": "markdown",
   "id": "bfec73a6",
   "metadata": {},
   "source": [
    "Community type 7 - Excess Mortality"
   ]
  },
  {
   "cell_type": "code",
   "execution_count": null,
   "id": "2733e9fc",
   "metadata": {},
   "outputs": [],
   "source": [
    "acp_nb = 7\n",
    "acp_name = county_database[county_database[\"acp\"] == acp_nb][\"acp_name\"].iloc[0]\n",
    "\n",
    "kwargs = {\"filter_equality\": \"acp\",\n",
    "          \"filter_equality_value\": acp_nb,\n",
    "          \"additional_text\": \"<br>American Communities: \" + acp_name,\n",
    "          \"shared_yaxes\": \"all\"}\n",
    "\n",
    "custom_scatter_plot(feat_col=\"political_leaning\",\n",
    "                    feat_name=\"Political Leaning\",\n",
    "                    type_data=\"Excess Mortality\",\n",
    "                    min_val=-0.5, max_val=0.5,\n",
    "                    cmid=0,\n",
    "                    show_figures=False,\n",
    "                    **kwargs)"
   ]
  },
  {
   "cell_type": "markdown",
   "id": "c3acb9ab",
   "metadata": {},
   "source": [
    "Community type 8 - COVID-19"
   ]
  },
  {
   "cell_type": "code",
   "execution_count": null,
   "id": "52a7274c",
   "metadata": {},
   "outputs": [],
   "source": [
    "acp_nb = 8\n",
    "acp_name = county_database[county_database[\"acp\"] == acp_nb][\"acp_name\"].iloc[0]\n",
    "\n",
    "kwargs = {\"filter_equality\": \"acp\",\n",
    "          \"filter_equality_value\": acp_nb,\n",
    "          \"additional_text\": \"<br>American Communities: \" + acp_name,\n",
    "          \"shared_yaxes\": \"all\"}\n",
    "\n",
    "custom_scatter_plot(feat_col=\"political_leaning\",\n",
    "                    feat_name=\"Political Leaning\",\n",
    "                    type_data=\"COVID-19\",\n",
    "                    min_val=-0.5, max_val=0.5,\n",
    "                    cmid=0,\n",
    "                    show_figures=False,\n",
    "                    **kwargs)"
   ]
  },
  {
   "cell_type": "markdown",
   "id": "475a3688",
   "metadata": {},
   "source": [
    "Community type 8 - All Causes"
   ]
  },
  {
   "cell_type": "code",
   "execution_count": null,
   "id": "9df23132",
   "metadata": {},
   "outputs": [],
   "source": [
    "acp_nb = 8\n",
    "acp_name = county_database[county_database[\"acp\"] == acp_nb][\"acp_name\"].iloc[0]\n",
    "\n",
    "kwargs = {\"filter_equality\": \"acp\",\n",
    "          \"filter_equality_value\": acp_nb,\n",
    "          \"additional_text\": \"<br>American Communities: \" + acp_name,\n",
    "          \"shared_yaxes\": \"all\"}\n",
    "\n",
    "custom_scatter_plot(feat_col=\"political_leaning\",\n",
    "                    feat_name=\"Political Leaning\",\n",
    "                    type_data=\"All Causes\",\n",
    "                    min_val=-0.5, max_val=0.5,\n",
    "                    cmid=0,\n",
    "                    show_figures=False,\n",
    "                    **kwargs)"
   ]
  },
  {
   "cell_type": "markdown",
   "id": "c0b3e412",
   "metadata": {},
   "source": [
    "Community type 8 - Excess Mortality"
   ]
  },
  {
   "cell_type": "code",
   "execution_count": null,
   "id": "af3dde6a",
   "metadata": {},
   "outputs": [],
   "source": [
    "acp_nb = 8\n",
    "acp_name = county_database[county_database[\"acp\"] == acp_nb][\"acp_name\"].iloc[0]\n",
    "\n",
    "kwargs = {\"filter_equality\": \"acp\",\n",
    "          \"filter_equality_value\": acp_nb,\n",
    "          \"additional_text\": \"<br>American Communities: \" + acp_name,\n",
    "          \"shared_yaxes\": \"all\"}\n",
    "\n",
    "custom_scatter_plot(feat_col=\"political_leaning\",\n",
    "                    feat_name=\"Political Leaning\",\n",
    "                    type_data=\"Excess Mortality\",\n",
    "                    min_val=-0.5, max_val=0.5,\n",
    "                    cmid=0,\n",
    "                    show_figures=False,\n",
    "                    **kwargs)"
   ]
  },
  {
   "cell_type": "markdown",
   "id": "430b2682",
   "metadata": {},
   "source": [
    "Community type 9 - COVID-19"
   ]
  },
  {
   "cell_type": "code",
   "execution_count": null,
   "id": "19c8b36c",
   "metadata": {},
   "outputs": [],
   "source": [
    "acp_nb = 9\n",
    "acp_name = county_database[county_database[\"acp\"] == acp_nb][\"acp_name\"].iloc[0]\n",
    "\n",
    "kwargs = {\"filter_equality\": \"acp\",\n",
    "          \"filter_equality_value\": acp_nb,\n",
    "          \"additional_text\": \"<br>American Communities: \" + acp_name,\n",
    "          \"shared_yaxes\": \"all\"}\n",
    "\n",
    "custom_scatter_plot(feat_col=\"political_leaning\",\n",
    "                    feat_name=\"Political Leaning\",\n",
    "                    type_data=\"COVID-19\",\n",
    "                    min_val=-0.5, max_val=0.5,\n",
    "                    cmid=0,\n",
    "                    show_figures=False,\n",
    "                    **kwargs)"
   ]
  },
  {
   "cell_type": "markdown",
   "id": "63c57eb9",
   "metadata": {},
   "source": [
    "Community type 9 - All Causes"
   ]
  },
  {
   "cell_type": "code",
   "execution_count": null,
   "id": "b1ceff9f",
   "metadata": {},
   "outputs": [],
   "source": [
    "acp_nb = 9\n",
    "acp_name = county_database[county_database[\"acp\"] == acp_nb][\"acp_name\"].iloc[0]\n",
    "\n",
    "kwargs = {\"filter_equality\": \"acp\",\n",
    "          \"filter_equality_value\": acp_nb,\n",
    "          \"additional_text\": \"<br>American Communities: \" + acp_name,\n",
    "          \"shared_yaxes\": \"all\"}\n",
    "\n",
    "custom_scatter_plot(feat_col=\"political_leaning\",\n",
    "                    feat_name=\"Political Leaning\",\n",
    "                    type_data=\"All Causes\",\n",
    "                    min_val=-0.5, max_val=0.5,\n",
    "                    cmid=0,\n",
    "                    show_figures=False,\n",
    "                    **kwargs)"
   ]
  },
  {
   "cell_type": "markdown",
   "id": "3e8e0a4a",
   "metadata": {},
   "source": [
    "Community type 9 - Excess Mortality"
   ]
  },
  {
   "cell_type": "code",
   "execution_count": null,
   "id": "967189a1",
   "metadata": {},
   "outputs": [],
   "source": [
    "acp_nb = 9\n",
    "acp_name = county_database[county_database[\"acp\"] == acp_nb][\"acp_name\"].iloc[0]\n",
    "\n",
    "kwargs = {\"filter_equality\": \"acp\",\n",
    "          \"filter_equality_value\": acp_nb,\n",
    "          \"additional_text\": \"<br>American Communities: \" + acp_name,\n",
    "          \"shared_yaxes\": \"all\"}\n",
    "\n",
    "custom_scatter_plot(feat_col=\"political_leaning\",\n",
    "                    feat_name=\"Political Leaning\",\n",
    "                    type_data=\"Excess Mortality\",\n",
    "                    min_val=-0.5, max_val=0.5,\n",
    "                    cmid=0,\n",
    "                    show_figures=False,\n",
    "                    **kwargs)"
   ]
  },
  {
   "cell_type": "markdown",
   "id": "2f574848",
   "metadata": {},
   "source": [
    "Community type 10 - COVID-19"
   ]
  },
  {
   "cell_type": "code",
   "execution_count": null,
   "id": "57944103",
   "metadata": {},
   "outputs": [],
   "source": [
    "acp_nb = 10\n",
    "acp_name = county_database[county_database[\"acp\"] == acp_nb][\"acp_name\"].iloc[0]\n",
    "\n",
    "kwargs = {\"filter_equality\": \"acp\",\n",
    "          \"filter_equality_value\": acp_nb,\n",
    "          \"additional_text\": \"<br>American Communities: \" + acp_name,\n",
    "          \"shared_yaxes\": \"all\"}\n",
    "\n",
    "custom_scatter_plot(feat_col=\"political_leaning\",\n",
    "                    feat_name=\"Political Leaning\",\n",
    "                    type_data=\"COVID-19\",\n",
    "                    min_val=-0.5, max_val=0.5,\n",
    "                    cmid=0,\n",
    "                    show_figures=False,\n",
    "                    **kwargs)"
   ]
  },
  {
   "cell_type": "markdown",
   "id": "4c3498a1",
   "metadata": {},
   "source": [
    "Community type 10 - All Causes"
   ]
  },
  {
   "cell_type": "code",
   "execution_count": null,
   "id": "ede1c7a9",
   "metadata": {},
   "outputs": [],
   "source": [
    "acp_nb = 10\n",
    "acp_name = county_database[county_database[\"acp\"] == acp_nb][\"acp_name\"].iloc[0]\n",
    "\n",
    "kwargs = {\"filter_equality\": \"acp\",\n",
    "          \"filter_equality_value\": acp_nb,\n",
    "          \"additional_text\": \"<br>American Communities: \" + acp_name,\n",
    "          \"shared_yaxes\": \"all\"}\n",
    "\n",
    "custom_scatter_plot(feat_col=\"political_leaning\",\n",
    "                    feat_name=\"Political Leaning\",\n",
    "                    type_data=\"All Causes\",\n",
    "                    min_val=-0.5, max_val=0.5,\n",
    "                    cmid=0,\n",
    "                    show_figures=False,\n",
    "                    **kwargs)"
   ]
  },
  {
   "cell_type": "markdown",
   "id": "6d4907da",
   "metadata": {},
   "source": [
    "Community type 10 - Excess Mortality"
   ]
  },
  {
   "cell_type": "code",
   "execution_count": null,
   "id": "de30962f",
   "metadata": {},
   "outputs": [],
   "source": [
    "acp_nb = 10\n",
    "acp_name = county_database[county_database[\"acp\"] == acp_nb][\"acp_name\"].iloc[0]\n",
    "\n",
    "kwargs = {\"filter_equality\": \"acp\",\n",
    "          \"filter_equality_value\": acp_nb,\n",
    "          \"additional_text\": \"<br>American Communities: \" + acp_name,\n",
    "          \"shared_yaxes\": \"all\"}\n",
    "\n",
    "custom_scatter_plot(feat_col=\"political_leaning\",\n",
    "                    feat_name=\"Political Leaning\",\n",
    "                    type_data=\"Excess Mortality\",\n",
    "                    min_val=-0.5, max_val=0.5,\n",
    "                    cmid=0,\n",
    "                    show_figures=False,\n",
    "                    **kwargs)"
   ]
  },
  {
   "cell_type": "markdown",
   "id": "934b4b56",
   "metadata": {},
   "source": [
    "Community type 11 - COVID-19"
   ]
  },
  {
   "cell_type": "code",
   "execution_count": null,
   "id": "5c830265",
   "metadata": {},
   "outputs": [],
   "source": [
    "acp_nb = 11\n",
    "acp_name = county_database[county_database[\"acp\"] == acp_nb][\"acp_name\"].iloc[0]\n",
    "\n",
    "kwargs = {\"filter_equality\": \"acp\",\n",
    "          \"filter_equality_value\": acp_nb,\n",
    "          \"additional_text\": \"<br>American Communities: \" + acp_name,\n",
    "          \"shared_yaxes\": \"all\"}\n",
    "\n",
    "custom_scatter_plot(feat_col=\"political_leaning\",\n",
    "                    feat_name=\"Political Leaning\",\n",
    "                    type_data=\"COVID-19\",\n",
    "                    min_val=-0.5, max_val=0.5,\n",
    "                    cmid=0,\n",
    "                    show_figures=False,\n",
    "                    **kwargs)"
   ]
  },
  {
   "cell_type": "markdown",
   "id": "776f1533",
   "metadata": {},
   "source": [
    "Community type 11 - All Causes"
   ]
  },
  {
   "cell_type": "code",
   "execution_count": null,
   "id": "742de5ac",
   "metadata": {},
   "outputs": [],
   "source": [
    "acp_nb = 11\n",
    "acp_name = county_database[county_database[\"acp\"] == acp_nb][\"acp_name\"].iloc[0]\n",
    "\n",
    "kwargs = {\"filter_equality\": \"acp\",\n",
    "          \"filter_equality_value\": acp_nb,\n",
    "          \"additional_text\": \"<br>American Communities: \" + acp_name,\n",
    "          \"shared_yaxes\": \"all\"}\n",
    "\n",
    "custom_scatter_plot(feat_col=\"political_leaning\",\n",
    "                    feat_name=\"Political Leaning\",\n",
    "                    type_data=\"All Causes\",\n",
    "                    min_val=-0.5, max_val=0.5,\n",
    "                    cmid=0,\n",
    "                    show_figures=False,\n",
    "                    **kwargs)"
   ]
  },
  {
   "cell_type": "markdown",
   "id": "f3eea34b",
   "metadata": {},
   "source": [
    "Community type 11 - Excess Mortality"
   ]
  },
  {
   "cell_type": "code",
   "execution_count": null,
   "id": "6184e58b",
   "metadata": {},
   "outputs": [],
   "source": [
    "acp_nb = 11\n",
    "acp_name = county_database[county_database[\"acp\"] == acp_nb][\"acp_name\"].iloc[0]\n",
    "\n",
    "kwargs = {\"filter_equality\": \"acp\",\n",
    "          \"filter_equality_value\": acp_nb,\n",
    "          \"additional_text\": \"<br>American Communities: \" + acp_name,\n",
    "          \"shared_yaxes\": \"all\"}\n",
    "\n",
    "custom_scatter_plot(feat_col=\"political_leaning\",\n",
    "                    feat_name=\"Political Leaning\",\n",
    "                    type_data=\"Excess Mortality\",\n",
    "                    min_val=-0.5, max_val=0.5,\n",
    "                    cmid=0,\n",
    "                    show_figures=False,\n",
    "                    **kwargs)"
   ]
  },
  {
   "cell_type": "markdown",
   "id": "75e1bf0e",
   "metadata": {},
   "source": [
    "Community type 12 - COVID-19"
   ]
  },
  {
   "cell_type": "code",
   "execution_count": null,
   "id": "0bc8c742",
   "metadata": {},
   "outputs": [],
   "source": [
    "acp_nb = 12\n",
    "acp_name = county_database[county_database[\"acp\"] == acp_nb][\"acp_name\"].iloc[0]\n",
    "\n",
    "kwargs = {\"filter_equality\": \"acp\",\n",
    "          \"filter_equality_value\": acp_nb,\n",
    "          \"additional_text\": \"<br>American Communities: \" + acp_name,\n",
    "          \"shared_yaxes\": \"all\"}\n",
    "\n",
    "custom_scatter_plot(feat_col=\"political_leaning\",\n",
    "                    feat_name=\"Political Leaning\",\n",
    "                    type_data=\"COVID-19\",\n",
    "                    min_val=-0.5, max_val=0.5,\n",
    "                    cmid=0,\n",
    "                    show_figures=False,\n",
    "                    **kwargs)"
   ]
  },
  {
   "cell_type": "markdown",
   "id": "ab28e245",
   "metadata": {},
   "source": [
    "Community type 12 - All Causes"
   ]
  },
  {
   "cell_type": "code",
   "execution_count": null,
   "id": "ea710b1e",
   "metadata": {},
   "outputs": [],
   "source": [
    "acp_nb = 12\n",
    "acp_name = county_database[county_database[\"acp\"] == acp_nb][\"acp_name\"].iloc[0]\n",
    "\n",
    "kwargs = {\"filter_equality\": \"acp\",\n",
    "          \"filter_equality_value\": acp_nb,\n",
    "          \"additional_text\": \"<br>American Communities: \" + acp_name,\n",
    "          \"shared_yaxes\": \"all\"}\n",
    "\n",
    "custom_scatter_plot(feat_col=\"political_leaning\",\n",
    "                    feat_name=\"Political Leaning\",\n",
    "                    type_data=\"All Causes\",\n",
    "                    min_val=-0.5, max_val=0.5,\n",
    "                    cmid=0,\n",
    "                    show_figures=False,\n",
    "                    **kwargs)"
   ]
  },
  {
   "cell_type": "markdown",
   "id": "fdf78ac9",
   "metadata": {},
   "source": [
    "Community type 12 - Excess Mortality"
   ]
  },
  {
   "cell_type": "code",
   "execution_count": null,
   "id": "74fd0f33",
   "metadata": {},
   "outputs": [],
   "source": [
    "acp_nb = 12\n",
    "acp_name = county_database[county_database[\"acp\"] == acp_nb][\"acp_name\"].iloc[0]\n",
    "\n",
    "kwargs = {\"filter_equality\": \"acp\",\n",
    "          \"filter_equality_value\": acp_nb,\n",
    "          \"additional_text\": \"<br>American Communities: \" + acp_name,\n",
    "          \"shared_yaxes\": \"all\"}\n",
    "\n",
    "custom_scatter_plot(feat_col=\"political_leaning\",\n",
    "                    feat_name=\"Political Leaning\",\n",
    "                    type_data=\"Excess Mortality\",\n",
    "                    min_val=-0.5, max_val=0.5,\n",
    "                    cmid=0,\n",
    "                    show_figures=False,\n",
    "                    **kwargs)"
   ]
  },
  {
   "cell_type": "markdown",
   "id": "18d11226",
   "metadata": {},
   "source": [
    "Community type 13 - COVID-19"
   ]
  },
  {
   "cell_type": "code",
   "execution_count": null,
   "id": "19648440",
   "metadata": {},
   "outputs": [],
   "source": [
    "acp_nb = 13\n",
    "acp_name = county_database[county_database[\"acp\"] == acp_nb][\"acp_name\"].iloc[0]\n",
    "\n",
    "kwargs = {\"filter_equality\": \"acp\",\n",
    "          \"filter_equality_value\": acp_nb,\n",
    "          \"additional_text\": \"<br>American Communities: \" + acp_name,\n",
    "          \"shared_yaxes\": \"all\"}\n",
    "\n",
    "custom_scatter_plot(feat_col=\"political_leaning\",\n",
    "                    feat_name=\"Political Leaning\",\n",
    "                    type_data=\"COVID-19\",\n",
    "                    min_val=-0.5, max_val=0.5,\n",
    "                    cmid=0,\n",
    "                    show_figures=False,\n",
    "                    **kwargs)"
   ]
  },
  {
   "cell_type": "markdown",
   "id": "05ec57cf",
   "metadata": {},
   "source": [
    "Community type 13 - All Causes"
   ]
  },
  {
   "cell_type": "code",
   "execution_count": null,
   "id": "72264579",
   "metadata": {},
   "outputs": [],
   "source": [
    "acp_nb = 13\n",
    "acp_name = county_database[county_database[\"acp\"] == acp_nb][\"acp_name\"].iloc[0]\n",
    "\n",
    "kwargs = {\"filter_equality\": \"acp\",\n",
    "          \"filter_equality_value\": acp_nb,\n",
    "          \"additional_text\": \"<br>American Communities: \" + acp_name,\n",
    "          \"shared_yaxes\": \"all\"}\n",
    "\n",
    "custom_scatter_plot(feat_col=\"political_leaning\",\n",
    "                    feat_name=\"Political Leaning\",\n",
    "                    type_data=\"All Causes\",\n",
    "                    min_val=-0.5, max_val=0.5,\n",
    "                    cmid=0,\n",
    "                    show_figures=False,\n",
    "                    **kwargs)"
   ]
  },
  {
   "cell_type": "markdown",
   "id": "63f583e3",
   "metadata": {},
   "source": [
    "Community type 13 - Excess Mortality"
   ]
  },
  {
   "cell_type": "code",
   "execution_count": null,
   "id": "2a29b7b0",
   "metadata": {},
   "outputs": [],
   "source": [
    "acp_nb = 13\n",
    "acp_name = county_database[county_database[\"acp\"] == acp_nb][\"acp_name\"].iloc[0]\n",
    "\n",
    "kwargs = {\"filter_equality\": \"acp\",\n",
    "          \"filter_equality_value\": acp_nb,\n",
    "          \"additional_text\": \"<br>American Communities: \" + acp_name,\n",
    "          \"shared_yaxes\": \"all\"}\n",
    "\n",
    "custom_scatter_plot(feat_col=\"political_leaning\",\n",
    "                    feat_name=\"Political Leaning\",\n",
    "                    type_data=\"Excess Mortality\",\n",
    "                    min_val=-0.5, max_val=0.5,\n",
    "                    cmid=0,\n",
    "                    show_figures=False,\n",
    "                    **kwargs)"
   ]
  },
  {
   "cell_type": "markdown",
   "id": "4fda2022",
   "metadata": {},
   "source": [
    "Community type 14 - COVID-19"
   ]
  },
  {
   "cell_type": "code",
   "execution_count": null,
   "id": "e1bc9652",
   "metadata": {},
   "outputs": [],
   "source": [
    "acp_nb = 14\n",
    "acp_name = county_database[county_database[\"acp\"] == acp_nb][\"acp_name\"].iloc[0]\n",
    "\n",
    "kwargs = {\"filter_equality\": \"acp\",\n",
    "          \"filter_equality_value\": acp_nb,\n",
    "          \"additional_text\": \"<br>American Communities: \" + acp_name,\n",
    "          \"shared_yaxes\": \"all\"}\n",
    "\n",
    "custom_scatter_plot(feat_col=\"political_leaning\",\n",
    "                    feat_name=\"Political Leaning\",\n",
    "                    type_data=\"COVID-19\",\n",
    "                    min_val=-0.5, max_val=0.5,\n",
    "                    cmid=0,\n",
    "                    show_figures=False,\n",
    "                    **kwargs)"
   ]
  },
  {
   "cell_type": "markdown",
   "id": "f3c65e7d",
   "metadata": {},
   "source": [
    "Community type 14 - All Causes"
   ]
  },
  {
   "cell_type": "code",
   "execution_count": null,
   "id": "ab1ff1a1",
   "metadata": {},
   "outputs": [],
   "source": [
    "acp_nb = 14\n",
    "acp_name = county_database[county_database[\"acp\"] == acp_nb][\"acp_name\"].iloc[0]\n",
    "\n",
    "kwargs = {\"filter_equality\": \"acp\",\n",
    "          \"filter_equality_value\": acp_nb,\n",
    "          \"additional_text\": \"<br>American Communities: \" + acp_name,\n",
    "          \"shared_yaxes\": \"all\"}\n",
    "\n",
    "custom_scatter_plot(feat_col=\"political_leaning\",\n",
    "                    feat_name=\"Political Leaning\",\n",
    "                    type_data=\"All Causes\",\n",
    "                    min_val=-0.5, max_val=0.5,\n",
    "                    cmid=0,\n",
    "                    show_figures=False,\n",
    "                    **kwargs)"
   ]
  },
  {
   "cell_type": "markdown",
   "id": "149123df",
   "metadata": {},
   "source": [
    "Community type 14 - Excess Mortality"
   ]
  },
  {
   "cell_type": "code",
   "execution_count": null,
   "id": "510e261a",
   "metadata": {},
   "outputs": [],
   "source": [
    "acp_nb = 14\n",
    "acp_name = county_database[county_database[\"acp\"] == acp_nb][\"acp_name\"].iloc[0]\n",
    "\n",
    "kwargs = {\"filter_equality\": \"acp\",\n",
    "          \"filter_equality_value\": acp_nb,\n",
    "          \"additional_text\": \"<br>American Communities: \" + acp_name,\n",
    "          \"shared_yaxes\": \"all\"}\n",
    "\n",
    "custom_scatter_plot(feat_col=\"political_leaning\",\n",
    "                    feat_name=\"Political Leaning\",\n",
    "                    type_data=\"Excess Mortality\",\n",
    "                    min_val=-0.5, max_val=0.5,\n",
    "                    cmid=0,\n",
    "                    show_figures=False,\n",
    "                    **kwargs)"
   ]
  },
  {
   "cell_type": "markdown",
   "id": "3da610f6",
   "metadata": {},
   "source": [
    "Community type 15 - COVID-19"
   ]
  },
  {
   "cell_type": "code",
   "execution_count": null,
   "id": "8f639dd7",
   "metadata": {},
   "outputs": [],
   "source": [
    "acp_nb = 15\n",
    "acp_name = county_database[county_database[\"acp\"] == acp_nb][\"acp_name\"].iloc[0]\n",
    "\n",
    "kwargs = {\"filter_equality\": \"acp\",\n",
    "          \"filter_equality_value\": acp_nb,\n",
    "          \"additional_text\": \"<br>American Communities: \" + acp_name,\n",
    "          \"shared_yaxes\": \"all\"}\n",
    "\n",
    "custom_scatter_plot(feat_col=\"political_leaning\",\n",
    "                    feat_name=\"Political Leaning\",\n",
    "                    type_data=\"COVID-19\",\n",
    "                    min_val=-0.5, max_val=0.5,\n",
    "                    cmid=0,\n",
    "                    show_figures=False,\n",
    "                    **kwargs)"
   ]
  },
  {
   "cell_type": "markdown",
   "id": "ff2b89e1",
   "metadata": {},
   "source": [
    "Community type 15 - All Causes"
   ]
  },
  {
   "cell_type": "code",
   "execution_count": null,
   "id": "9a48ee5e",
   "metadata": {},
   "outputs": [],
   "source": [
    "acp_nb = 15\n",
    "acp_name = county_database[county_database[\"acp\"] == acp_nb][\"acp_name\"].iloc[0]\n",
    "\n",
    "kwargs = {\"filter_equality\": \"acp\",\n",
    "          \"filter_equality_value\": acp_nb,\n",
    "          \"additional_text\": \"<br>American Communities: \" + acp_name,\n",
    "          \"shared_yaxes\": \"all\"}\n",
    "\n",
    "custom_scatter_plot(feat_col=\"political_leaning\",\n",
    "                    feat_name=\"Political Leaning\",\n",
    "                    type_data=\"All Causes\",\n",
    "                    min_val=-0.5, max_val=0.5,\n",
    "                    cmid=0,\n",
    "                    show_figures=False,\n",
    "                    **kwargs)"
   ]
  },
  {
   "cell_type": "markdown",
   "id": "4879d0c2",
   "metadata": {},
   "source": [
    "Community type 15 - Excess Mortality"
   ]
  },
  {
   "cell_type": "code",
   "execution_count": null,
   "id": "af6e35c7",
   "metadata": {},
   "outputs": [],
   "source": [
    "acp_nb = 15\n",
    "acp_name = county_database[county_database[\"acp\"] == acp_nb][\"acp_name\"].iloc[0]\n",
    "\n",
    "kwargs = {\"filter_equality\": \"acp\",\n",
    "          \"filter_equality_value\": acp_nb,\n",
    "          \"additional_text\": \"<br>American Communities: \" + acp_name,\n",
    "          \"shared_yaxes\": \"all\"}\n",
    "\n",
    "custom_scatter_plot(feat_col=\"political_leaning\",\n",
    "                    feat_name=\"Political Leaning\",\n",
    "                    type_data=\"Excess Mortality\",\n",
    "                    min_val=-0.5, max_val=0.5,\n",
    "                    cmid=0,\n",
    "                    show_figures=False,\n",
    "                    **kwargs)"
   ]
  },
  {
   "cell_type": "markdown",
   "id": "80a79339",
   "metadata": {},
   "source": [
    "### Obesity %"
   ]
  },
  {
   "cell_type": "markdown",
   "id": "8e816209",
   "metadata": {},
   "source": [
    "Box plot"
   ]
  },
  {
   "cell_type": "code",
   "execution_count": null,
   "id": "9565b3bb",
   "metadata": {},
   "outputs": [],
   "source": [
    "fig = go.Figure()\n",
    "for acp_nb in range(1, 16):\n",
    "    acp_name = acp_dic[acp_nb]\n",
    "    fig.add_trace(go.Box(y=county_database[county_database[\"acp\"] == acp_nb][\"obesity\"],\n",
    "                         name=acp_name,\n",
    "                         marker_color=community_color_dic[acp_name]))\n",
    "\n",
    "fig.update_layout(title_text=\"Box Plot Obesity % - Community level\",\n",
    "                  yaxis_title=\"Obesity %\",\n",
    "                  width=1500, height=500)\n",
    "fig.write_image(\"Plot/Analysis/boxplot_obesity_communities.png\")"
   ]
  },
  {
   "cell_type": "markdown",
   "id": "eee1fc0b",
   "metadata": {},
   "source": [
    "Community type 1 - COVID-19"
   ]
  },
  {
   "cell_type": "code",
   "execution_count": null,
   "id": "ededba5c",
   "metadata": {},
   "outputs": [],
   "source": [
    "acp_nb = 1\n",
    "acp_name = county_database[county_database[\"acp\"] == acp_nb][\"acp_name\"].iloc[0]\n",
    "\n",
    "kwargs = {\"filter_equality\": \"acp\",\n",
    "          \"filter_equality_value\": acp_nb,\n",
    "          \"additional_text\": \"<br>American Communities: \" + acp_name,\n",
    "          \"shared_yaxes\": \"all\"}\n",
    "\n",
    "custom_scatter_plot(feat_col=\"obesity\",\n",
    "                    feat_name=\"Obesity %\",\n",
    "                    type_data=\"COVID-19\",\n",
    "                    min_val=None, max_val=None,\n",
    "                    cmid=35,\n",
    "                    show_figures=False,\n",
    "                    **kwargs)"
   ]
  },
  {
   "cell_type": "markdown",
   "id": "84024a61",
   "metadata": {},
   "source": [
    "Community type 1 - All Causes"
   ]
  },
  {
   "cell_type": "code",
   "execution_count": null,
   "id": "8046e8e2",
   "metadata": {},
   "outputs": [],
   "source": [
    "acp_nb = 1\n",
    "acp_name = county_database[county_database[\"acp\"] == acp_nb][\"acp_name\"].iloc[0]\n",
    "\n",
    "kwargs = {\"filter_equality\": \"acp\",\n",
    "          \"filter_equality_value\": acp_nb,\n",
    "          \"additional_text\": \"<br>American Communities: \" + acp_name,\n",
    "          \"shared_yaxes\": \"all\"}\n",
    "\n",
    "custom_scatter_plot(feat_col=\"obesity\",\n",
    "                    feat_name=\"Obesity %\",\n",
    "                    type_data=\"All Causes\",\n",
    "                    min_val=None, max_val=None,\n",
    "                    cmid=35,\n",
    "                    show_figures=False,\n",
    "                    **kwargs)"
   ]
  },
  {
   "cell_type": "markdown",
   "id": "7e6517e1",
   "metadata": {},
   "source": [
    "Community type 1 - Excess Mortality"
   ]
  },
  {
   "cell_type": "code",
   "execution_count": null,
   "id": "87e8b680",
   "metadata": {},
   "outputs": [],
   "source": [
    "acp_nb = 1\n",
    "acp_name = county_database[county_database[\"acp\"] == acp_nb][\"acp_name\"].iloc[0]\n",
    "\n",
    "kwargs = {\"filter_equality\": \"acp\",\n",
    "          \"filter_equality_value\": acp_nb,\n",
    "          \"additional_text\": \"<br>American Communities: \" + acp_name,\n",
    "          \"shared_yaxes\": \"all\"}\n",
    "\n",
    "custom_scatter_plot(feat_col=\"obesity\",\n",
    "                    feat_name=\"Obesity %\",\n",
    "                    type_data=\"Excess Mortality\",\n",
    "                    min_val=None, max_val=None,\n",
    "                    cmid=35,\n",
    "                    show_figures=False,\n",
    "                    **kwargs)"
   ]
  },
  {
   "cell_type": "markdown",
   "id": "2bc9f984",
   "metadata": {},
   "source": [
    "Community type 2 - COVID-19"
   ]
  },
  {
   "cell_type": "code",
   "execution_count": null,
   "id": "ad113fcf",
   "metadata": {},
   "outputs": [],
   "source": [
    "acp_nb = 2\n",
    "acp_name = county_database[county_database[\"acp\"] == acp_nb][\"acp_name\"].iloc[0]\n",
    "\n",
    "kwargs = {\"filter_equality\": \"acp\",\n",
    "          \"filter_equality_value\": acp_nb,\n",
    "          \"additional_text\": \"<br>American Communities: \" + acp_name,\n",
    "          \"shared_yaxes\": \"all\"}\n",
    "\n",
    "custom_scatter_plot(feat_col=\"obesity\",\n",
    "                    feat_name=\"Obesity %\",\n",
    "                    type_data=\"COVID-19\",\n",
    "                    min_val=None, max_val=None,\n",
    "                    cmid=35,\n",
    "                    show_figures=False,\n",
    "                    **kwargs)"
   ]
  },
  {
   "cell_type": "markdown",
   "id": "fad1096c",
   "metadata": {},
   "source": [
    "Community type 2 - All Causes"
   ]
  },
  {
   "cell_type": "code",
   "execution_count": null,
   "id": "d306ada7",
   "metadata": {},
   "outputs": [],
   "source": [
    "acp_nb = 2\n",
    "acp_name = county_database[county_database[\"acp\"] == acp_nb][\"acp_name\"].iloc[0]\n",
    "\n",
    "kwargs = {\"filter_equality\": \"acp\",\n",
    "          \"filter_equality_value\": acp_nb,\n",
    "          \"additional_text\": \"<br>American Communities: \" + acp_name,\n",
    "          \"shared_yaxes\": \"all\"}\n",
    "\n",
    "custom_scatter_plot(feat_col=\"obesity\",\n",
    "                    feat_name=\"Obesity %\",\n",
    "                    type_data=\"All Causes\",\n",
    "                    min_val=None, max_val=None,\n",
    "                    cmid=35,\n",
    "                    show_figures=False,\n",
    "                    **kwargs)"
   ]
  },
  {
   "cell_type": "markdown",
   "id": "9dd4f254",
   "metadata": {},
   "source": [
    "Community type 2 - Excess Mortality"
   ]
  },
  {
   "cell_type": "code",
   "execution_count": null,
   "id": "60bceb9a",
   "metadata": {},
   "outputs": [],
   "source": [
    "acp_nb = 2\n",
    "acp_name = county_database[county_database[\"acp\"] == acp_nb][\"acp_name\"].iloc[0]\n",
    "\n",
    "kwargs = {\"filter_equality\": \"acp\",\n",
    "          \"filter_equality_value\": acp_nb,\n",
    "          \"additional_text\": \"<br>American Communities: \" + acp_name,\n",
    "          \"shared_yaxes\": \"all\"}\n",
    "\n",
    "custom_scatter_plot(feat_col=\"obesity\",\n",
    "                    feat_name=\"Obesity %\",\n",
    "                    type_data=\"Excess Mortality\",\n",
    "                    min_val=None, max_val=None,\n",
    "                    cmid=35,\n",
    "                    show_figures=False,\n",
    "                    **kwargs)"
   ]
  },
  {
   "cell_type": "markdown",
   "id": "c874cc8b",
   "metadata": {},
   "source": [
    "Community type 3 - COVID-19"
   ]
  },
  {
   "cell_type": "code",
   "execution_count": null,
   "id": "e5c0ef9d",
   "metadata": {},
   "outputs": [],
   "source": [
    "acp_nb = 3\n",
    "acp_name = county_database[county_database[\"acp\"] == acp_nb][\"acp_name\"].iloc[0]\n",
    "\n",
    "kwargs = {\"filter_equality\": \"acp\",\n",
    "          \"filter_equality_value\": acp_nb,\n",
    "          \"additional_text\": \"<br>American Communities: \" + acp_name,\n",
    "          \"shared_yaxes\": \"all\"}\n",
    "\n",
    "custom_scatter_plot(feat_col=\"obesity\",\n",
    "                    feat_name=\"Obesity %\",\n",
    "                    type_data=\"COVID-19\",\n",
    "                    min_val=None, max_val=None,\n",
    "                    cmid=35,\n",
    "                    show_figures=False,\n",
    "                    **kwargs)"
   ]
  },
  {
   "cell_type": "markdown",
   "id": "9a8fda14",
   "metadata": {},
   "source": [
    "Community type 3 - All Causes"
   ]
  },
  {
   "cell_type": "code",
   "execution_count": null,
   "id": "e3a74063",
   "metadata": {},
   "outputs": [],
   "source": [
    "acp_nb = 3\n",
    "acp_name = county_database[county_database[\"acp\"] == acp_nb][\"acp_name\"].iloc[0]\n",
    "\n",
    "kwargs = {\"filter_equality\": \"acp\",\n",
    "          \"filter_equality_value\": acp_nb,\n",
    "          \"additional_text\": \"<br>American Communities: \" + acp_name,\n",
    "          \"shared_yaxes\": \"all\"}\n",
    "\n",
    "custom_scatter_plot(feat_col=\"obesity\",\n",
    "                    feat_name=\"Obesity %\",\n",
    "                    type_data=\"All Causes\",\n",
    "                    min_val=None, max_val=None,\n",
    "                    cmid=35,\n",
    "                    show_figures=False,\n",
    "                    **kwargs)"
   ]
  },
  {
   "cell_type": "markdown",
   "id": "84f717f4",
   "metadata": {},
   "source": [
    "Community type 3 - Excess Mortality"
   ]
  },
  {
   "cell_type": "code",
   "execution_count": null,
   "id": "eafba4fe",
   "metadata": {},
   "outputs": [],
   "source": [
    "acp_nb = 3\n",
    "acp_name = county_database[county_database[\"acp\"] == acp_nb][\"acp_name\"].iloc[0]\n",
    "\n",
    "kwargs = {\"filter_equality\": \"acp\",\n",
    "          \"filter_equality_value\": acp_nb,\n",
    "          \"additional_text\": \"<br>American Communities: \" + acp_name,\n",
    "          \"shared_yaxes\": \"all\"}\n",
    "\n",
    "custom_scatter_plot(feat_col=\"obesity\",\n",
    "                    feat_name=\"Obesity %\",\n",
    "                    type_data=\"Excess Mortality\",\n",
    "                    min_val=None, max_val=None,\n",
    "                    cmid=35,\n",
    "                    show_figures=False,\n",
    "                    **kwargs)"
   ]
  },
  {
   "cell_type": "markdown",
   "id": "ba31a0f3",
   "metadata": {},
   "source": [
    "Community type 4 - COVID-19"
   ]
  },
  {
   "cell_type": "code",
   "execution_count": null,
   "id": "f21bf85e",
   "metadata": {},
   "outputs": [],
   "source": [
    "acp_nb = 4\n",
    "acp_name = county_database[county_database[\"acp\"] == acp_nb][\"acp_name\"].iloc[0]\n",
    "\n",
    "kwargs = {\"filter_equality\": \"acp\",\n",
    "          \"filter_equality_value\": acp_nb,\n",
    "          \"additional_text\": \"<br>American Communities: \" + acp_name,\n",
    "          \"shared_yaxes\": \"all\"}\n",
    "\n",
    "custom_scatter_plot(feat_col=\"obesity\",\n",
    "                    feat_name=\"Obesity %\",\n",
    "                    type_data=\"COVID-19\",\n",
    "                    min_val=None, max_val=None,\n",
    "                    cmid=35,\n",
    "                    show_figures=False,\n",
    "                    **kwargs)"
   ]
  },
  {
   "cell_type": "markdown",
   "id": "40446a2a",
   "metadata": {},
   "source": [
    "Community type 4 - All Causes"
   ]
  },
  {
   "cell_type": "code",
   "execution_count": null,
   "id": "d2b0a5bb",
   "metadata": {},
   "outputs": [],
   "source": [
    "acp_nb = 4\n",
    "acp_name = county_database[county_database[\"acp\"] == acp_nb][\"acp_name\"].iloc[0]\n",
    "\n",
    "kwargs = {\"filter_equality\": \"acp\",\n",
    "          \"filter_equality_value\": acp_nb,\n",
    "          \"additional_text\": \"<br>American Communities: \" + acp_name,\n",
    "          \"shared_yaxes\": \"all\"}\n",
    "\n",
    "custom_scatter_plot(feat_col=\"obesity\",\n",
    "                    feat_name=\"Obesity %\",\n",
    "                    type_data=\"All Causes\",\n",
    "                    min_val=None, max_val=None,\n",
    "                    cmid=35,\n",
    "                    show_figures=False,\n",
    "                    **kwargs)"
   ]
  },
  {
   "cell_type": "markdown",
   "id": "5e835e05",
   "metadata": {},
   "source": [
    "Community type 4 - Excess Mortality"
   ]
  },
  {
   "cell_type": "code",
   "execution_count": null,
   "id": "68270d72",
   "metadata": {},
   "outputs": [],
   "source": [
    "acp_nb = 4\n",
    "acp_name = county_database[county_database[\"acp\"] == acp_nb][\"acp_name\"].iloc[0]\n",
    "\n",
    "kwargs = {\"filter_equality\": \"acp\",\n",
    "          \"filter_equality_value\": acp_nb,\n",
    "          \"additional_text\": \"<br>American Communities: \" + acp_name,\n",
    "          \"shared_yaxes\": \"all\"}\n",
    "\n",
    "custom_scatter_plot(feat_col=\"obesity\",\n",
    "                    feat_name=\"Obesity %\",\n",
    "                    type_data=\"Excess Mortality\",\n",
    "                    min_val=None, max_val=None,\n",
    "                    cmid=35,\n",
    "                    show_figures=False,\n",
    "                    **kwargs)"
   ]
  },
  {
   "cell_type": "markdown",
   "id": "ec2ef718",
   "metadata": {},
   "source": [
    "Community type 5 - COVID-19"
   ]
  },
  {
   "cell_type": "code",
   "execution_count": null,
   "id": "930bb7ec",
   "metadata": {},
   "outputs": [],
   "source": [
    "acp_nb = 5\n",
    "acp_name = county_database[county_database[\"acp\"] == acp_nb][\"acp_name\"].iloc[0]\n",
    "\n",
    "kwargs = {\"filter_equality\": \"acp\",\n",
    "          \"filter_equality_value\": acp_nb,\n",
    "          \"additional_text\": \"<br>American Communities: \" + acp_name,\n",
    "          \"shared_yaxes\": \"all\"}\n",
    "\n",
    "custom_scatter_plot(feat_col=\"obesity\",\n",
    "                    feat_name=\"Obesity %\",\n",
    "                    type_data=\"COVID-19\",\n",
    "                    min_val=None, max_val=None,\n",
    "                    cmid=35,\n",
    "                    show_figures=False,\n",
    "                    **kwargs)"
   ]
  },
  {
   "cell_type": "markdown",
   "id": "b6f4e8d2",
   "metadata": {},
   "source": [
    "Community type 5 - All Causes"
   ]
  },
  {
   "cell_type": "code",
   "execution_count": null,
   "id": "ff32a4fd",
   "metadata": {},
   "outputs": [],
   "source": [
    "acp_nb = 5\n",
    "acp_name = county_database[county_database[\"acp\"] == acp_nb][\"acp_name\"].iloc[0]\n",
    "\n",
    "kwargs = {\"filter_equality\": \"acp\",\n",
    "          \"filter_equality_value\": acp_nb,\n",
    "          \"additional_text\": \"<br>American Communities: \" + acp_name,\n",
    "          \"shared_yaxes\": \"all\"}\n",
    "\n",
    "custom_scatter_plot(feat_col=\"obesity\",\n",
    "                    feat_name=\"Obesity %\",\n",
    "                    type_data=\"All Causes\",\n",
    "                    min_val=None, max_val=None,\n",
    "                    cmid=35,\n",
    "                    show_figures=False,\n",
    "                    **kwargs)"
   ]
  },
  {
   "cell_type": "markdown",
   "id": "ed5b8e58",
   "metadata": {},
   "source": [
    "Community type 5 - Excess Mortality"
   ]
  },
  {
   "cell_type": "code",
   "execution_count": null,
   "id": "e301398c",
   "metadata": {},
   "outputs": [],
   "source": [
    "acp_nb = 5\n",
    "acp_name = county_database[county_database[\"acp\"] == acp_nb][\"acp_name\"].iloc[0]\n",
    "\n",
    "kwargs = {\"filter_equality\": \"acp\",\n",
    "          \"filter_equality_value\": acp_nb,\n",
    "          \"additional_text\": \"<br>American Communities: \" + acp_name,\n",
    "          \"shared_yaxes\": \"all\"}\n",
    "\n",
    "custom_scatter_plot(feat_col=\"obesity\",\n",
    "                    feat_name=\"Obesity %\",\n",
    "                    type_data=\"Excess Mortality\",\n",
    "                    min_val=None, max_val=None,\n",
    "                    cmid=35,\n",
    "                    show_figures=False,\n",
    "                    **kwargs)"
   ]
  },
  {
   "cell_type": "markdown",
   "id": "8ebadfb7",
   "metadata": {},
   "source": [
    "Community type 6 - COVID-19"
   ]
  },
  {
   "cell_type": "code",
   "execution_count": null,
   "id": "c89a6cf6",
   "metadata": {},
   "outputs": [],
   "source": [
    "acp_nb = 6\n",
    "acp_name = county_database[county_database[\"acp\"] == acp_nb][\"acp_name\"].iloc[0]\n",
    "\n",
    "kwargs = {\"filter_equality\": \"acp\",\n",
    "          \"filter_equality_value\": acp_nb,\n",
    "          \"additional_text\": \"<br>American Communities: \" + acp_name,\n",
    "          \"shared_yaxes\": \"all\"}\n",
    "\n",
    "custom_scatter_plot(feat_col=\"obesity\",\n",
    "                    feat_name=\"Obesity %\",\n",
    "                    type_data=\"COVID-19\",\n",
    "                    min_val=None, max_val=None,\n",
    "                    cmid=35,\n",
    "                    show_figures=False,\n",
    "                    **kwargs)"
   ]
  },
  {
   "cell_type": "markdown",
   "id": "c5f22621",
   "metadata": {},
   "source": [
    "Community type 6 - All Causes"
   ]
  },
  {
   "cell_type": "code",
   "execution_count": null,
   "id": "b8c7b6ba",
   "metadata": {},
   "outputs": [],
   "source": [
    "acp_nb = 6\n",
    "acp_name = county_database[county_database[\"acp\"] == acp_nb][\"acp_name\"].iloc[0]\n",
    "\n",
    "kwargs = {\"filter_equality\": \"acp\",\n",
    "          \"filter_equality_value\": acp_nb,\n",
    "          \"additional_text\": \"<br>American Communities: \" + acp_name,\n",
    "          \"shared_yaxes\": \"all\"}\n",
    "\n",
    "custom_scatter_plot(feat_col=\"obesity\",\n",
    "                    feat_name=\"Obesity %\",\n",
    "                    type_data=\"All Causes\",\n",
    "                    min_val=None, max_val=None,\n",
    "                    cmid=35,\n",
    "                    show_figures=False,\n",
    "                    **kwargs)"
   ]
  },
  {
   "cell_type": "markdown",
   "id": "9498aaa8",
   "metadata": {},
   "source": [
    "Community type 6 - Excess Mortality"
   ]
  },
  {
   "cell_type": "code",
   "execution_count": null,
   "id": "067acc12",
   "metadata": {},
   "outputs": [],
   "source": [
    "acp_nb = 6\n",
    "acp_name = county_database[county_database[\"acp\"] == acp_nb][\"acp_name\"].iloc[0]\n",
    "\n",
    "kwargs = {\"filter_equality\": \"acp\",\n",
    "          \"filter_equality_value\": acp_nb,\n",
    "          \"additional_text\": \"<br>American Communities: \" + acp_name,\n",
    "          \"shared_yaxes\": \"all\"}\n",
    "\n",
    "custom_scatter_plot(feat_col=\"obesity\",\n",
    "                    feat_name=\"Obesity %\",\n",
    "                    type_data=\"Excess Mortality\",\n",
    "                    min_val=None, max_val=None,\n",
    "                    cmid=35,\n",
    "                    show_figures=False,\n",
    "                    **kwargs)"
   ]
  },
  {
   "cell_type": "markdown",
   "id": "ac9bb58a",
   "metadata": {},
   "source": [
    "Community type 7 - COVID-19"
   ]
  },
  {
   "cell_type": "code",
   "execution_count": null,
   "id": "8172a350",
   "metadata": {},
   "outputs": [],
   "source": [
    "acp_nb = 7\n",
    "acp_name = county_database[county_database[\"acp\"] == acp_nb][\"acp_name\"].iloc[0]\n",
    "\n",
    "kwargs = {\"filter_equality\": \"acp\",\n",
    "          \"filter_equality_value\": acp_nb,\n",
    "          \"additional_text\": \"<br>American Communities: \" + acp_name,\n",
    "          \"shared_yaxes\": \"all\"}\n",
    "\n",
    "custom_scatter_plot(feat_col=\"obesity\",\n",
    "                    feat_name=\"Obesity %\",\n",
    "                    type_data=\"COVID-19\",\n",
    "                    min_val=None, max_val=None,\n",
    "                    cmid=35,\n",
    "                    show_figures=False,\n",
    "                    **kwargs)"
   ]
  },
  {
   "cell_type": "markdown",
   "id": "63e750ba",
   "metadata": {},
   "source": [
    "Community type 7 - All Causes"
   ]
  },
  {
   "cell_type": "code",
   "execution_count": null,
   "id": "af49081b",
   "metadata": {},
   "outputs": [],
   "source": [
    "acp_nb = 7\n",
    "acp_name = county_database[county_database[\"acp\"] == acp_nb][\"acp_name\"].iloc[0]\n",
    "\n",
    "kwargs = {\"filter_equality\": \"acp\",\n",
    "          \"filter_equality_value\": acp_nb,\n",
    "          \"additional_text\": \"<br>American Communities: \" + acp_name,\n",
    "          \"shared_yaxes\": \"all\"}\n",
    "\n",
    "custom_scatter_plot(feat_col=\"obesity\",\n",
    "                    feat_name=\"Obesity %\",\n",
    "                    type_data=\"All Causes\",\n",
    "                    min_val=None, max_val=None,\n",
    "                    cmid=35,\n",
    "                    show_figures=False,\n",
    "                    **kwargs)"
   ]
  },
  {
   "cell_type": "markdown",
   "id": "8f3d7914",
   "metadata": {},
   "source": [
    "Community type 7 - Excess Mortality"
   ]
  },
  {
   "cell_type": "code",
   "execution_count": null,
   "id": "2642c8a5",
   "metadata": {},
   "outputs": [],
   "source": [
    "acp_nb = 7\n",
    "acp_name = county_database[county_database[\"acp\"] == acp_nb][\"acp_name\"].iloc[0]\n",
    "\n",
    "kwargs = {\"filter_equality\": \"acp\",\n",
    "          \"filter_equality_value\": acp_nb,\n",
    "          \"additional_text\": \"<br>American Communities: \" + acp_name,\n",
    "          \"shared_yaxes\": \"all\"}\n",
    "\n",
    "custom_scatter_plot(feat_col=\"obesity\",\n",
    "                    feat_name=\"Obesity %\",\n",
    "                    type_data=\"Excess Mortality\",\n",
    "                    min_val=None, max_val=None,\n",
    "                    cmid=35,\n",
    "                    show_figures=False,\n",
    "                    **kwargs)"
   ]
  },
  {
   "cell_type": "markdown",
   "id": "a06424b6",
   "metadata": {},
   "source": [
    "Community type 8 - COVID-19"
   ]
  },
  {
   "cell_type": "code",
   "execution_count": null,
   "id": "7e19e4b5",
   "metadata": {},
   "outputs": [],
   "source": [
    "acp_nb = 8\n",
    "acp_name = county_database[county_database[\"acp\"] == acp_nb][\"acp_name\"].iloc[0]\n",
    "\n",
    "kwargs = {\"filter_equality\": \"acp\",\n",
    "          \"filter_equality_value\": acp_nb,\n",
    "          \"additional_text\": \"<br>American Communities: \" + acp_name,\n",
    "          \"shared_yaxes\": \"all\"}\n",
    "\n",
    "custom_scatter_plot(feat_col=\"obesity\",\n",
    "                    feat_name=\"Obesity %\",\n",
    "                    type_data=\"COVID-19\",\n",
    "                    min_val=None, max_val=None,\n",
    "                    cmid=35,\n",
    "                    show_figures=False,\n",
    "                    **kwargs)"
   ]
  },
  {
   "cell_type": "markdown",
   "id": "5b74cba2",
   "metadata": {},
   "source": [
    "Community type 8 - All Causes"
   ]
  },
  {
   "cell_type": "code",
   "execution_count": null,
   "id": "53eafa7a",
   "metadata": {},
   "outputs": [],
   "source": [
    "acp_nb = 8\n",
    "acp_name = county_database[county_database[\"acp\"] == acp_nb][\"acp_name\"].iloc[0]\n",
    "\n",
    "kwargs = {\"filter_equality\": \"acp\",\n",
    "          \"filter_equality_value\": acp_nb,\n",
    "          \"additional_text\": \"<br>American Communities: \" + acp_name,\n",
    "          \"shared_yaxes\": \"all\"}\n",
    "\n",
    "custom_scatter_plot(feat_col=\"obesity\",\n",
    "                    feat_name=\"Obesity %\",\n",
    "                    type_data=\"All Causes\",\n",
    "                    min_val=None, max_val=None,\n",
    "                    cmid=35,\n",
    "                    show_figures=False,\n",
    "                    **kwargs)"
   ]
  },
  {
   "cell_type": "markdown",
   "id": "5a1119f8",
   "metadata": {},
   "source": [
    "Community type 8 - Excess Mortality"
   ]
  },
  {
   "cell_type": "code",
   "execution_count": null,
   "id": "bc1e90ab",
   "metadata": {},
   "outputs": [],
   "source": [
    "acp_nb = 8\n",
    "acp_name = county_database[county_database[\"acp\"] == acp_nb][\"acp_name\"].iloc[0]\n",
    "\n",
    "kwargs = {\"filter_equality\": \"acp\",\n",
    "          \"filter_equality_value\": acp_nb,\n",
    "          \"additional_text\": \"<br>American Communities: \" + acp_name,\n",
    "          \"shared_yaxes\": \"all\"}\n",
    "\n",
    "custom_scatter_plot(feat_col=\"obesity\",\n",
    "                    feat_name=\"Obesity %\",\n",
    "                    type_data=\"Excess Mortality\",\n",
    "                    min_val=None, max_val=None,\n",
    "                    cmid=35,\n",
    "                    show_figures=False,\n",
    "                    **kwargs)"
   ]
  },
  {
   "cell_type": "markdown",
   "id": "64ce03bc",
   "metadata": {},
   "source": [
    "Community type 9 - COVID-19"
   ]
  },
  {
   "cell_type": "code",
   "execution_count": null,
   "id": "18002262",
   "metadata": {},
   "outputs": [],
   "source": [
    "acp_nb = 9\n",
    "acp_name = county_database[county_database[\"acp\"] == acp_nb][\"acp_name\"].iloc[0]\n",
    "\n",
    "kwargs = {\"filter_equality\": \"acp\",\n",
    "          \"filter_equality_value\": acp_nb,\n",
    "          \"additional_text\": \"<br>American Communities: \" + acp_name,\n",
    "          \"shared_yaxes\": \"all\"}\n",
    "\n",
    "custom_scatter_plot(feat_col=\"obesity\",\n",
    "                    feat_name=\"Obesity %\",\n",
    "                    type_data=\"COVID-19\",\n",
    "                    min_val=None, max_val=None,\n",
    "                    cmid=35,\n",
    "                    show_figures=False,\n",
    "                    **kwargs)"
   ]
  },
  {
   "cell_type": "markdown",
   "id": "72db8dad",
   "metadata": {},
   "source": [
    "Community type 9 - All Causes"
   ]
  },
  {
   "cell_type": "code",
   "execution_count": null,
   "id": "811dd7b3",
   "metadata": {},
   "outputs": [],
   "source": [
    "acp_nb = 9\n",
    "acp_name = county_database[county_database[\"acp\"] == acp_nb][\"acp_name\"].iloc[0]\n",
    "\n",
    "kwargs = {\"filter_equality\": \"acp\",\n",
    "          \"filter_equality_value\": acp_nb,\n",
    "          \"additional_text\": \"<br>American Communities: \" + acp_name,\n",
    "          \"shared_yaxes\": \"all\"}\n",
    "\n",
    "custom_scatter_plot(feat_col=\"obesity\",\n",
    "                    feat_name=\"Obesity %\",\n",
    "                    type_data=\"All Causes\",\n",
    "                    min_val=None, max_val=None,\n",
    "                    cmid=35,\n",
    "                    show_figures=False,\n",
    "                    **kwargs)"
   ]
  },
  {
   "cell_type": "markdown",
   "id": "2df61f23",
   "metadata": {},
   "source": [
    "Community type 9 - Excess Mortality"
   ]
  },
  {
   "cell_type": "code",
   "execution_count": null,
   "id": "653f71cd",
   "metadata": {},
   "outputs": [],
   "source": [
    "acp_nb = 9\n",
    "acp_name = county_database[county_database[\"acp\"] == acp_nb][\"acp_name\"].iloc[0]\n",
    "\n",
    "kwargs = {\"filter_equality\": \"acp\",\n",
    "          \"filter_equality_value\": acp_nb,\n",
    "          \"additional_text\": \"<br>American Communities: \" + acp_name,\n",
    "          \"shared_yaxes\": \"all\"}\n",
    "\n",
    "custom_scatter_plot(feat_col=\"obesity\",\n",
    "                    feat_name=\"Obesity %\",\n",
    "                    type_data=\"Excess Mortality\",\n",
    "                    min_val=None, max_val=None,\n",
    "                    cmid=35,\n",
    "                    show_figures=False,\n",
    "                    **kwargs)"
   ]
  },
  {
   "cell_type": "markdown",
   "id": "e99f9dcf",
   "metadata": {},
   "source": [
    "Community type 10 - COVID-19"
   ]
  },
  {
   "cell_type": "code",
   "execution_count": null,
   "id": "8a0cee7b",
   "metadata": {},
   "outputs": [],
   "source": [
    "acp_nb = 10\n",
    "acp_name = county_database[county_database[\"acp\"] == acp_nb][\"acp_name\"].iloc[0]\n",
    "\n",
    "kwargs = {\"filter_equality\": \"acp\",\n",
    "          \"filter_equality_value\": acp_nb,\n",
    "          \"additional_text\": \"<br>American Communities: \" + acp_name,\n",
    "          \"shared_yaxes\": \"all\"}\n",
    "\n",
    "custom_scatter_plot(feat_col=\"obesity\",\n",
    "                    feat_name=\"Obesity %\",\n",
    "                    type_data=\"COVID-19\",\n",
    "                    min_val=None, max_val=None,\n",
    "                    cmid=35,\n",
    "                    show_figures=False,\n",
    "                    **kwargs)"
   ]
  },
  {
   "cell_type": "markdown",
   "id": "ec54acfd",
   "metadata": {},
   "source": [
    "Community type 10 - All Causes"
   ]
  },
  {
   "cell_type": "code",
   "execution_count": null,
   "id": "c824e236",
   "metadata": {},
   "outputs": [],
   "source": [
    "acp_nb = 10\n",
    "acp_name = county_database[county_database[\"acp\"] == acp_nb][\"acp_name\"].iloc[0]\n",
    "\n",
    "kwargs = {\"filter_equality\": \"acp\",\n",
    "          \"filter_equality_value\": acp_nb,\n",
    "          \"additional_text\": \"<br>American Communities: \" + acp_name,\n",
    "          \"shared_yaxes\": \"all\"}\n",
    "\n",
    "custom_scatter_plot(feat_col=\"obesity\",\n",
    "                    feat_name=\"Obesity %\",\n",
    "                    type_data=\"All Causes\",\n",
    "                    min_val=None, max_val=None,\n",
    "                    cmid=35,\n",
    "                    show_figures=False,\n",
    "                    **kwargs)"
   ]
  },
  {
   "cell_type": "markdown",
   "id": "f90c38e6",
   "metadata": {},
   "source": [
    "Community type 10 - Excess Mortality"
   ]
  },
  {
   "cell_type": "code",
   "execution_count": null,
   "id": "3004b568",
   "metadata": {},
   "outputs": [],
   "source": [
    "acp_nb = 10\n",
    "acp_name = county_database[county_database[\"acp\"] == acp_nb][\"acp_name\"].iloc[0]\n",
    "\n",
    "kwargs = {\"filter_equality\": \"acp\",\n",
    "          \"filter_equality_value\": acp_nb,\n",
    "          \"additional_text\": \"<br>American Communities: \" + acp_name,\n",
    "          \"shared_yaxes\": \"all\"}\n",
    "\n",
    "custom_scatter_plot(feat_col=\"obesity\",\n",
    "                    feat_name=\"Obesity %\",\n",
    "                    type_data=\"Excess Mortality\",\n",
    "                    min_val=None, max_val=None,\n",
    "                    cmid=35,\n",
    "                    show_figures=False,\n",
    "                    **kwargs)"
   ]
  },
  {
   "cell_type": "markdown",
   "id": "b3388e97",
   "metadata": {},
   "source": [
    "Community type 11 - COVID-19"
   ]
  },
  {
   "cell_type": "code",
   "execution_count": null,
   "id": "5df1e763",
   "metadata": {},
   "outputs": [],
   "source": [
    "acp_nb = 11\n",
    "acp_name = county_database[county_database[\"acp\"] == acp_nb][\"acp_name\"].iloc[0]\n",
    "\n",
    "kwargs = {\"filter_equality\": \"acp\",\n",
    "          \"filter_equality_value\": acp_nb,\n",
    "          \"additional_text\": \"<br>American Communities: \" + acp_name,\n",
    "          \"shared_yaxes\": \"all\"}\n",
    "\n",
    "custom_scatter_plot(feat_col=\"obesity\",\n",
    "                    feat_name=\"Obesity %\",\n",
    "                    type_data=\"COVID-19\",\n",
    "                    min_val=None, max_val=None,\n",
    "                    cmid=35,\n",
    "                    show_figures=False,\n",
    "                    **kwargs)"
   ]
  },
  {
   "cell_type": "markdown",
   "id": "83a07c8b",
   "metadata": {},
   "source": [
    "Community type 11 - All Causes"
   ]
  },
  {
   "cell_type": "code",
   "execution_count": null,
   "id": "6eb8b4e0",
   "metadata": {},
   "outputs": [],
   "source": [
    "acp_nb = 11\n",
    "acp_name = county_database[county_database[\"acp\"] == acp_nb][\"acp_name\"].iloc[0]\n",
    "\n",
    "kwargs = {\"filter_equality\": \"acp\",\n",
    "          \"filter_equality_value\": acp_nb,\n",
    "          \"additional_text\": \"<br>American Communities: \" + acp_name,\n",
    "          \"shared_yaxes\": \"all\"}\n",
    "\n",
    "custom_scatter_plot(feat_col=\"obesity\",\n",
    "                    feat_name=\"Obesity %\",\n",
    "                    type_data=\"All Causes\",\n",
    "                    min_val=None, max_val=None,\n",
    "                    cmid=35,\n",
    "                    show_figures=False,\n",
    "                    **kwargs)"
   ]
  },
  {
   "cell_type": "markdown",
   "id": "b36a8ff3",
   "metadata": {},
   "source": [
    "Community type 11 - Excess Mortality"
   ]
  },
  {
   "cell_type": "code",
   "execution_count": null,
   "id": "65fff90c",
   "metadata": {},
   "outputs": [],
   "source": [
    "acp_nb = 11\n",
    "acp_name = county_database[county_database[\"acp\"] == acp_nb][\"acp_name\"].iloc[0]\n",
    "\n",
    "kwargs = {\"filter_equality\": \"acp\",\n",
    "          \"filter_equality_value\": acp_nb,\n",
    "          \"additional_text\": \"<br>American Communities: \" + acp_name,\n",
    "          \"shared_yaxes\": \"all\"}\n",
    "\n",
    "custom_scatter_plot(feat_col=\"obesity\",\n",
    "                    feat_name=\"Obesity %\",\n",
    "                    type_data=\"Excess Mortality\",\n",
    "                    min_val=None, max_val=None,\n",
    "                    cmid=35,\n",
    "                    show_figures=False,\n",
    "                    **kwargs)"
   ]
  },
  {
   "cell_type": "markdown",
   "id": "9e463776",
   "metadata": {},
   "source": [
    "Community type 12 - COVID-19"
   ]
  },
  {
   "cell_type": "code",
   "execution_count": null,
   "id": "03bfd9ac",
   "metadata": {},
   "outputs": [],
   "source": [
    "acp_nb = 12\n",
    "acp_name = county_database[county_database[\"acp\"] == acp_nb][\"acp_name\"].iloc[0]\n",
    "\n",
    "kwargs = {\"filter_equality\": \"acp\",\n",
    "          \"filter_equality_value\": acp_nb,\n",
    "          \"additional_text\": \"<br>American Communities: \" + acp_name,\n",
    "          \"shared_yaxes\": \"all\"}\n",
    "\n",
    "custom_scatter_plot(feat_col=\"obesity\",\n",
    "                    feat_name=\"Obesity %\",\n",
    "                    type_data=\"COVID-19\",\n",
    "                    min_val=None, max_val=None,\n",
    "                    cmid=35,\n",
    "                    show_figures=False,\n",
    "                    **kwargs)"
   ]
  },
  {
   "cell_type": "markdown",
   "id": "61a73ae6",
   "metadata": {},
   "source": [
    "Community type 12 - All Causes"
   ]
  },
  {
   "cell_type": "code",
   "execution_count": null,
   "id": "c062584a",
   "metadata": {},
   "outputs": [],
   "source": [
    "acp_nb = 12\n",
    "acp_name = county_database[county_database[\"acp\"] == acp_nb][\"acp_name\"].iloc[0]\n",
    "\n",
    "kwargs = {\"filter_equality\": \"acp\",\n",
    "          \"filter_equality_value\": acp_nb,\n",
    "          \"additional_text\": \"<br>American Communities: \" + acp_name,\n",
    "          \"shared_yaxes\": \"all\"}\n",
    "\n",
    "custom_scatter_plot(feat_col=\"obesity\",\n",
    "                    feat_name=\"Obesity %\",\n",
    "                    type_data=\"All Causes\",\n",
    "                    min_val=None, max_val=None,\n",
    "                    cmid=35,\n",
    "                    show_figures=False,\n",
    "                    **kwargs)"
   ]
  },
  {
   "cell_type": "markdown",
   "id": "0fad9deb",
   "metadata": {},
   "source": [
    "Community type 12 - Excess Mortality"
   ]
  },
  {
   "cell_type": "code",
   "execution_count": null,
   "id": "74d1e4e8",
   "metadata": {},
   "outputs": [],
   "source": [
    "acp_nb = 12\n",
    "acp_name = county_database[county_database[\"acp\"] == acp_nb][\"acp_name\"].iloc[0]\n",
    "\n",
    "kwargs = {\"filter_equality\": \"acp\",\n",
    "          \"filter_equality_value\": acp_nb,\n",
    "          \"additional_text\": \"<br>American Communities: \" + acp_name,\n",
    "          \"shared_yaxes\": \"all\"}\n",
    "\n",
    "custom_scatter_plot(feat_col=\"obesity\",\n",
    "                    feat_name=\"Obesity %\",\n",
    "                    type_data=\"Excess Mortality\",\n",
    "                    min_val=None, max_val=None,\n",
    "                    cmid=35,\n",
    "                    show_figures=False,\n",
    "                    **kwargs)"
   ]
  },
  {
   "cell_type": "markdown",
   "id": "fd27af63",
   "metadata": {},
   "source": [
    "Community type 13 - COVID-19"
   ]
  },
  {
   "cell_type": "code",
   "execution_count": null,
   "id": "71f8b587",
   "metadata": {},
   "outputs": [],
   "source": [
    "acp_nb = 13\n",
    "acp_name = county_database[county_database[\"acp\"] == acp_nb][\"acp_name\"].iloc[0]\n",
    "\n",
    "kwargs = {\"filter_equality\": \"acp\",\n",
    "          \"filter_equality_value\": acp_nb,\n",
    "          \"additional_text\": \"<br>American Communities: \" + acp_name,\n",
    "          \"shared_yaxes\": \"all\"}\n",
    "\n",
    "custom_scatter_plot(feat_col=\"obesity\",\n",
    "                    feat_name=\"Obesity %\",\n",
    "                    type_data=\"COVID-19\",\n",
    "                    min_val=None, max_val=None,\n",
    "                    cmid=35,\n",
    "                    show_figures=False,\n",
    "                    **kwargs)"
   ]
  },
  {
   "cell_type": "markdown",
   "id": "d89ab648",
   "metadata": {},
   "source": [
    "Community type 13 - All Causes"
   ]
  },
  {
   "cell_type": "code",
   "execution_count": null,
   "id": "b1632b0e",
   "metadata": {},
   "outputs": [],
   "source": [
    "acp_nb = 13\n",
    "acp_name = county_database[county_database[\"acp\"] == acp_nb][\"acp_name\"].iloc[0]\n",
    "\n",
    "kwargs = {\"filter_equality\": \"acp\",\n",
    "          \"filter_equality_value\": acp_nb,\n",
    "          \"additional_text\": \"<br>American Communities: \" + acp_name,\n",
    "          \"shared_yaxes\": \"all\"}\n",
    "\n",
    "custom_scatter_plot(feat_col=\"obesity\",\n",
    "                    feat_name=\"Obesity %\",\n",
    "                    type_data=\"All Causes\",\n",
    "                    min_val=None, max_val=None,\n",
    "                    cmid=35,\n",
    "                    show_figures=False,\n",
    "                    **kwargs)"
   ]
  },
  {
   "cell_type": "markdown",
   "id": "f100cd9c",
   "metadata": {},
   "source": [
    "Community type 13 - Excess Mortality"
   ]
  },
  {
   "cell_type": "code",
   "execution_count": null,
   "id": "a24659cc",
   "metadata": {},
   "outputs": [],
   "source": [
    "acp_nb = 13\n",
    "acp_name = county_database[county_database[\"acp\"] == acp_nb][\"acp_name\"].iloc[0]\n",
    "\n",
    "kwargs = {\"filter_equality\": \"acp\",\n",
    "          \"filter_equality_value\": acp_nb,\n",
    "          \"additional_text\": \"<br>American Communities: \" + acp_name,\n",
    "          \"shared_yaxes\": \"all\"}\n",
    "\n",
    "custom_scatter_plot(feat_col=\"obesity\",\n",
    "                    feat_name=\"Obesity %\",\n",
    "                    type_data=\"Excess Mortality\",\n",
    "                    min_val=None, max_val=None,\n",
    "                    cmid=35,\n",
    "                    show_figures=False,\n",
    "                    **kwargs)"
   ]
  },
  {
   "cell_type": "markdown",
   "id": "16216c15",
   "metadata": {},
   "source": [
    "Community type 14 - COVID-19"
   ]
  },
  {
   "cell_type": "code",
   "execution_count": null,
   "id": "830f25be",
   "metadata": {},
   "outputs": [],
   "source": [
    "acp_nb = 14\n",
    "acp_name = county_database[county_database[\"acp\"] == acp_nb][\"acp_name\"].iloc[0]\n",
    "\n",
    "kwargs = {\"filter_equality\": \"acp\",\n",
    "          \"filter_equality_value\": acp_nb,\n",
    "          \"additional_text\": \"<br>American Communities: \" + acp_name,\n",
    "          \"shared_yaxes\": \"all\"}\n",
    "\n",
    "custom_scatter_plot(feat_col=\"obesity\",\n",
    "                    feat_name=\"Obesity %\",\n",
    "                    type_data=\"COVID-19\",\n",
    "                    min_val=None, max_val=None,\n",
    "                    cmid=35,\n",
    "                    show_figures=False,\n",
    "                    **kwargs)"
   ]
  },
  {
   "cell_type": "markdown",
   "id": "46b9919d",
   "metadata": {},
   "source": [
    "Community type 14 - All Causes"
   ]
  },
  {
   "cell_type": "code",
   "execution_count": null,
   "id": "a3f6e19c",
   "metadata": {},
   "outputs": [],
   "source": [
    "acp_nb = 14\n",
    "acp_name = county_database[county_database[\"acp\"] == acp_nb][\"acp_name\"].iloc[0]\n",
    "\n",
    "kwargs = {\"filter_equality\": \"acp\",\n",
    "          \"filter_equality_value\": acp_nb,\n",
    "          \"additional_text\": \"<br>American Communities: \" + acp_name,\n",
    "          \"shared_yaxes\": \"all\"}\n",
    "\n",
    "custom_scatter_plot(feat_col=\"obesity\",\n",
    "                    feat_name=\"Obesity %\",\n",
    "                    type_data=\"All Causes\",\n",
    "                    min_val=None, max_val=None,\n",
    "                    cmid=35,\n",
    "                    show_figures=False,\n",
    "                    **kwargs)"
   ]
  },
  {
   "cell_type": "markdown",
   "id": "49454889",
   "metadata": {},
   "source": [
    "Community type 14 - Excess Mortality"
   ]
  },
  {
   "cell_type": "code",
   "execution_count": null,
   "id": "200dd382",
   "metadata": {},
   "outputs": [],
   "source": [
    "acp_nb = 14\n",
    "acp_name = county_database[county_database[\"acp\"] == acp_nb][\"acp_name\"].iloc[0]\n",
    "\n",
    "kwargs = {\"filter_equality\": \"acp\",\n",
    "          \"filter_equality_value\": acp_nb,\n",
    "          \"additional_text\": \"<br>American Communities: \" + acp_name,\n",
    "          \"shared_yaxes\": \"all\"}\n",
    "\n",
    "custom_scatter_plot(feat_col=\"obesity\",\n",
    "                    feat_name=\"Obesity %\",\n",
    "                    type_data=\"Excess Mortality\",\n",
    "                    min_val=None, max_val=None,\n",
    "                    cmid=35,\n",
    "                    show_figures=False,\n",
    "                    **kwargs)"
   ]
  },
  {
   "cell_type": "markdown",
   "id": "06613de6",
   "metadata": {},
   "source": [
    "Community type 15 - COVID-19"
   ]
  },
  {
   "cell_type": "code",
   "execution_count": null,
   "id": "f54dd57e",
   "metadata": {},
   "outputs": [],
   "source": [
    "acp_nb = 15\n",
    "acp_name = county_database[county_database[\"acp\"] == acp_nb][\"acp_name\"].iloc[0]\n",
    "\n",
    "kwargs = {\"filter_equality\": \"acp\",\n",
    "          \"filter_equality_value\": acp_nb,\n",
    "          \"additional_text\": \"<br>American Communities: \" + acp_name,\n",
    "          \"shared_yaxes\": \"all\"}\n",
    "\n",
    "custom_scatter_plot(feat_col=\"obesity\",\n",
    "                    feat_name=\"Obesity %\",\n",
    "                    type_data=\"COVID-19\",\n",
    "                    min_val=None, max_val=None,\n",
    "                    cmid=35,\n",
    "                    show_figures=False,\n",
    "                    **kwargs)"
   ]
  },
  {
   "cell_type": "markdown",
   "id": "641eb4c7",
   "metadata": {},
   "source": [
    "Community type 15 - All Causes"
   ]
  },
  {
   "cell_type": "code",
   "execution_count": null,
   "id": "c00462f7",
   "metadata": {},
   "outputs": [],
   "source": [
    "acp_nb = 15\n",
    "acp_name = county_database[county_database[\"acp\"] == acp_nb][\"acp_name\"].iloc[0]\n",
    "\n",
    "kwargs = {\"filter_equality\": \"acp\",\n",
    "          \"filter_equality_value\": acp_nb,\n",
    "          \"additional_text\": \"<br>American Communities: \" + acp_name,\n",
    "          \"shared_yaxes\": \"all\"}\n",
    "\n",
    "custom_scatter_plot(feat_col=\"obesity\",\n",
    "                    feat_name=\"Obesity %\",\n",
    "                    type_data=\"All Causes\",\n",
    "                    min_val=None, max_val=None,\n",
    "                    cmid=35,\n",
    "                    show_figures=False,\n",
    "                    **kwargs)"
   ]
  },
  {
   "cell_type": "markdown",
   "id": "ad2a5e3a",
   "metadata": {},
   "source": [
    "Community type 15 - Excess Mortality"
   ]
  },
  {
   "cell_type": "code",
   "execution_count": null,
   "id": "dc3f3aae",
   "metadata": {},
   "outputs": [],
   "source": [
    "acp_nb = 15\n",
    "acp_name = county_database[county_database[\"acp\"] == acp_nb][\"acp_name\"].iloc[0]\n",
    "\n",
    "kwargs = {\"filter_equality\": \"acp\",\n",
    "          \"filter_equality_value\": acp_nb,\n",
    "          \"additional_text\": \"<br>American Communities: \" + acp_name,\n",
    "          \"shared_yaxes\": \"all\"}\n",
    "\n",
    "custom_scatter_plot(feat_col=\"obesity\",\n",
    "                    feat_name=\"Obesity %\",\n",
    "                    type_data=\"Excess Mortality\",\n",
    "                    min_val=None, max_val=None,\n",
    "                    cmid=35,\n",
    "                    show_figures=False,\n",
    "                    **kwargs)"
   ]
  },
  {
   "cell_type": "markdown",
   "id": "11aa7d7e",
   "metadata": {},
   "source": [
    "### Jail population %"
   ]
  },
  {
   "cell_type": "markdown",
   "id": "39bc9e73",
   "metadata": {},
   "source": [
    "Box plot"
   ]
  },
  {
   "cell_type": "code",
   "execution_count": null,
   "id": "dfe44127",
   "metadata": {},
   "outputs": [],
   "source": [
    "fig = go.Figure()\n",
    "for acp_nb in range(1, 16):\n",
    "    acp_name = acp_dic[acp_nb]\n",
    "    fig.add_trace(go.Box(y=county_database[county_database[\"acp\"] == acp_nb][\"pct_jail\"],\n",
    "                         name=acp_name,\n",
    "                         marker_color=community_color_dic[acp_name]))\n",
    "\n",
    "fig.update_layout(title_text=\"Box Plot Jail population % - Community level\",\n",
    "                  yaxis_title=\"Jail population %\",\n",
    "                  width=1500, height=500)\n",
    "fig.write_image(\"Plot/Analysis/boxplot_pct_jail_communities.png\")"
   ]
  },
  {
   "cell_type": "markdown",
   "id": "77f60f95",
   "metadata": {},
   "source": [
    "Community type 1 - COVID-19"
   ]
  },
  {
   "cell_type": "code",
   "execution_count": null,
   "id": "eaad55b2",
   "metadata": {},
   "outputs": [],
   "source": [
    "acp_nb = 1\n",
    "acp_name = county_database[county_database[\"acp\"] == acp_nb][\"acp_name\"].iloc[0]\n",
    "\n",
    "kwargs = {\"filter_equality\": \"acp\",\n",
    "          \"filter_equality_value\": acp_nb,\n",
    "          \"additional_text\": \"<br>American Communities: \" + acp_name,\n",
    "          \"shared_yaxes\": \"all\"}\n",
    "\n",
    "custom_scatter_plot(feat_col=\"pct_jail\",\n",
    "                    feat_name=\"Jail population %\",\n",
    "                    type_data=\"COVID-19\",\n",
    "                    min_val=None, max_val=None,\n",
    "                    cmid=0,\n",
    "                    show_figures=False,\n",
    "                    **kwargs)"
   ]
  },
  {
   "cell_type": "markdown",
   "id": "869dbbff",
   "metadata": {},
   "source": [
    "Community type 1 - All Causes"
   ]
  },
  {
   "cell_type": "code",
   "execution_count": null,
   "id": "941ac393",
   "metadata": {},
   "outputs": [],
   "source": [
    "acp_nb = 1\n",
    "acp_name = county_database[county_database[\"acp\"] == acp_nb][\"acp_name\"].iloc[0]\n",
    "\n",
    "kwargs = {\"filter_equality\": \"acp\",\n",
    "          \"filter_equality_value\": acp_nb,\n",
    "          \"additional_text\": \"<br>American Communities: \" + acp_name,\n",
    "          \"shared_yaxes\": \"all\"}\n",
    "\n",
    "custom_scatter_plot(feat_col=\"pct_jail\",\n",
    "                    feat_name=\"Jail population %\",\n",
    "                    type_data=\"All Causes\",\n",
    "                    min_val=None, max_val=None,\n",
    "                    cmid=0,\n",
    "                    show_figures=False,\n",
    "                    **kwargs)"
   ]
  },
  {
   "cell_type": "markdown",
   "id": "50a6298b",
   "metadata": {},
   "source": [
    "Community type 1 - Excess Mortality"
   ]
  },
  {
   "cell_type": "code",
   "execution_count": null,
   "id": "c883daf3",
   "metadata": {},
   "outputs": [],
   "source": [
    "acp_nb = 1\n",
    "acp_name = county_database[county_database[\"acp\"] == acp_nb][\"acp_name\"].iloc[0]\n",
    "\n",
    "kwargs = {\"filter_equality\": \"acp\",\n",
    "          \"filter_equality_value\": acp_nb,\n",
    "          \"additional_text\": \"<br>American Communities: \" + acp_name,\n",
    "          \"shared_yaxes\": \"all\"}\n",
    "\n",
    "custom_scatter_plot(feat_col=\"pct_jail\",\n",
    "                    feat_name=\"Jail population %\",\n",
    "                    type_data=\"Excess Mortality\",\n",
    "                    min_val=None, max_val=None,\n",
    "                    cmid=0,\n",
    "                    show_figures=False,\n",
    "                    **kwargs)"
   ]
  },
  {
   "cell_type": "markdown",
   "id": "2e33c13c",
   "metadata": {},
   "source": [
    "Community type 2 - COVID-19"
   ]
  },
  {
   "cell_type": "code",
   "execution_count": null,
   "id": "0077436a",
   "metadata": {},
   "outputs": [],
   "source": [
    "acp_nb = 2\n",
    "acp_name = county_database[county_database[\"acp\"] == acp_nb][\"acp_name\"].iloc[0]\n",
    "\n",
    "kwargs = {\"filter_equality\": \"acp\",\n",
    "          \"filter_equality_value\": acp_nb,\n",
    "          \"additional_text\": \"<br>American Communities: \" + acp_name,\n",
    "          \"shared_yaxes\": \"all\"}\n",
    "\n",
    "custom_scatter_plot(feat_col=\"pct_jail\",\n",
    "                    feat_name=\"Jail population %\",\n",
    "                    type_data=\"COVID-19\",\n",
    "                    min_val=None, max_val=None,\n",
    "                    cmid=0,\n",
    "                    show_figures=False,\n",
    "                    **kwargs)"
   ]
  },
  {
   "cell_type": "markdown",
   "id": "9bebb751",
   "metadata": {},
   "source": [
    "Community type 2 - All Causes"
   ]
  },
  {
   "cell_type": "code",
   "execution_count": null,
   "id": "26b04930",
   "metadata": {},
   "outputs": [],
   "source": [
    "acp_nb = 2\n",
    "acp_name = county_database[county_database[\"acp\"] == acp_nb][\"acp_name\"].iloc[0]\n",
    "\n",
    "kwargs = {\"filter_equality\": \"acp\",\n",
    "          \"filter_equality_value\": acp_nb,\n",
    "          \"additional_text\": \"<br>American Communities: \" + acp_name,\n",
    "          \"shared_yaxes\": \"all\"}\n",
    "\n",
    "custom_scatter_plot(feat_col=\"pct_jail\",\n",
    "                    feat_name=\"Jail population %\",\n",
    "                    type_data=\"All Causes\",\n",
    "                    min_val=None, max_val=None,\n",
    "                    cmid=0,\n",
    "                    show_figures=False,\n",
    "                    **kwargs)"
   ]
  },
  {
   "cell_type": "markdown",
   "id": "c807a503",
   "metadata": {},
   "source": [
    "Community type 2 - Excess Mortality"
   ]
  },
  {
   "cell_type": "code",
   "execution_count": null,
   "id": "5c87d577",
   "metadata": {},
   "outputs": [],
   "source": [
    "acp_nb = 2\n",
    "acp_name = county_database[county_database[\"acp\"] == acp_nb][\"acp_name\"].iloc[0]\n",
    "\n",
    "kwargs = {\"filter_equality\": \"acp\",\n",
    "          \"filter_equality_value\": acp_nb,\n",
    "          \"additional_text\": \"<br>American Communities: \" + acp_name,\n",
    "          \"shared_yaxes\": \"all\"}\n",
    "\n",
    "custom_scatter_plot(feat_col=\"pct_jail\",\n",
    "                    feat_name=\"Jail population %\",\n",
    "                    type_data=\"Excess Mortality\",\n",
    "                    min_val=None, max_val=None,\n",
    "                    cmid=0,\n",
    "                    show_figures=False,\n",
    "                    **kwargs)"
   ]
  },
  {
   "cell_type": "markdown",
   "id": "3bdc9217",
   "metadata": {},
   "source": [
    "Community type 3 - COVID-19"
   ]
  },
  {
   "cell_type": "code",
   "execution_count": null,
   "id": "9bf2e6b2",
   "metadata": {},
   "outputs": [],
   "source": [
    "acp_nb = 3\n",
    "acp_name = county_database[county_database[\"acp\"] == acp_nb][\"acp_name\"].iloc[0]\n",
    "\n",
    "kwargs = {\"filter_equality\": \"acp\",\n",
    "          \"filter_equality_value\": acp_nb,\n",
    "          \"additional_text\": \"<br>American Communities: \" + acp_name,\n",
    "          \"shared_yaxes\": \"all\"}\n",
    "\n",
    "custom_scatter_plot(feat_col=\"pct_jail\",\n",
    "                    feat_name=\"Jail population %\",\n",
    "                    type_data=\"COVID-19\",\n",
    "                    min_val=None, max_val=None,\n",
    "                    cmid=0,\n",
    "                    show_figures=False,\n",
    "                    **kwargs)"
   ]
  },
  {
   "cell_type": "markdown",
   "id": "63fc5ff0",
   "metadata": {},
   "source": [
    "Community type 3 - All Causes"
   ]
  },
  {
   "cell_type": "code",
   "execution_count": null,
   "id": "d29107b9",
   "metadata": {},
   "outputs": [],
   "source": [
    "acp_nb = 3\n",
    "acp_name = county_database[county_database[\"acp\"] == acp_nb][\"acp_name\"].iloc[0]\n",
    "\n",
    "kwargs = {\"filter_equality\": \"acp\",\n",
    "          \"filter_equality_value\": acp_nb,\n",
    "          \"additional_text\": \"<br>American Communities: \" + acp_name,\n",
    "          \"shared_yaxes\": \"all\"}\n",
    "\n",
    "custom_scatter_plot(feat_col=\"pct_jail\",\n",
    "                    feat_name=\"Jail population %\",\n",
    "                    type_data=\"All Causes\",\n",
    "                    min_val=None, max_val=None,\n",
    "                    cmid=0,\n",
    "                    show_figures=False,\n",
    "                    **kwargs)"
   ]
  },
  {
   "cell_type": "markdown",
   "id": "7afc3e7b",
   "metadata": {},
   "source": [
    "Community type 3 - Excess Mortality"
   ]
  },
  {
   "cell_type": "code",
   "execution_count": null,
   "id": "c11ea199",
   "metadata": {},
   "outputs": [],
   "source": [
    "acp_nb = 3\n",
    "acp_name = county_database[county_database[\"acp\"] == acp_nb][\"acp_name\"].iloc[0]\n",
    "\n",
    "kwargs = {\"filter_equality\": \"acp\",\n",
    "          \"filter_equality_value\": acp_nb,\n",
    "          \"additional_text\": \"<br>American Communities: \" + acp_name,\n",
    "          \"shared_yaxes\": \"all\"}\n",
    "\n",
    "custom_scatter_plot(feat_col=\"pct_jail\",\n",
    "                    feat_name=\"Jail population %\",\n",
    "                    type_data=\"Excess Mortality\",\n",
    "                    min_val=None, max_val=None,\n",
    "                    cmid=0,\n",
    "                    show_figures=False,\n",
    "                    **kwargs)"
   ]
  },
  {
   "cell_type": "markdown",
   "id": "6fa93969",
   "metadata": {},
   "source": [
    "Community type 4 - COVID-19"
   ]
  },
  {
   "cell_type": "code",
   "execution_count": null,
   "id": "dd760638",
   "metadata": {},
   "outputs": [],
   "source": [
    "acp_nb = 4\n",
    "acp_name = county_database[county_database[\"acp\"] == acp_nb][\"acp_name\"].iloc[0]\n",
    "\n",
    "kwargs = {\"filter_equality\": \"acp\",\n",
    "          \"filter_equality_value\": acp_nb,\n",
    "          \"additional_text\": \"<br>American Communities: \" + acp_name,\n",
    "          \"shared_yaxes\": \"all\"}\n",
    "\n",
    "custom_scatter_plot(feat_col=\"pct_jail\",\n",
    "                    feat_name=\"Jail population %\",\n",
    "                    type_data=\"COVID-19\",\n",
    "                    min_val=None, max_val=None,\n",
    "                    cmid=0,\n",
    "                    show_figures=False,\n",
    "                    **kwargs)"
   ]
  },
  {
   "cell_type": "markdown",
   "id": "7746a9fc",
   "metadata": {},
   "source": [
    "Community type 4 - All Causes"
   ]
  },
  {
   "cell_type": "code",
   "execution_count": null,
   "id": "f1ab7e8f",
   "metadata": {},
   "outputs": [],
   "source": [
    "acp_nb = 4\n",
    "acp_name = county_database[county_database[\"acp\"] == acp_nb][\"acp_name\"].iloc[0]\n",
    "\n",
    "kwargs = {\"filter_equality\": \"acp\",\n",
    "          \"filter_equality_value\": acp_nb,\n",
    "          \"additional_text\": \"<br>American Communities: \" + acp_name,\n",
    "          \"shared_yaxes\": \"all\"}\n",
    "\n",
    "custom_scatter_plot(feat_col=\"pct_jail\",\n",
    "                    feat_name=\"Jail population %\",\n",
    "                    type_data=\"All Causes\",\n",
    "                    min_val=None, max_val=None,\n",
    "                    cmid=0,\n",
    "                    show_figures=False,\n",
    "                    **kwargs)"
   ]
  },
  {
   "cell_type": "markdown",
   "id": "c5f99c60",
   "metadata": {},
   "source": [
    "Community type 4 - Excess Mortality"
   ]
  },
  {
   "cell_type": "code",
   "execution_count": null,
   "id": "9bcd0ac7",
   "metadata": {},
   "outputs": [],
   "source": [
    "acp_nb = 4\n",
    "acp_name = county_database[county_database[\"acp\"] == acp_nb][\"acp_name\"].iloc[0]\n",
    "\n",
    "kwargs = {\"filter_equality\": \"acp\",\n",
    "          \"filter_equality_value\": acp_nb,\n",
    "          \"additional_text\": \"<br>American Communities: \" + acp_name,\n",
    "          \"shared_yaxes\": \"all\"}\n",
    "\n",
    "custom_scatter_plot(feat_col=\"pct_jail\",\n",
    "                    feat_name=\"Jail population %\",\n",
    "                    type_data=\"Excess Mortality\",\n",
    "                    min_val=None, max_val=None,\n",
    "                    cmid=0,\n",
    "                    show_figures=False,\n",
    "                    **kwargs)"
   ]
  },
  {
   "cell_type": "markdown",
   "id": "8b873f59",
   "metadata": {},
   "source": [
    "Community type 5 - COVID-19"
   ]
  },
  {
   "cell_type": "code",
   "execution_count": null,
   "id": "37ef41d4",
   "metadata": {},
   "outputs": [],
   "source": [
    "acp_nb = 5\n",
    "acp_name = county_database[county_database[\"acp\"] == acp_nb][\"acp_name\"].iloc[0]\n",
    "\n",
    "kwargs = {\"filter_equality\": \"acp\",\n",
    "          \"filter_equality_value\": acp_nb,\n",
    "          \"additional_text\": \"<br>American Communities: \" + acp_name,\n",
    "          \"shared_yaxes\": \"all\"}\n",
    "\n",
    "custom_scatter_plot(feat_col=\"pct_jail\",\n",
    "                    feat_name=\"Jail population %\",\n",
    "                    type_data=\"COVID-19\",\n",
    "                    min_val=None, max_val=None,\n",
    "                    cmid=0,\n",
    "                    show_figures=False,\n",
    "                    **kwargs)"
   ]
  },
  {
   "cell_type": "markdown",
   "id": "a17ffcdf",
   "metadata": {},
   "source": [
    "Community type 5 - All Causes"
   ]
  },
  {
   "cell_type": "code",
   "execution_count": null,
   "id": "4c2af1a0",
   "metadata": {},
   "outputs": [],
   "source": [
    "acp_nb = 5\n",
    "acp_name = county_database[county_database[\"acp\"] == acp_nb][\"acp_name\"].iloc[0]\n",
    "\n",
    "kwargs = {\"filter_equality\": \"acp\",\n",
    "          \"filter_equality_value\": acp_nb,\n",
    "          \"additional_text\": \"<br>American Communities: \" + acp_name,\n",
    "          \"shared_yaxes\": \"all\"}\n",
    "\n",
    "custom_scatter_plot(feat_col=\"pct_jail\",\n",
    "                    feat_name=\"Jail population %\",\n",
    "                    type_data=\"All Causes\",\n",
    "                    min_val=None, max_val=None,\n",
    "                    cmid=0,\n",
    "                    show_figures=False,\n",
    "                    **kwargs)"
   ]
  },
  {
   "cell_type": "markdown",
   "id": "77896640",
   "metadata": {},
   "source": [
    "Community type 5 - Excess Mortality"
   ]
  },
  {
   "cell_type": "code",
   "execution_count": null,
   "id": "840671eb",
   "metadata": {},
   "outputs": [],
   "source": [
    "acp_nb = 5\n",
    "acp_name = county_database[county_database[\"acp\"] == acp_nb][\"acp_name\"].iloc[0]\n",
    "\n",
    "kwargs = {\"filter_equality\": \"acp\",\n",
    "          \"filter_equality_value\": acp_nb,\n",
    "          \"additional_text\": \"<br>American Communities: \" + acp_name,\n",
    "          \"shared_yaxes\": \"all\"}\n",
    "\n",
    "custom_scatter_plot(feat_col=\"pct_jail\",\n",
    "                    feat_name=\"Jail population %\",\n",
    "                    type_data=\"Excess Mortality\",\n",
    "                    min_val=None, max_val=None,\n",
    "                    cmid=0,\n",
    "                    show_figures=False,\n",
    "                    **kwargs)"
   ]
  },
  {
   "cell_type": "markdown",
   "id": "8c278c62",
   "metadata": {},
   "source": [
    "Community type 6 - COVID-19"
   ]
  },
  {
   "cell_type": "code",
   "execution_count": null,
   "id": "5cf8e16a",
   "metadata": {},
   "outputs": [],
   "source": [
    "acp_nb = 6\n",
    "acp_name = county_database[county_database[\"acp\"] == acp_nb][\"acp_name\"].iloc[0]\n",
    "\n",
    "kwargs = {\"filter_equality\": \"acp\",\n",
    "          \"filter_equality_value\": acp_nb,\n",
    "          \"additional_text\": \"<br>American Communities: \" + acp_name,\n",
    "          \"shared_yaxes\": \"all\"}\n",
    "\n",
    "custom_scatter_plot(feat_col=\"pct_jail\",\n",
    "                    feat_name=\"Jail population %\",\n",
    "                    type_data=\"COVID-19\",\n",
    "                    min_val=None, max_val=None,\n",
    "                    cmid=0,\n",
    "                    show_figures=False,\n",
    "                    **kwargs)"
   ]
  },
  {
   "cell_type": "markdown",
   "id": "d23a7628",
   "metadata": {},
   "source": [
    "Community type 6 - All Causes"
   ]
  },
  {
   "cell_type": "code",
   "execution_count": null,
   "id": "528647cb",
   "metadata": {},
   "outputs": [],
   "source": [
    "acp_nb = 6\n",
    "acp_name = county_database[county_database[\"acp\"] == acp_nb][\"acp_name\"].iloc[0]\n",
    "\n",
    "kwargs = {\"filter_equality\": \"acp\",\n",
    "          \"filter_equality_value\": acp_nb,\n",
    "          \"additional_text\": \"<br>American Communities: \" + acp_name,\n",
    "          \"shared_yaxes\": \"all\"}\n",
    "\n",
    "custom_scatter_plot(feat_col=\"pct_jail\",\n",
    "                    feat_name=\"Jail population %\",\n",
    "                    type_data=\"All Causes\",\n",
    "                    min_val=None, max_val=None,\n",
    "                    cmid=0,\n",
    "                    show_figures=False,\n",
    "                    **kwargs)"
   ]
  },
  {
   "cell_type": "markdown",
   "id": "46a5a523",
   "metadata": {},
   "source": [
    "Community type 6 - Excess Mortality"
   ]
  },
  {
   "cell_type": "code",
   "execution_count": null,
   "id": "69ea69ff",
   "metadata": {},
   "outputs": [],
   "source": [
    "acp_nb = 6\n",
    "acp_name = county_database[county_database[\"acp\"] == acp_nb][\"acp_name\"].iloc[0]\n",
    "\n",
    "kwargs = {\"filter_equality\": \"acp\",\n",
    "          \"filter_equality_value\": acp_nb,\n",
    "          \"additional_text\": \"<br>American Communities: \" + acp_name,\n",
    "          \"shared_yaxes\": \"all\"}\n",
    "\n",
    "custom_scatter_plot(feat_col=\"pct_jail\",\n",
    "                    feat_name=\"Jail population %\",\n",
    "                    type_data=\"Excess Mortality\",\n",
    "                    min_val=None, max_val=None,\n",
    "                    cmid=0,\n",
    "                    show_figures=False,\n",
    "                    **kwargs)"
   ]
  },
  {
   "cell_type": "markdown",
   "id": "f6ac3476",
   "metadata": {},
   "source": [
    "Community type 7 - COVID-19"
   ]
  },
  {
   "cell_type": "code",
   "execution_count": null,
   "id": "5638f224",
   "metadata": {},
   "outputs": [],
   "source": [
    "acp_nb = 7\n",
    "acp_name = county_database[county_database[\"acp\"] == acp_nb][\"acp_name\"].iloc[0]\n",
    "\n",
    "kwargs = {\"filter_equality\": \"acp\",\n",
    "          \"filter_equality_value\": acp_nb,\n",
    "          \"additional_text\": \"<br>American Communities: \" + acp_name,\n",
    "          \"shared_yaxes\": \"all\"}\n",
    "\n",
    "custom_scatter_plot(feat_col=\"pct_jail\",\n",
    "                    feat_name=\"Jail population %\",\n",
    "                    type_data=\"COVID-19\",\n",
    "                    min_val=None, max_val=None,\n",
    "                    cmid=0,\n",
    "                    show_figures=False,\n",
    "                    **kwargs)"
   ]
  },
  {
   "cell_type": "markdown",
   "id": "ae01acf2",
   "metadata": {},
   "source": [
    "Community type 7 - All Causes"
   ]
  },
  {
   "cell_type": "code",
   "execution_count": null,
   "id": "97a594e3",
   "metadata": {},
   "outputs": [],
   "source": [
    "acp_nb = 7\n",
    "acp_name = county_database[county_database[\"acp\"] == acp_nb][\"acp_name\"].iloc[0]\n",
    "\n",
    "kwargs = {\"filter_equality\": \"acp\",\n",
    "          \"filter_equality_value\": acp_nb,\n",
    "          \"additional_text\": \"<br>American Communities: \" + acp_name,\n",
    "          \"shared_yaxes\": \"all\"}\n",
    "\n",
    "custom_scatter_plot(feat_col=\"pct_jail\",\n",
    "                    feat_name=\"Jail population %\",\n",
    "                    type_data=\"All Causes\",\n",
    "                    min_val=None, max_val=None,\n",
    "                    cmid=0,\n",
    "                    show_figures=False,\n",
    "                    **kwargs)"
   ]
  },
  {
   "cell_type": "markdown",
   "id": "2e195300",
   "metadata": {},
   "source": [
    "Community type 7 - Excess Mortality"
   ]
  },
  {
   "cell_type": "code",
   "execution_count": null,
   "id": "4335205f",
   "metadata": {},
   "outputs": [],
   "source": [
    "acp_nb = 7\n",
    "acp_name = county_database[county_database[\"acp\"] == acp_nb][\"acp_name\"].iloc[0]\n",
    "\n",
    "kwargs = {\"filter_equality\": \"acp\",\n",
    "          \"filter_equality_value\": acp_nb,\n",
    "          \"additional_text\": \"<br>American Communities: \" + acp_name,\n",
    "          \"shared_yaxes\": \"all\"}\n",
    "\n",
    "custom_scatter_plot(feat_col=\"pct_jail\",\n",
    "                    feat_name=\"Jail population %\",\n",
    "                    type_data=\"Excess Mortality\",\n",
    "                    min_val=None, max_val=None,\n",
    "                    cmid=0,\n",
    "                    show_figures=False,\n",
    "                    **kwargs)"
   ]
  },
  {
   "cell_type": "markdown",
   "id": "a902a4a0",
   "metadata": {},
   "source": [
    "Community type 8 - COVID-19"
   ]
  },
  {
   "cell_type": "code",
   "execution_count": null,
   "id": "00b1af71",
   "metadata": {},
   "outputs": [],
   "source": [
    "acp_nb = 8\n",
    "acp_name = county_database[county_database[\"acp\"] == acp_nb][\"acp_name\"].iloc[0]\n",
    "\n",
    "kwargs = {\"filter_equality\": \"acp\",\n",
    "          \"filter_equality_value\": acp_nb,\n",
    "          \"additional_text\": \"<br>American Communities: \" + acp_name,\n",
    "          \"shared_yaxes\": \"all\"}\n",
    "\n",
    "custom_scatter_plot(feat_col=\"pct_jail\",\n",
    "                    feat_name=\"Jail population %\",\n",
    "                    type_data=\"COVID-19\",\n",
    "                    min_val=None, max_val=None,\n",
    "                    cmid=0,\n",
    "                    show_figures=False,\n",
    "                    **kwargs)"
   ]
  },
  {
   "cell_type": "markdown",
   "id": "e69984b7",
   "metadata": {},
   "source": [
    "Community type 8 - All Causes"
   ]
  },
  {
   "cell_type": "code",
   "execution_count": null,
   "id": "3afdf8f9",
   "metadata": {},
   "outputs": [],
   "source": [
    "acp_nb = 8\n",
    "acp_name = county_database[county_database[\"acp\"] == acp_nb][\"acp_name\"].iloc[0]\n",
    "\n",
    "kwargs = {\"filter_equality\": \"acp\",\n",
    "          \"filter_equality_value\": acp_nb,\n",
    "          \"additional_text\": \"<br>American Communities: \" + acp_name,\n",
    "          \"shared_yaxes\": \"all\"}\n",
    "\n",
    "custom_scatter_plot(feat_col=\"pct_jail\",\n",
    "                    feat_name=\"Jail population %\",\n",
    "                    type_data=\"All Causes\",\n",
    "                    min_val=None, max_val=None,\n",
    "                    cmid=0,\n",
    "                    show_figures=False,\n",
    "                    **kwargs)"
   ]
  },
  {
   "cell_type": "markdown",
   "id": "f690a98c",
   "metadata": {},
   "source": [
    "Community type 8 - Excess Mortality"
   ]
  },
  {
   "cell_type": "code",
   "execution_count": null,
   "id": "718f25a4",
   "metadata": {},
   "outputs": [],
   "source": [
    "acp_nb = 8\n",
    "acp_name = county_database[county_database[\"acp\"] == acp_nb][\"acp_name\"].iloc[0]\n",
    "\n",
    "kwargs = {\"filter_equality\": \"acp\",\n",
    "          \"filter_equality_value\": acp_nb,\n",
    "          \"additional_text\": \"<br>American Communities: \" + acp_name,\n",
    "          \"shared_yaxes\": \"all\"}\n",
    "\n",
    "custom_scatter_plot(feat_col=\"pct_jail\",\n",
    "                    feat_name=\"Jail population %\",\n",
    "                    type_data=\"Excess Mortality\",\n",
    "                    min_val=None, max_val=None,\n",
    "                    cmid=0,\n",
    "                    show_figures=False,\n",
    "                    **kwargs)"
   ]
  },
  {
   "cell_type": "markdown",
   "id": "1acc42b4",
   "metadata": {},
   "source": [
    "Community type 9 - COVID-19"
   ]
  },
  {
   "cell_type": "code",
   "execution_count": null,
   "id": "41b0f1cf",
   "metadata": {},
   "outputs": [],
   "source": [
    "acp_nb = 9\n",
    "acp_name = county_database[county_database[\"acp\"] == acp_nb][\"acp_name\"].iloc[0]\n",
    "\n",
    "kwargs = {\"filter_equality\": \"acp\",\n",
    "          \"filter_equality_value\": acp_nb,\n",
    "          \"additional_text\": \"<br>American Communities: \" + acp_name,\n",
    "          \"shared_yaxes\": \"all\"}\n",
    "\n",
    "custom_scatter_plot(feat_col=\"pct_jail\",\n",
    "                    feat_name=\"Jail population %\",\n",
    "                    type_data=\"COVID-19\",\n",
    "                    min_val=None, max_val=None,\n",
    "                    cmid=0,\n",
    "                    show_figures=False,\n",
    "                    **kwargs)"
   ]
  },
  {
   "cell_type": "markdown",
   "id": "e51e4c55",
   "metadata": {},
   "source": [
    "Community type 9 - All Causes"
   ]
  },
  {
   "cell_type": "code",
   "execution_count": null,
   "id": "ed3ac082",
   "metadata": {},
   "outputs": [],
   "source": [
    "acp_nb = 9\n",
    "acp_name = county_database[county_database[\"acp\"] == acp_nb][\"acp_name\"].iloc[0]\n",
    "\n",
    "kwargs = {\"filter_equality\": \"acp\",\n",
    "          \"filter_equality_value\": acp_nb,\n",
    "          \"additional_text\": \"<br>American Communities: \" + acp_name,\n",
    "          \"shared_yaxes\": \"all\"}\n",
    "\n",
    "custom_scatter_plot(feat_col=\"pct_jail\",\n",
    "                    feat_name=\"Jail population %\",\n",
    "                    type_data=\"All Causes\",\n",
    "                    min_val=None, max_val=None,\n",
    "                    cmid=0,\n",
    "                    show_figures=False,\n",
    "                    **kwargs)"
   ]
  },
  {
   "cell_type": "markdown",
   "id": "82476c6f",
   "metadata": {},
   "source": [
    "Community type 9 - Excess Mortality"
   ]
  },
  {
   "cell_type": "code",
   "execution_count": null,
   "id": "27c7cf9e",
   "metadata": {},
   "outputs": [],
   "source": [
    "acp_nb = 9\n",
    "acp_name = county_database[county_database[\"acp\"] == acp_nb][\"acp_name\"].iloc[0]\n",
    "\n",
    "kwargs = {\"filter_equality\": \"acp\",\n",
    "          \"filter_equality_value\": acp_nb,\n",
    "          \"additional_text\": \"<br>American Communities: \" + acp_name,\n",
    "          \"shared_yaxes\": \"all\"}\n",
    "\n",
    "custom_scatter_plot(feat_col=\"pct_jail\",\n",
    "                    feat_name=\"Jail population %\",\n",
    "                    type_data=\"Excess Mortality\",\n",
    "                    min_val=None, max_val=None,\n",
    "                    cmid=0,\n",
    "                    show_figures=False,\n",
    "                    **kwargs)"
   ]
  },
  {
   "cell_type": "markdown",
   "id": "39079595",
   "metadata": {},
   "source": [
    "Community type 10 - COVID-19"
   ]
  },
  {
   "cell_type": "code",
   "execution_count": null,
   "id": "55717cba",
   "metadata": {},
   "outputs": [],
   "source": [
    "acp_nb = 10\n",
    "acp_name = county_database[county_database[\"acp\"] == acp_nb][\"acp_name\"].iloc[0]\n",
    "\n",
    "kwargs = {\"filter_equality\": \"acp\",\n",
    "          \"filter_equality_value\": acp_nb,\n",
    "          \"additional_text\": \"<br>American Communities: \" + acp_name,\n",
    "          \"shared_yaxes\": \"all\"}\n",
    "\n",
    "custom_scatter_plot(feat_col=\"pct_jail\",\n",
    "                    feat_name=\"Jail population %\",\n",
    "                    type_data=\"COVID-19\",\n",
    "                    min_val=None, max_val=None,\n",
    "                    cmid=0,\n",
    "                    show_figures=False,\n",
    "                    **kwargs)"
   ]
  },
  {
   "cell_type": "markdown",
   "id": "146a67a4",
   "metadata": {},
   "source": [
    "Community type 10 - All Causes"
   ]
  },
  {
   "cell_type": "code",
   "execution_count": null,
   "id": "be8a308d",
   "metadata": {},
   "outputs": [],
   "source": [
    "acp_nb = 10\n",
    "acp_name = county_database[county_database[\"acp\"] == acp_nb][\"acp_name\"].iloc[0]\n",
    "\n",
    "kwargs = {\"filter_equality\": \"acp\",\n",
    "          \"filter_equality_value\": acp_nb,\n",
    "          \"additional_text\": \"<br>American Communities: \" + acp_name,\n",
    "          \"shared_yaxes\": \"all\"}\n",
    "\n",
    "custom_scatter_plot(feat_col=\"pct_jail\",\n",
    "                    feat_name=\"Jail population %\",\n",
    "                    type_data=\"All Causes\",\n",
    "                    min_val=None, max_val=None,\n",
    "                    cmid=0,\n",
    "                    show_figures=False,\n",
    "                    **kwargs)"
   ]
  },
  {
   "cell_type": "markdown",
   "id": "c68e5315",
   "metadata": {},
   "source": [
    "Community type 10 - Excess Mortality"
   ]
  },
  {
   "cell_type": "code",
   "execution_count": null,
   "id": "55a0d840",
   "metadata": {},
   "outputs": [],
   "source": [
    "acp_nb = 10\n",
    "acp_name = county_database[county_database[\"acp\"] == acp_nb][\"acp_name\"].iloc[0]\n",
    "\n",
    "kwargs = {\"filter_equality\": \"acp\",\n",
    "          \"filter_equality_value\": acp_nb,\n",
    "          \"additional_text\": \"<br>American Communities: \" + acp_name,\n",
    "          \"shared_yaxes\": \"all\"}\n",
    "\n",
    "custom_scatter_plot(feat_col=\"pct_jail\",\n",
    "                    feat_name=\"Jail population %\",\n",
    "                    type_data=\"Excess Mortality\",\n",
    "                    min_val=None, max_val=None,\n",
    "                    cmid=0,\n",
    "                    show_figures=False,\n",
    "                    **kwargs)"
   ]
  },
  {
   "cell_type": "markdown",
   "id": "fc4ce974",
   "metadata": {},
   "source": [
    "Community type 11 - COVID-19"
   ]
  },
  {
   "cell_type": "code",
   "execution_count": null,
   "id": "1b5992ca",
   "metadata": {},
   "outputs": [],
   "source": [
    "acp_nb = 11\n",
    "acp_name = county_database[county_database[\"acp\"] == acp_nb][\"acp_name\"].iloc[0]\n",
    "\n",
    "kwargs = {\"filter_equality\": \"acp\",\n",
    "          \"filter_equality_value\": acp_nb,\n",
    "          \"additional_text\": \"<br>American Communities: \" + acp_name,\n",
    "          \"shared_yaxes\": \"all\"}\n",
    "\n",
    "custom_scatter_plot(feat_col=\"pct_jail\",\n",
    "                    feat_name=\"Jail population %\",\n",
    "                    type_data=\"COVID-19\",\n",
    "                    min_val=None, max_val=None,\n",
    "                    cmid=0,\n",
    "                    show_figures=False,\n",
    "                    **kwargs)"
   ]
  },
  {
   "cell_type": "markdown",
   "id": "784a2a9b",
   "metadata": {},
   "source": [
    "Community type 11 - All Causes"
   ]
  },
  {
   "cell_type": "code",
   "execution_count": null,
   "id": "b2524b6f",
   "metadata": {},
   "outputs": [],
   "source": [
    "acp_nb = 11\n",
    "acp_name = county_database[county_database[\"acp\"] == acp_nb][\"acp_name\"].iloc[0]\n",
    "\n",
    "kwargs = {\"filter_equality\": \"acp\",\n",
    "          \"filter_equality_value\": acp_nb,\n",
    "          \"additional_text\": \"<br>American Communities: \" + acp_name,\n",
    "          \"shared_yaxes\": \"all\"}\n",
    "\n",
    "custom_scatter_plot(feat_col=\"pct_jail\",\n",
    "                    feat_name=\"Jail population %\",\n",
    "                    type_data=\"All Causes\",\n",
    "                    min_val=None, max_val=None,\n",
    "                    cmid=0,\n",
    "                    show_figures=False,\n",
    "                    **kwargs)"
   ]
  },
  {
   "cell_type": "markdown",
   "id": "47b2b5a6",
   "metadata": {},
   "source": [
    "Community type 11 - Excess Mortality"
   ]
  },
  {
   "cell_type": "code",
   "execution_count": null,
   "id": "86cecd38",
   "metadata": {},
   "outputs": [],
   "source": [
    "acp_nb = 11\n",
    "acp_name = county_database[county_database[\"acp\"] == acp_nb][\"acp_name\"].iloc[0]\n",
    "\n",
    "kwargs = {\"filter_equality\": \"acp\",\n",
    "          \"filter_equality_value\": acp_nb,\n",
    "          \"additional_text\": \"<br>American Communities: \" + acp_name,\n",
    "          \"shared_yaxes\": \"all\"}\n",
    "\n",
    "custom_scatter_plot(feat_col=\"pct_jail\",\n",
    "                    feat_name=\"Jail population %\",\n",
    "                    type_data=\"Excess Mortality\",\n",
    "                    min_val=None, max_val=None,\n",
    "                    cmid=0,\n",
    "                    show_figures=False,\n",
    "                    **kwargs)"
   ]
  },
  {
   "cell_type": "markdown",
   "id": "db212f0d",
   "metadata": {},
   "source": [
    "Community type 12 - COVID-19"
   ]
  },
  {
   "cell_type": "code",
   "execution_count": null,
   "id": "06727c49",
   "metadata": {},
   "outputs": [],
   "source": [
    "acp_nb = 12\n",
    "acp_name = county_database[county_database[\"acp\"] == acp_nb][\"acp_name\"].iloc[0]\n",
    "\n",
    "kwargs = {\"filter_equality\": \"acp\",\n",
    "          \"filter_equality_value\": acp_nb,\n",
    "          \"additional_text\": \"<br>American Communities: \" + acp_name,\n",
    "          \"shared_yaxes\": \"all\"}\n",
    "\n",
    "custom_scatter_plot(feat_col=\"pct_jail\",\n",
    "                    feat_name=\"Jail population %\",\n",
    "                    type_data=\"COVID-19\",\n",
    "                    min_val=None, max_val=None,\n",
    "                    cmid=0,\n",
    "                    show_figures=False,\n",
    "                    **kwargs)"
   ]
  },
  {
   "cell_type": "markdown",
   "id": "4124fc6c",
   "metadata": {},
   "source": [
    "Community type 12 - All Causes"
   ]
  },
  {
   "cell_type": "code",
   "execution_count": null,
   "id": "73fb601e",
   "metadata": {},
   "outputs": [],
   "source": [
    "acp_nb = 12\n",
    "acp_name = county_database[county_database[\"acp\"] == acp_nb][\"acp_name\"].iloc[0]\n",
    "\n",
    "kwargs = {\"filter_equality\": \"acp\",\n",
    "          \"filter_equality_value\": acp_nb,\n",
    "          \"additional_text\": \"<br>American Communities: \" + acp_name,\n",
    "          \"shared_yaxes\": \"all\"}\n",
    "\n",
    "custom_scatter_plot(feat_col=\"pct_jail\",\n",
    "                    feat_name=\"Jail population %\",\n",
    "                    type_data=\"All Causes\",\n",
    "                    min_val=None, max_val=None,\n",
    "                    cmid=0,\n",
    "                    show_figures=False,\n",
    "                    **kwargs)"
   ]
  },
  {
   "cell_type": "markdown",
   "id": "52e2f859",
   "metadata": {},
   "source": [
    "Community type 12 - Excess Mortality"
   ]
  },
  {
   "cell_type": "code",
   "execution_count": null,
   "id": "393ccfde",
   "metadata": {},
   "outputs": [],
   "source": [
    "acp_nb = 12\n",
    "acp_name = county_database[county_database[\"acp\"] == acp_nb][\"acp_name\"].iloc[0]\n",
    "\n",
    "kwargs = {\"filter_equality\": \"acp\",\n",
    "          \"filter_equality_value\": acp_nb,\n",
    "          \"additional_text\": \"<br>American Communities: \" + acp_name,\n",
    "          \"shared_yaxes\": \"all\"}\n",
    "\n",
    "custom_scatter_plot(feat_col=\"pct_jail\",\n",
    "                    feat_name=\"Jail population %\",\n",
    "                    type_data=\"Excess Mortality\",\n",
    "                    min_val=None, max_val=None,\n",
    "                    cmid=0,\n",
    "                    show_figures=False,\n",
    "                    **kwargs)"
   ]
  },
  {
   "cell_type": "markdown",
   "id": "959fd968",
   "metadata": {},
   "source": [
    "Community type 13 - COVID-19"
   ]
  },
  {
   "cell_type": "code",
   "execution_count": null,
   "id": "3770671f",
   "metadata": {},
   "outputs": [],
   "source": [
    "acp_nb = 13\n",
    "acp_name = county_database[county_database[\"acp\"] == acp_nb][\"acp_name\"].iloc[0]\n",
    "\n",
    "kwargs = {\"filter_equality\": \"acp\",\n",
    "          \"filter_equality_value\": acp_nb,\n",
    "          \"additional_text\": \"<br>American Communities: \" + acp_name,\n",
    "          \"shared_yaxes\": \"all\"}\n",
    "\n",
    "custom_scatter_plot(feat_col=\"pct_jail\",\n",
    "                    feat_name=\"Jail population %\",\n",
    "                    type_data=\"COVID-19\",\n",
    "                    min_val=None, max_val=None,\n",
    "                    cmid=0,\n",
    "                    show_figures=False,\n",
    "                    **kwargs)"
   ]
  },
  {
   "cell_type": "markdown",
   "id": "7cf395d3",
   "metadata": {},
   "source": [
    "Community type 13 - All Causes"
   ]
  },
  {
   "cell_type": "code",
   "execution_count": null,
   "id": "daa8c60b",
   "metadata": {},
   "outputs": [],
   "source": [
    "acp_nb = 13\n",
    "acp_name = county_database[county_database[\"acp\"] == acp_nb][\"acp_name\"].iloc[0]\n",
    "\n",
    "kwargs = {\"filter_equality\": \"acp\",\n",
    "          \"filter_equality_value\": acp_nb,\n",
    "          \"additional_text\": \"<br>American Communities: \" + acp_name,\n",
    "          \"shared_yaxes\": \"all\"}\n",
    "\n",
    "custom_scatter_plot(feat_col=\"pct_jail\",\n",
    "                    feat_name=\"Jail population %\",\n",
    "                    type_data=\"All Causes\",\n",
    "                    min_val=None, max_val=None,\n",
    "                    cmid=0,\n",
    "                    show_figures=False,\n",
    "                    **kwargs)"
   ]
  },
  {
   "cell_type": "markdown",
   "id": "6d7ab20c",
   "metadata": {},
   "source": [
    "Community type 13 - Excess Mortality"
   ]
  },
  {
   "cell_type": "code",
   "execution_count": null,
   "id": "22d8d53d",
   "metadata": {},
   "outputs": [],
   "source": [
    "acp_nb = 13\n",
    "acp_name = county_database[county_database[\"acp\"] == acp_nb][\"acp_name\"].iloc[0]\n",
    "\n",
    "kwargs = {\"filter_equality\": \"acp\",\n",
    "          \"filter_equality_value\": acp_nb,\n",
    "          \"additional_text\": \"<br>American Communities: \" + acp_name,\n",
    "          \"shared_yaxes\": \"all\"}\n",
    "\n",
    "custom_scatter_plot(feat_col=\"pct_jail\",\n",
    "                    feat_name=\"Jail population %\",\n",
    "                    type_data=\"Excess Mortality\",\n",
    "                    min_val=None, max_val=None,\n",
    "                    cmid=0,\n",
    "                    show_figures=False,\n",
    "                    **kwargs)"
   ]
  },
  {
   "cell_type": "markdown",
   "id": "95126f32",
   "metadata": {},
   "source": [
    "Community type 14 - COVID-19"
   ]
  },
  {
   "cell_type": "code",
   "execution_count": null,
   "id": "98d2c364",
   "metadata": {},
   "outputs": [],
   "source": [
    "acp_nb = 14\n",
    "acp_name = county_database[county_database[\"acp\"] == acp_nb][\"acp_name\"].iloc[0]\n",
    "\n",
    "kwargs = {\"filter_equality\": \"acp\",\n",
    "          \"filter_equality_value\": acp_nb,\n",
    "          \"additional_text\": \"<br>American Communities: \" + acp_name,\n",
    "          \"shared_yaxes\": \"all\"}\n",
    "\n",
    "custom_scatter_plot(feat_col=\"pct_jail\",\n",
    "                    feat_name=\"Jail population %\",\n",
    "                    type_data=\"COVID-19\",\n",
    "                    min_val=None, max_val=None,\n",
    "                    cmid=0,\n",
    "                    show_figures=False,\n",
    "                    **kwargs)"
   ]
  },
  {
   "cell_type": "markdown",
   "id": "1aa19157",
   "metadata": {},
   "source": [
    "Community type 14 - All Causes"
   ]
  },
  {
   "cell_type": "code",
   "execution_count": null,
   "id": "0e5ae32a",
   "metadata": {},
   "outputs": [],
   "source": [
    "acp_nb = 14\n",
    "acp_name = county_database[county_database[\"acp\"] == acp_nb][\"acp_name\"].iloc[0]\n",
    "\n",
    "kwargs = {\"filter_equality\": \"acp\",\n",
    "          \"filter_equality_value\": acp_nb,\n",
    "          \"additional_text\": \"<br>American Communities: \" + acp_name,\n",
    "          \"shared_yaxes\": \"all\"}\n",
    "\n",
    "custom_scatter_plot(feat_col=\"pct_jail\",\n",
    "                    feat_name=\"Jail population %\",\n",
    "                    type_data=\"All Causes\",\n",
    "                    min_val=None, max_val=None,\n",
    "                    cmid=0,\n",
    "                    show_figures=False,\n",
    "                    **kwargs)"
   ]
  },
  {
   "cell_type": "markdown",
   "id": "48713ccb",
   "metadata": {},
   "source": [
    "Community type 14 - Excess Mortality"
   ]
  },
  {
   "cell_type": "code",
   "execution_count": null,
   "id": "11ddc6ff",
   "metadata": {},
   "outputs": [],
   "source": [
    "acp_nb = 14\n",
    "acp_name = county_database[county_database[\"acp\"] == acp_nb][\"acp_name\"].iloc[0]\n",
    "\n",
    "kwargs = {\"filter_equality\": \"acp\",\n",
    "          \"filter_equality_value\": acp_nb,\n",
    "          \"additional_text\": \"<br>American Communities: \" + acp_name,\n",
    "          \"shared_yaxes\": \"all\"}\n",
    "\n",
    "custom_scatter_plot(feat_col=\"pct_jail\",\n",
    "                    feat_name=\"Jail population %\",\n",
    "                    type_data=\"Excess Mortality\",\n",
    "                    min_val=None, max_val=None,\n",
    "                    cmid=0,\n",
    "                    show_figures=False,\n",
    "                    **kwargs)"
   ]
  },
  {
   "cell_type": "markdown",
   "id": "1fc2e09b",
   "metadata": {},
   "source": [
    "Community type 15 - COVID-19"
   ]
  },
  {
   "cell_type": "code",
   "execution_count": null,
   "id": "d65e6d28",
   "metadata": {},
   "outputs": [],
   "source": [
    "acp_nb = 15\n",
    "acp_name = county_database[county_database[\"acp\"] == acp_nb][\"acp_name\"].iloc[0]\n",
    "\n",
    "kwargs = {\"filter_equality\": \"acp\",\n",
    "          \"filter_equality_value\": acp_nb,\n",
    "          \"additional_text\": \"<br>American Communities: \" + acp_name,\n",
    "          \"shared_yaxes\": \"all\"}\n",
    "\n",
    "custom_scatter_plot(feat_col=\"pct_jail\",\n",
    "                    feat_name=\"Jail population %\",\n",
    "                    type_data=\"COVID-19\",\n",
    "                    min_val=None, max_val=None,\n",
    "                    cmid=0,\n",
    "                    show_figures=False,\n",
    "                    **kwargs)"
   ]
  },
  {
   "cell_type": "markdown",
   "id": "6882b1e9",
   "metadata": {},
   "source": [
    "Community type 15 - All Causes"
   ]
  },
  {
   "cell_type": "code",
   "execution_count": null,
   "id": "d78e85cd",
   "metadata": {},
   "outputs": [],
   "source": [
    "acp_nb = 15\n",
    "acp_name = county_database[county_database[\"acp\"] == acp_nb][\"acp_name\"].iloc[0]\n",
    "\n",
    "kwargs = {\"filter_equality\": \"acp\",\n",
    "          \"filter_equality_value\": acp_nb,\n",
    "          \"additional_text\": \"<br>American Communities: \" + acp_name,\n",
    "          \"shared_yaxes\": \"all\"}\n",
    "\n",
    "custom_scatter_plot(feat_col=\"pct_jail\",\n",
    "                    feat_name=\"Jail population %\",\n",
    "                    type_data=\"All Causes\",\n",
    "                    min_val=None, max_val=None,\n",
    "                    cmid=0,\n",
    "                    show_figures=False,\n",
    "                    **kwargs)"
   ]
  },
  {
   "cell_type": "markdown",
   "id": "31da021d",
   "metadata": {},
   "source": [
    "Community type 15 - Excess Mortality"
   ]
  },
  {
   "cell_type": "code",
   "execution_count": null,
   "id": "319db99c",
   "metadata": {},
   "outputs": [],
   "source": [
    "acp_nb = 15\n",
    "acp_name = county_database[county_database[\"acp\"] == acp_nb][\"acp_name\"].iloc[0]\n",
    "\n",
    "kwargs = {\"filter_equality\": \"acp\",\n",
    "          \"filter_equality_value\": acp_nb,\n",
    "          \"additional_text\": \"<br>American Communities: \" + acp_name,\n",
    "          \"shared_yaxes\": \"all\"}\n",
    "\n",
    "custom_scatter_plot(feat_col=\"pct_jail\",\n",
    "                    feat_name=\"Jail population %\",\n",
    "                    type_data=\"Excess Mortality\",\n",
    "                    min_val=None, max_val=None,\n",
    "                    cmid=0,\n",
    "                    show_figures=False,\n",
    "                    **kwargs)"
   ]
  },
  {
   "cell_type": "markdown",
   "id": "a93445e1",
   "metadata": {},
   "source": [
    "### Nursing population %"
   ]
  },
  {
   "cell_type": "markdown",
   "id": "8b44c0a5",
   "metadata": {},
   "source": [
    "Box plot"
   ]
  },
  {
   "cell_type": "code",
   "execution_count": null,
   "id": "0f5abbc8",
   "metadata": {},
   "outputs": [],
   "source": [
    "fig = go.Figure()\n",
    "for acp_nb in range(1, 16):\n",
    "    acp_name = acp_dic[acp_nb]\n",
    "    fig.add_trace(go.Box(y=county_database[county_database[\"acp\"] == acp_nb][\"pct_nursing\"],\n",
    "                         name=acp_name,\n",
    "                         marker_color=community_color_dic[acp_name]))\n",
    "\n",
    "fig.update_layout(title_text=\"Box Plot Nursing population % - Community level\",\n",
    "                  yaxis_title=\"Nursing population %\",\n",
    "                  width=1500, height=500)\n",
    "fig.write_image(\"Plot/Analysis/boxplot_pct_nursing_communities.png\")"
   ]
  },
  {
   "cell_type": "markdown",
   "id": "72c93bce",
   "metadata": {},
   "source": [
    "Community type 1 - COVID-19"
   ]
  },
  {
   "cell_type": "code",
   "execution_count": null,
   "id": "bcb9f638",
   "metadata": {},
   "outputs": [],
   "source": [
    "acp_nb = 1\n",
    "acp_name = county_database[county_database[\"acp\"] == acp_nb][\"acp_name\"].iloc[0]\n",
    "\n",
    "kwargs = {\"filter_equality\": \"acp\",\n",
    "          \"filter_equality_value\": acp_nb,\n",
    "          \"additional_text\": \"<br>American Communities: \" + acp_name,\n",
    "          \"shared_yaxes\": \"all\"}\n",
    "\n",
    "custom_scatter_plot(feat_col=\"pct_nursing\",\n",
    "                    feat_name=\"Nursing population %\",\n",
    "                    type_data=\"COVID-19\",\n",
    "                    min_val=None, max_val=None,\n",
    "                    cmid=0,\n",
    "                    show_figures=False,\n",
    "                    **kwargs)"
   ]
  },
  {
   "cell_type": "markdown",
   "id": "6f479153",
   "metadata": {},
   "source": [
    "Community type 1 - All Causes"
   ]
  },
  {
   "cell_type": "code",
   "execution_count": null,
   "id": "2ffbeebf",
   "metadata": {},
   "outputs": [],
   "source": [
    "acp_nb = 1\n",
    "acp_name = county_database[county_database[\"acp\"] == acp_nb][\"acp_name\"].iloc[0]\n",
    "\n",
    "kwargs = {\"filter_equality\": \"acp\",\n",
    "          \"filter_equality_value\": acp_nb,\n",
    "          \"additional_text\": \"<br>American Communities: \" + acp_name,\n",
    "          \"shared_yaxes\": \"all\"}\n",
    "\n",
    "custom_scatter_plot(feat_col=\"pct_nursing\",\n",
    "                    feat_name=\"Nursing population %\",\n",
    "                    type_data=\"All Causes\",\n",
    "                    min_val=None, max_val=None,\n",
    "                    cmid=0,\n",
    "                    show_figures=False,\n",
    "                    **kwargs)"
   ]
  },
  {
   "cell_type": "markdown",
   "id": "af80fe12",
   "metadata": {},
   "source": [
    "Community type 1 - Excess Mortality"
   ]
  },
  {
   "cell_type": "code",
   "execution_count": null,
   "id": "50a835bf",
   "metadata": {},
   "outputs": [],
   "source": [
    "acp_nb = 1\n",
    "acp_name = county_database[county_database[\"acp\"] == acp_nb][\"acp_name\"].iloc[0]\n",
    "\n",
    "kwargs = {\"filter_equality\": \"acp\",\n",
    "          \"filter_equality_value\": acp_nb,\n",
    "          \"additional_text\": \"<br>American Communities: \" + acp_name,\n",
    "          \"shared_yaxes\": \"all\"}\n",
    "\n",
    "custom_scatter_plot(feat_col=\"pct_nursing\",\n",
    "                    feat_name=\"Nursing population %\",\n",
    "                    type_data=\"Excess Mortality\",\n",
    "                    min_val=None, max_val=None,\n",
    "                    cmid=0,\n",
    "                    show_figures=False,\n",
    "                    **kwargs)"
   ]
  },
  {
   "cell_type": "markdown",
   "id": "c2afe89d",
   "metadata": {},
   "source": [
    "Community type 2 - COVID-19"
   ]
  },
  {
   "cell_type": "code",
   "execution_count": null,
   "id": "6728f0c7",
   "metadata": {},
   "outputs": [],
   "source": [
    "acp_nb = 2\n",
    "acp_name = county_database[county_database[\"acp\"] == acp_nb][\"acp_name\"].iloc[0]\n",
    "\n",
    "kwargs = {\"filter_equality\": \"acp\",\n",
    "          \"filter_equality_value\": acp_nb,\n",
    "          \"additional_text\": \"<br>American Communities: \" + acp_name,\n",
    "          \"shared_yaxes\": \"all\"}\n",
    "\n",
    "custom_scatter_plot(feat_col=\"pct_nursing\",\n",
    "                    feat_name=\"Nursing population %\",\n",
    "                    type_data=\"COVID-19\",\n",
    "                    min_val=None, max_val=None,\n",
    "                    cmid=0,\n",
    "                    show_figures=False,\n",
    "                    **kwargs)"
   ]
  },
  {
   "cell_type": "markdown",
   "id": "ac0eb540",
   "metadata": {},
   "source": [
    "Community type 2 - All Causes"
   ]
  },
  {
   "cell_type": "code",
   "execution_count": null,
   "id": "01e669b5",
   "metadata": {},
   "outputs": [],
   "source": [
    "acp_nb = 2\n",
    "acp_name = county_database[county_database[\"acp\"] == acp_nb][\"acp_name\"].iloc[0]\n",
    "\n",
    "kwargs = {\"filter_equality\": \"acp\",\n",
    "          \"filter_equality_value\": acp_nb,\n",
    "          \"additional_text\": \"<br>American Communities: \" + acp_name,\n",
    "          \"shared_yaxes\": \"all\"}\n",
    "\n",
    "custom_scatter_plot(feat_col=\"pct_nursing\",\n",
    "                    feat_name=\"Nursing population %\",\n",
    "                    type_data=\"All Causes\",\n",
    "                    min_val=None, max_val=None,\n",
    "                    cmid=0,\n",
    "                    show_figures=False,\n",
    "                    **kwargs)"
   ]
  },
  {
   "cell_type": "markdown",
   "id": "70a0a9ea",
   "metadata": {},
   "source": [
    "Community type 2 - Excess Mortality"
   ]
  },
  {
   "cell_type": "code",
   "execution_count": null,
   "id": "e04e8855",
   "metadata": {},
   "outputs": [],
   "source": [
    "acp_nb = 2\n",
    "acp_name = county_database[county_database[\"acp\"] == acp_nb][\"acp_name\"].iloc[0]\n",
    "\n",
    "kwargs = {\"filter_equality\": \"acp\",\n",
    "          \"filter_equality_value\": acp_nb,\n",
    "          \"additional_text\": \"<br>American Communities: \" + acp_name,\n",
    "          \"shared_yaxes\": \"all\"}\n",
    "\n",
    "custom_scatter_plot(feat_col=\"pct_nursing\",\n",
    "                    feat_name=\"Nursing population %\",\n",
    "                    type_data=\"Excess Mortality\",\n",
    "                    min_val=None, max_val=None,\n",
    "                    cmid=0,\n",
    "                    show_figures=False,\n",
    "                    **kwargs)"
   ]
  },
  {
   "cell_type": "markdown",
   "id": "6a013c37",
   "metadata": {},
   "source": [
    "Community type 3 - COVID-19"
   ]
  },
  {
   "cell_type": "code",
   "execution_count": null,
   "id": "451893a6",
   "metadata": {},
   "outputs": [],
   "source": [
    "acp_nb = 3\n",
    "acp_name = county_database[county_database[\"acp\"] == acp_nb][\"acp_name\"].iloc[0]\n",
    "\n",
    "kwargs = {\"filter_equality\": \"acp\",\n",
    "          \"filter_equality_value\": acp_nb,\n",
    "          \"additional_text\": \"<br>American Communities: \" + acp_name,\n",
    "          \"shared_yaxes\": \"all\"}\n",
    "\n",
    "custom_scatter_plot(feat_col=\"pct_nursing\",\n",
    "                    feat_name=\"Nursing population %\",\n",
    "                    type_data=\"COVID-19\",\n",
    "                    min_val=None, max_val=None,\n",
    "                    cmid=0,\n",
    "                    show_figures=False,\n",
    "                    **kwargs)"
   ]
  },
  {
   "cell_type": "markdown",
   "id": "30a39c74",
   "metadata": {},
   "source": [
    "Community type 3 - All Causes"
   ]
  },
  {
   "cell_type": "code",
   "execution_count": null,
   "id": "041b5c5d",
   "metadata": {},
   "outputs": [],
   "source": [
    "acp_nb = 3\n",
    "acp_name = county_database[county_database[\"acp\"] == acp_nb][\"acp_name\"].iloc[0]\n",
    "\n",
    "kwargs = {\"filter_equality\": \"acp\",\n",
    "          \"filter_equality_value\": acp_nb,\n",
    "          \"additional_text\": \"<br>American Communities: \" + acp_name,\n",
    "          \"shared_yaxes\": \"all\"}\n",
    "\n",
    "custom_scatter_plot(feat_col=\"pct_nursing\",\n",
    "                    feat_name=\"Nursing population %\",\n",
    "                    type_data=\"All Causes\",\n",
    "                    min_val=None, max_val=None,\n",
    "                    cmid=0,\n",
    "                    show_figures=False,\n",
    "                    **kwargs)"
   ]
  },
  {
   "cell_type": "markdown",
   "id": "8ef95423",
   "metadata": {},
   "source": [
    "Community type 3 - Excess Mortality"
   ]
  },
  {
   "cell_type": "code",
   "execution_count": null,
   "id": "55f13cb5",
   "metadata": {},
   "outputs": [],
   "source": [
    "acp_nb = 3\n",
    "acp_name = county_database[county_database[\"acp\"] == acp_nb][\"acp_name\"].iloc[0]\n",
    "\n",
    "kwargs = {\"filter_equality\": \"acp\",\n",
    "          \"filter_equality_value\": acp_nb,\n",
    "          \"additional_text\": \"<br>American Communities: \" + acp_name,\n",
    "          \"shared_yaxes\": \"all\"}\n",
    "\n",
    "custom_scatter_plot(feat_col=\"pct_nursing\",\n",
    "                    feat_name=\"Nursing population %\",\n",
    "                    type_data=\"Excess Mortality\",\n",
    "                    min_val=None, max_val=None,\n",
    "                    cmid=0,\n",
    "                    show_figures=False,\n",
    "                    **kwargs)"
   ]
  },
  {
   "cell_type": "markdown",
   "id": "23c07d87",
   "metadata": {},
   "source": [
    "Community type 4 - COVID-19"
   ]
  },
  {
   "cell_type": "code",
   "execution_count": null,
   "id": "1eafac8d",
   "metadata": {},
   "outputs": [],
   "source": [
    "acp_nb = 4\n",
    "acp_name = county_database[county_database[\"acp\"] == acp_nb][\"acp_name\"].iloc[0]\n",
    "\n",
    "kwargs = {\"filter_equality\": \"acp\",\n",
    "          \"filter_equality_value\": acp_nb,\n",
    "          \"additional_text\": \"<br>American Communities: \" + acp_name,\n",
    "          \"shared_yaxes\": \"all\"}\n",
    "\n",
    "custom_scatter_plot(feat_col=\"pct_nursing\",\n",
    "                    feat_name=\"Nursing population %\",\n",
    "                    type_data=\"COVID-19\",\n",
    "                    min_val=None, max_val=None,\n",
    "                    cmid=0,\n",
    "                    show_figures=False,\n",
    "                    **kwargs)"
   ]
  },
  {
   "cell_type": "markdown",
   "id": "6b0c87f4",
   "metadata": {},
   "source": [
    "Community type 4 - All Causes"
   ]
  },
  {
   "cell_type": "code",
   "execution_count": null,
   "id": "6e948bae",
   "metadata": {},
   "outputs": [],
   "source": [
    "acp_nb = 4\n",
    "acp_name = county_database[county_database[\"acp\"] == acp_nb][\"acp_name\"].iloc[0]\n",
    "\n",
    "kwargs = {\"filter_equality\": \"acp\",\n",
    "          \"filter_equality_value\": acp_nb,\n",
    "          \"additional_text\": \"<br>American Communities: \" + acp_name,\n",
    "          \"shared_yaxes\": \"all\"}\n",
    "\n",
    "custom_scatter_plot(feat_col=\"pct_nursing\",\n",
    "                    feat_name=\"Nursing population %\",\n",
    "                    type_data=\"All Causes\",\n",
    "                    min_val=None, max_val=None,\n",
    "                    cmid=0,\n",
    "                    show_figures=False,\n",
    "                    **kwargs)"
   ]
  },
  {
   "cell_type": "markdown",
   "id": "1d55b8a1",
   "metadata": {},
   "source": [
    "Community type 4 - Excess Mortality"
   ]
  },
  {
   "cell_type": "code",
   "execution_count": null,
   "id": "5f8ce4ea",
   "metadata": {},
   "outputs": [],
   "source": [
    "acp_nb = 4\n",
    "acp_name = county_database[county_database[\"acp\"] == acp_nb][\"acp_name\"].iloc[0]\n",
    "\n",
    "kwargs = {\"filter_equality\": \"acp\",\n",
    "          \"filter_equality_value\": acp_nb,\n",
    "          \"additional_text\": \"<br>American Communities: \" + acp_name,\n",
    "          \"shared_yaxes\": \"all\"}\n",
    "\n",
    "custom_scatter_plot(feat_col=\"pct_nursing\",\n",
    "                    feat_name=\"Nursing population %\",\n",
    "                    type_data=\"Excess Mortality\",\n",
    "                    min_val=None, max_val=None,\n",
    "                    cmid=0,\n",
    "                    show_figures=False,\n",
    "                    **kwargs)"
   ]
  },
  {
   "cell_type": "markdown",
   "id": "121b0700",
   "metadata": {},
   "source": [
    "Community type 5 - COVID-19"
   ]
  },
  {
   "cell_type": "code",
   "execution_count": null,
   "id": "156bb583",
   "metadata": {},
   "outputs": [],
   "source": [
    "acp_nb = 5\n",
    "acp_name = county_database[county_database[\"acp\"] == acp_nb][\"acp_name\"].iloc[0]\n",
    "\n",
    "kwargs = {\"filter_equality\": \"acp\",\n",
    "          \"filter_equality_value\": acp_nb,\n",
    "          \"additional_text\": \"<br>American Communities: \" + acp_name,\n",
    "          \"shared_yaxes\": \"all\"}\n",
    "\n",
    "custom_scatter_plot(feat_col=\"pct_nursing\",\n",
    "                    feat_name=\"Nursing population %\",\n",
    "                    type_data=\"COVID-19\",\n",
    "                    min_val=None, max_val=None,\n",
    "                    cmid=0,\n",
    "                    show_figures=False,\n",
    "                    **kwargs)"
   ]
  },
  {
   "cell_type": "markdown",
   "id": "422407e9",
   "metadata": {},
   "source": [
    "Community type 5 - All Causes"
   ]
  },
  {
   "cell_type": "code",
   "execution_count": null,
   "id": "6e77b065",
   "metadata": {},
   "outputs": [],
   "source": [
    "acp_nb = 5\n",
    "acp_name = county_database[county_database[\"acp\"] == acp_nb][\"acp_name\"].iloc[0]\n",
    "\n",
    "kwargs = {\"filter_equality\": \"acp\",\n",
    "          \"filter_equality_value\": acp_nb,\n",
    "          \"additional_text\": \"<br>American Communities: \" + acp_name,\n",
    "          \"shared_yaxes\": \"all\"}\n",
    "\n",
    "custom_scatter_plot(feat_col=\"pct_nursing\",\n",
    "                    feat_name=\"Nursing population %\",\n",
    "                    type_data=\"All Causes\",\n",
    "                    min_val=None, max_val=None,\n",
    "                    cmid=0,\n",
    "                    show_figures=False,\n",
    "                    **kwargs)"
   ]
  },
  {
   "cell_type": "markdown",
   "id": "21a93e6e",
   "metadata": {},
   "source": [
    "Community type 5 - Excess Mortality"
   ]
  },
  {
   "cell_type": "code",
   "execution_count": null,
   "id": "7a4d90ad",
   "metadata": {},
   "outputs": [],
   "source": [
    "acp_nb = 5\n",
    "acp_name = county_database[county_database[\"acp\"] == acp_nb][\"acp_name\"].iloc[0]\n",
    "\n",
    "kwargs = {\"filter_equality\": \"acp\",\n",
    "          \"filter_equality_value\": acp_nb,\n",
    "          \"additional_text\": \"<br>American Communities: \" + acp_name,\n",
    "          \"shared_yaxes\": \"all\"}\n",
    "\n",
    "custom_scatter_plot(feat_col=\"pct_nursing\",\n",
    "                    feat_name=\"Nursing population %\",\n",
    "                    type_data=\"Excess Mortality\",\n",
    "                    min_val=None, max_val=None,\n",
    "                    cmid=0,\n",
    "                    show_figures=False,\n",
    "                    **kwargs)"
   ]
  },
  {
   "cell_type": "markdown",
   "id": "cc4d342c",
   "metadata": {},
   "source": [
    "Community type 6 - COVID-19"
   ]
  },
  {
   "cell_type": "code",
   "execution_count": null,
   "id": "42fd7c65",
   "metadata": {},
   "outputs": [],
   "source": [
    "acp_nb = 6\n",
    "acp_name = county_database[county_database[\"acp\"] == acp_nb][\"acp_name\"].iloc[0]\n",
    "\n",
    "kwargs = {\"filter_equality\": \"acp\",\n",
    "          \"filter_equality_value\": acp_nb,\n",
    "          \"additional_text\": \"<br>American Communities: \" + acp_name,\n",
    "          \"shared_yaxes\": \"all\"}\n",
    "\n",
    "custom_scatter_plot(feat_col=\"pct_nursing\",\n",
    "                    feat_name=\"Nursing population %\",\n",
    "                    type_data=\"COVID-19\",\n",
    "                    min_val=None, max_val=None,\n",
    "                    cmid=0,\n",
    "                    show_figures=False,\n",
    "                    **kwargs)"
   ]
  },
  {
   "cell_type": "markdown",
   "id": "9ba42d97",
   "metadata": {},
   "source": [
    "Community type 6 - All Causes"
   ]
  },
  {
   "cell_type": "code",
   "execution_count": null,
   "id": "f199a835",
   "metadata": {},
   "outputs": [],
   "source": [
    "acp_nb = 6\n",
    "acp_name = county_database[county_database[\"acp\"] == acp_nb][\"acp_name\"].iloc[0]\n",
    "\n",
    "kwargs = {\"filter_equality\": \"acp\",\n",
    "          \"filter_equality_value\": acp_nb,\n",
    "          \"additional_text\": \"<br>American Communities: \" + acp_name,\n",
    "          \"shared_yaxes\": \"all\"}\n",
    "\n",
    "custom_scatter_plot(feat_col=\"pct_nursing\",\n",
    "                    feat_name=\"Nursing population %\",\n",
    "                    type_data=\"All Causes\",\n",
    "                    min_val=None, max_val=None,\n",
    "                    cmid=0,\n",
    "                    show_figures=False,\n",
    "                    **kwargs)"
   ]
  },
  {
   "cell_type": "markdown",
   "id": "0342a514",
   "metadata": {},
   "source": [
    "Community type 6 - Excess Mortality"
   ]
  },
  {
   "cell_type": "code",
   "execution_count": null,
   "id": "6f5f347c",
   "metadata": {},
   "outputs": [],
   "source": [
    "acp_nb = 6\n",
    "acp_name = county_database[county_database[\"acp\"] == acp_nb][\"acp_name\"].iloc[0]\n",
    "\n",
    "kwargs = {\"filter_equality\": \"acp\",\n",
    "          \"filter_equality_value\": acp_nb,\n",
    "          \"additional_text\": \"<br>American Communities: \" + acp_name,\n",
    "          \"shared_yaxes\": \"all\"}\n",
    "\n",
    "custom_scatter_plot(feat_col=\"pct_nursing\",\n",
    "                    feat_name=\"Nursing population %\",\n",
    "                    type_data=\"Excess Mortality\",\n",
    "                    min_val=None, max_val=None,\n",
    "                    cmid=0,\n",
    "                    show_figures=False,\n",
    "                    **kwargs)"
   ]
  },
  {
   "cell_type": "markdown",
   "id": "34cbdef1",
   "metadata": {},
   "source": [
    "Community type 7 - COVID-19"
   ]
  },
  {
   "cell_type": "code",
   "execution_count": null,
   "id": "09e99569",
   "metadata": {},
   "outputs": [],
   "source": [
    "acp_nb = 7\n",
    "acp_name = county_database[county_database[\"acp\"] == acp_nb][\"acp_name\"].iloc[0]\n",
    "\n",
    "kwargs = {\"filter_equality\": \"acp\",\n",
    "          \"filter_equality_value\": acp_nb,\n",
    "          \"additional_text\": \"<br>American Communities: \" + acp_name,\n",
    "          \"shared_yaxes\": \"all\"}\n",
    "\n",
    "custom_scatter_plot(feat_col=\"pct_nursing\",\n",
    "                    feat_name=\"Nursing population %\",\n",
    "                    type_data=\"COVID-19\",\n",
    "                    min_val=None, max_val=None,\n",
    "                    cmid=0,\n",
    "                    show_figures=False,\n",
    "                    **kwargs)"
   ]
  },
  {
   "cell_type": "markdown",
   "id": "a4892a0a",
   "metadata": {},
   "source": [
    "Community type 7 - All Causes"
   ]
  },
  {
   "cell_type": "code",
   "execution_count": null,
   "id": "ec4d8c3d",
   "metadata": {},
   "outputs": [],
   "source": [
    "acp_nb = 7\n",
    "acp_name = county_database[county_database[\"acp\"] == acp_nb][\"acp_name\"].iloc[0]\n",
    "\n",
    "kwargs = {\"filter_equality\": \"acp\",\n",
    "          \"filter_equality_value\": acp_nb,\n",
    "          \"additional_text\": \"<br>American Communities: \" + acp_name,\n",
    "          \"shared_yaxes\": \"all\"}\n",
    "\n",
    "custom_scatter_plot(feat_col=\"pct_nursing\",\n",
    "                    feat_name=\"Nursing population %\",\n",
    "                    type_data=\"All Causes\",\n",
    "                    min_val=None, max_val=None,\n",
    "                    cmid=0,\n",
    "                    show_figures=False,\n",
    "                    **kwargs)"
   ]
  },
  {
   "cell_type": "markdown",
   "id": "3df63ff2",
   "metadata": {},
   "source": [
    "Community type 7 - Excess Mortality"
   ]
  },
  {
   "cell_type": "code",
   "execution_count": null,
   "id": "257beaa2",
   "metadata": {},
   "outputs": [],
   "source": [
    "acp_nb = 7\n",
    "acp_name = county_database[county_database[\"acp\"] == acp_nb][\"acp_name\"].iloc[0]\n",
    "\n",
    "kwargs = {\"filter_equality\": \"acp\",\n",
    "          \"filter_equality_value\": acp_nb,\n",
    "          \"additional_text\": \"<br>American Communities: \" + acp_name,\n",
    "          \"shared_yaxes\": \"all\"}\n",
    "\n",
    "custom_scatter_plot(feat_col=\"pct_nursing\",\n",
    "                    feat_name=\"Nursing population %\",\n",
    "                    type_data=\"Excess Mortality\",\n",
    "                    min_val=None, max_val=None,\n",
    "                    cmid=0,\n",
    "                    show_figures=False,\n",
    "                    **kwargs)"
   ]
  },
  {
   "cell_type": "markdown",
   "id": "064a047a",
   "metadata": {},
   "source": [
    "Community type 8 - COVID-19"
   ]
  },
  {
   "cell_type": "code",
   "execution_count": null,
   "id": "01ee21fd",
   "metadata": {},
   "outputs": [],
   "source": [
    "acp_nb = 8\n",
    "acp_name = county_database[county_database[\"acp\"] == acp_nb][\"acp_name\"].iloc[0]\n",
    "\n",
    "kwargs = {\"filter_equality\": \"acp\",\n",
    "          \"filter_equality_value\": acp_nb,\n",
    "          \"additional_text\": \"<br>American Communities: \" + acp_name,\n",
    "          \"shared_yaxes\": \"all\"}\n",
    "\n",
    "custom_scatter_plot(feat_col=\"pct_nursing\",\n",
    "                    feat_name=\"Nursing population %\",\n",
    "                    type_data=\"COVID-19\",\n",
    "                    min_val=None, max_val=None,\n",
    "                    cmid=0,\n",
    "                    show_figures=False,\n",
    "                    **kwargs)"
   ]
  },
  {
   "cell_type": "markdown",
   "id": "5addd914",
   "metadata": {},
   "source": [
    "Community type 8 - All Causes"
   ]
  },
  {
   "cell_type": "code",
   "execution_count": null,
   "id": "41850bac",
   "metadata": {},
   "outputs": [],
   "source": [
    "acp_nb = 8\n",
    "acp_name = county_database[county_database[\"acp\"] == acp_nb][\"acp_name\"].iloc[0]\n",
    "\n",
    "kwargs = {\"filter_equality\": \"acp\",\n",
    "          \"filter_equality_value\": acp_nb,\n",
    "          \"additional_text\": \"<br>American Communities: \" + acp_name,\n",
    "          \"shared_yaxes\": \"all\"}\n",
    "\n",
    "custom_scatter_plot(feat_col=\"pct_nursing\",\n",
    "                    feat_name=\"Nursing population %\",\n",
    "                    type_data=\"All Causes\",\n",
    "                    min_val=None, max_val=None,\n",
    "                    cmid=0,\n",
    "                    show_figures=False,\n",
    "                    **kwargs)"
   ]
  },
  {
   "cell_type": "markdown",
   "id": "a47a486d",
   "metadata": {},
   "source": [
    "Community type 8 - Excess Mortality"
   ]
  },
  {
   "cell_type": "code",
   "execution_count": null,
   "id": "a7eb7185",
   "metadata": {},
   "outputs": [],
   "source": [
    "acp_nb = 8\n",
    "acp_name = county_database[county_database[\"acp\"] == acp_nb][\"acp_name\"].iloc[0]\n",
    "\n",
    "kwargs = {\"filter_equality\": \"acp\",\n",
    "          \"filter_equality_value\": acp_nb,\n",
    "          \"additional_text\": \"<br>American Communities: \" + acp_name,\n",
    "          \"shared_yaxes\": \"all\"}\n",
    "\n",
    "custom_scatter_plot(feat_col=\"pct_nursing\",\n",
    "                    feat_name=\"Nursing population %\",\n",
    "                    type_data=\"Excess Mortality\",\n",
    "                    min_val=None, max_val=None,\n",
    "                    cmid=0,\n",
    "                    show_figures=False,\n",
    "                    **kwargs)"
   ]
  },
  {
   "cell_type": "markdown",
   "id": "143bd47d",
   "metadata": {},
   "source": [
    "Community type 9 - COVID-19"
   ]
  },
  {
   "cell_type": "code",
   "execution_count": null,
   "id": "39633ae0",
   "metadata": {},
   "outputs": [],
   "source": [
    "acp_nb = 9\n",
    "acp_name = county_database[county_database[\"acp\"] == acp_nb][\"acp_name\"].iloc[0]\n",
    "\n",
    "kwargs = {\"filter_equality\": \"acp\",\n",
    "          \"filter_equality_value\": acp_nb,\n",
    "          \"additional_text\": \"<br>American Communities: \" + acp_name,\n",
    "          \"shared_yaxes\": \"all\"}\n",
    "\n",
    "custom_scatter_plot(feat_col=\"pct_nursing\",\n",
    "                    feat_name=\"Nursing population %\",\n",
    "                    type_data=\"COVID-19\",\n",
    "                    min_val=None, max_val=None,\n",
    "                    cmid=0,\n",
    "                    show_figures=False,\n",
    "                    **kwargs)"
   ]
  },
  {
   "cell_type": "markdown",
   "id": "e306fe31",
   "metadata": {},
   "source": [
    "Community type 9 - All Causes"
   ]
  },
  {
   "cell_type": "code",
   "execution_count": null,
   "id": "a0ed96c4",
   "metadata": {},
   "outputs": [],
   "source": [
    "acp_nb = 9\n",
    "acp_name = county_database[county_database[\"acp\"] == acp_nb][\"acp_name\"].iloc[0]\n",
    "\n",
    "kwargs = {\"filter_equality\": \"acp\",\n",
    "          \"filter_equality_value\": acp_nb,\n",
    "          \"additional_text\": \"<br>American Communities: \" + acp_name,\n",
    "          \"shared_yaxes\": \"all\"}\n",
    "\n",
    "custom_scatter_plot(feat_col=\"pct_nursing\",\n",
    "                    feat_name=\"Nursing population %\",\n",
    "                    type_data=\"All Causes\",\n",
    "                    min_val=None, max_val=None,\n",
    "                    cmid=0,\n",
    "                    show_figures=False,\n",
    "                    **kwargs)"
   ]
  },
  {
   "cell_type": "markdown",
   "id": "632484e0",
   "metadata": {},
   "source": [
    "Community type 9 - Excess Mortality"
   ]
  },
  {
   "cell_type": "code",
   "execution_count": null,
   "id": "f2ce8c97",
   "metadata": {},
   "outputs": [],
   "source": [
    "acp_nb = 9\n",
    "acp_name = county_database[county_database[\"acp\"] == acp_nb][\"acp_name\"].iloc[0]\n",
    "\n",
    "kwargs = {\"filter_equality\": \"acp\",\n",
    "          \"filter_equality_value\": acp_nb,\n",
    "          \"additional_text\": \"<br>American Communities: \" + acp_name,\n",
    "          \"shared_yaxes\": \"all\"}\n",
    "\n",
    "custom_scatter_plot(feat_col=\"pct_nursing\",\n",
    "                    feat_name=\"Nursing population %\",\n",
    "                    type_data=\"Excess Mortality\",\n",
    "                    min_val=None, max_val=None,\n",
    "                    cmid=0,\n",
    "                    show_figures=False,\n",
    "                    **kwargs)"
   ]
  },
  {
   "cell_type": "markdown",
   "id": "f3dbdaaa",
   "metadata": {},
   "source": [
    "Community type 10 - COVID-19"
   ]
  },
  {
   "cell_type": "code",
   "execution_count": null,
   "id": "4820fa92",
   "metadata": {},
   "outputs": [],
   "source": [
    "acp_nb = 10\n",
    "acp_name = county_database[county_database[\"acp\"] == acp_nb][\"acp_name\"].iloc[0]\n",
    "\n",
    "kwargs = {\"filter_equality\": \"acp\",\n",
    "          \"filter_equality_value\": acp_nb,\n",
    "          \"additional_text\": \"<br>American Communities: \" + acp_name,\n",
    "          \"shared_yaxes\": \"all\"}\n",
    "\n",
    "custom_scatter_plot(feat_col=\"pct_nursing\",\n",
    "                    feat_name=\"Nursing population %\",\n",
    "                    type_data=\"COVID-19\",\n",
    "                    min_val=None, max_val=None,\n",
    "                    cmid=0,\n",
    "                    show_figures=False,\n",
    "                    **kwargs)"
   ]
  },
  {
   "cell_type": "markdown",
   "id": "3a59105b",
   "metadata": {},
   "source": [
    "Community type 10 - All Causes"
   ]
  },
  {
   "cell_type": "code",
   "execution_count": null,
   "id": "1106406c",
   "metadata": {},
   "outputs": [],
   "source": [
    "acp_nb = 10\n",
    "acp_name = county_database[county_database[\"acp\"] == acp_nb][\"acp_name\"].iloc[0]\n",
    "\n",
    "kwargs = {\"filter_equality\": \"acp\",\n",
    "          \"filter_equality_value\": acp_nb,\n",
    "          \"additional_text\": \"<br>American Communities: \" + acp_name,\n",
    "          \"shared_yaxes\": \"all\"}\n",
    "\n",
    "custom_scatter_plot(feat_col=\"pct_nursing\",\n",
    "                    feat_name=\"Nursing population %\",\n",
    "                    type_data=\"All Causes\",\n",
    "                    min_val=None, max_val=None,\n",
    "                    cmid=0,\n",
    "                    show_figures=False,\n",
    "                    **kwargs)"
   ]
  },
  {
   "cell_type": "markdown",
   "id": "3b547e1a",
   "metadata": {},
   "source": [
    "Community type 10 - Excess Mortality"
   ]
  },
  {
   "cell_type": "code",
   "execution_count": null,
   "id": "9ae23eac",
   "metadata": {},
   "outputs": [],
   "source": [
    "acp_nb = 10\n",
    "acp_name = county_database[county_database[\"acp\"] == acp_nb][\"acp_name\"].iloc[0]\n",
    "\n",
    "kwargs = {\"filter_equality\": \"acp\",\n",
    "          \"filter_equality_value\": acp_nb,\n",
    "          \"additional_text\": \"<br>American Communities: \" + acp_name,\n",
    "          \"shared_yaxes\": \"all\"}\n",
    "\n",
    "custom_scatter_plot(feat_col=\"pct_nursing\",\n",
    "                    feat_name=\"Nursing population %\",\n",
    "                    type_data=\"Excess Mortality\",\n",
    "                    min_val=None, max_val=None,\n",
    "                    cmid=0,\n",
    "                    show_figures=False,\n",
    "                    **kwargs)"
   ]
  },
  {
   "cell_type": "markdown",
   "id": "a3ded7a2",
   "metadata": {},
   "source": [
    "Community type 11 - COVID-19"
   ]
  },
  {
   "cell_type": "code",
   "execution_count": null,
   "id": "fa6c4608",
   "metadata": {},
   "outputs": [],
   "source": [
    "acp_nb = 11\n",
    "acp_name = county_database[county_database[\"acp\"] == acp_nb][\"acp_name\"].iloc[0]\n",
    "\n",
    "kwargs = {\"filter_equality\": \"acp\",\n",
    "          \"filter_equality_value\": acp_nb,\n",
    "          \"additional_text\": \"<br>American Communities: \" + acp_name,\n",
    "          \"shared_yaxes\": \"all\"}\n",
    "\n",
    "custom_scatter_plot(feat_col=\"pct_nursing\",\n",
    "                    feat_name=\"Nursing population %\",\n",
    "                    type_data=\"COVID-19\",\n",
    "                    min_val=None, max_val=None,\n",
    "                    cmid=0,\n",
    "                    show_figures=False,\n",
    "                    **kwargs)"
   ]
  },
  {
   "cell_type": "markdown",
   "id": "91c92d59",
   "metadata": {},
   "source": [
    "Community type 11 - All Causes"
   ]
  },
  {
   "cell_type": "code",
   "execution_count": null,
   "id": "78f5a11a",
   "metadata": {},
   "outputs": [],
   "source": [
    "acp_nb = 11\n",
    "acp_name = county_database[county_database[\"acp\"] == acp_nb][\"acp_name\"].iloc[0]\n",
    "\n",
    "kwargs = {\"filter_equality\": \"acp\",\n",
    "          \"filter_equality_value\": acp_nb,\n",
    "          \"additional_text\": \"<br>American Communities: \" + acp_name,\n",
    "          \"shared_yaxes\": \"all\"}\n",
    "\n",
    "custom_scatter_plot(feat_col=\"pct_nursing\",\n",
    "                    feat_name=\"Nursing population %\",\n",
    "                    type_data=\"All Causes\",\n",
    "                    min_val=None, max_val=None,\n",
    "                    cmid=0,\n",
    "                    show_figures=False,\n",
    "                    **kwargs)"
   ]
  },
  {
   "cell_type": "markdown",
   "id": "14350bfa",
   "metadata": {},
   "source": [
    "Community type 11 - Excess Mortality"
   ]
  },
  {
   "cell_type": "code",
   "execution_count": null,
   "id": "292da21a",
   "metadata": {},
   "outputs": [],
   "source": [
    "acp_nb = 11\n",
    "acp_name = county_database[county_database[\"acp\"] == acp_nb][\"acp_name\"].iloc[0]\n",
    "\n",
    "kwargs = {\"filter_equality\": \"acp\",\n",
    "          \"filter_equality_value\": acp_nb,\n",
    "          \"additional_text\": \"<br>American Communities: \" + acp_name,\n",
    "          \"shared_yaxes\": \"all\"}\n",
    "\n",
    "custom_scatter_plot(feat_col=\"pct_nursing\",\n",
    "                    feat_name=\"Nursing population %\",\n",
    "                    type_data=\"Excess Mortality\",\n",
    "                    min_val=None, max_val=None,\n",
    "                    cmid=0,\n",
    "                    show_figures=False,\n",
    "                    **kwargs)"
   ]
  },
  {
   "cell_type": "markdown",
   "id": "d90a010e",
   "metadata": {},
   "source": [
    "Community type 12 - COVID-19"
   ]
  },
  {
   "cell_type": "code",
   "execution_count": null,
   "id": "94ed3162",
   "metadata": {},
   "outputs": [],
   "source": [
    "acp_nb = 12\n",
    "acp_name = county_database[county_database[\"acp\"] == acp_nb][\"acp_name\"].iloc[0]\n",
    "\n",
    "kwargs = {\"filter_equality\": \"acp\",\n",
    "          \"filter_equality_value\": acp_nb,\n",
    "          \"additional_text\": \"<br>American Communities: \" + acp_name,\n",
    "          \"shared_yaxes\": \"all\"}\n",
    "\n",
    "custom_scatter_plot(feat_col=\"pct_nursing\",\n",
    "                    feat_name=\"Nursing population %\",\n",
    "                    type_data=\"COVID-19\",\n",
    "                    min_val=None, max_val=None,\n",
    "                    cmid=0,\n",
    "                    show_figures=False,\n",
    "                    **kwargs)"
   ]
  },
  {
   "cell_type": "markdown",
   "id": "73716306",
   "metadata": {},
   "source": [
    "Community type 12 - All Causes"
   ]
  },
  {
   "cell_type": "code",
   "execution_count": null,
   "id": "87e3ad44",
   "metadata": {},
   "outputs": [],
   "source": [
    "acp_nb = 12\n",
    "acp_name = county_database[county_database[\"acp\"] == acp_nb][\"acp_name\"].iloc[0]\n",
    "\n",
    "kwargs = {\"filter_equality\": \"acp\",\n",
    "          \"filter_equality_value\": acp_nb,\n",
    "          \"additional_text\": \"<br>American Communities: \" + acp_name,\n",
    "          \"shared_yaxes\": \"all\"}\n",
    "\n",
    "custom_scatter_plot(feat_col=\"pct_nursing\",\n",
    "                    feat_name=\"Nursing population %\",\n",
    "                    type_data=\"All Causes\",\n",
    "                    min_val=None, max_val=None,\n",
    "                    cmid=0,\n",
    "                    show_figures=False,\n",
    "                    **kwargs)"
   ]
  },
  {
   "cell_type": "markdown",
   "id": "ceea0e60",
   "metadata": {},
   "source": [
    "Community type 12 - Excess Mortality"
   ]
  },
  {
   "cell_type": "code",
   "execution_count": null,
   "id": "1be3e03a",
   "metadata": {},
   "outputs": [],
   "source": [
    "acp_nb = 12\n",
    "acp_name = county_database[county_database[\"acp\"] == acp_nb][\"acp_name\"].iloc[0]\n",
    "\n",
    "kwargs = {\"filter_equality\": \"acp\",\n",
    "          \"filter_equality_value\": acp_nb,\n",
    "          \"additional_text\": \"<br>American Communities: \" + acp_name,\n",
    "          \"shared_yaxes\": \"all\"}\n",
    "\n",
    "custom_scatter_plot(feat_col=\"pct_nursing\",\n",
    "                    feat_name=\"Nursing population %\",\n",
    "                    type_data=\"Excess Mortality\",\n",
    "                    min_val=None, max_val=None,\n",
    "                    cmid=0,\n",
    "                    show_figures=False,\n",
    "                    **kwargs)"
   ]
  },
  {
   "cell_type": "markdown",
   "id": "534f544e",
   "metadata": {},
   "source": [
    "Community type 13 - COVID-19"
   ]
  },
  {
   "cell_type": "code",
   "execution_count": null,
   "id": "416490cf",
   "metadata": {},
   "outputs": [],
   "source": [
    "acp_nb = 13\n",
    "acp_name = county_database[county_database[\"acp\"] == acp_nb][\"acp_name\"].iloc[0]\n",
    "\n",
    "kwargs = {\"filter_equality\": \"acp\",\n",
    "          \"filter_equality_value\": acp_nb,\n",
    "          \"additional_text\": \"<br>American Communities: \" + acp_name,\n",
    "          \"shared_yaxes\": \"all\"}\n",
    "\n",
    "custom_scatter_plot(feat_col=\"pct_nursing\",\n",
    "                    feat_name=\"Nursing population %\",\n",
    "                    type_data=\"COVID-19\",\n",
    "                    min_val=None, max_val=None,\n",
    "                    cmid=0,\n",
    "                    show_figures=False,\n",
    "                    **kwargs)"
   ]
  },
  {
   "cell_type": "markdown",
   "id": "116e906f",
   "metadata": {},
   "source": [
    "Community type 13 - All Causes"
   ]
  },
  {
   "cell_type": "code",
   "execution_count": null,
   "id": "f77c43ec",
   "metadata": {},
   "outputs": [],
   "source": [
    "acp_nb = 13\n",
    "acp_name = county_database[county_database[\"acp\"] == acp_nb][\"acp_name\"].iloc[0]\n",
    "\n",
    "kwargs = {\"filter_equality\": \"acp\",\n",
    "          \"filter_equality_value\": acp_nb,\n",
    "          \"additional_text\": \"<br>American Communities: \" + acp_name,\n",
    "          \"shared_yaxes\": \"all\"}\n",
    "\n",
    "custom_scatter_plot(feat_col=\"pct_nursing\",\n",
    "                    feat_name=\"Nursing population %\",\n",
    "                    type_data=\"All Causes\",\n",
    "                    min_val=None, max_val=None,\n",
    "                    cmid=0,\n",
    "                    show_figures=False,\n",
    "                    **kwargs)"
   ]
  },
  {
   "cell_type": "markdown",
   "id": "84fdb107",
   "metadata": {},
   "source": [
    "Community type 13 - Excess Mortality"
   ]
  },
  {
   "cell_type": "code",
   "execution_count": null,
   "id": "e3331db6",
   "metadata": {},
   "outputs": [],
   "source": [
    "acp_nb = 13\n",
    "acp_name = county_database[county_database[\"acp\"] == acp_nb][\"acp_name\"].iloc[0]\n",
    "\n",
    "kwargs = {\"filter_equality\": \"acp\",\n",
    "          \"filter_equality_value\": acp_nb,\n",
    "          \"additional_text\": \"<br>American Communities: \" + acp_name,\n",
    "          \"shared_yaxes\": \"all\"}\n",
    "\n",
    "custom_scatter_plot(feat_col=\"pct_nursing\",\n",
    "                    feat_name=\"Nursing population %\",\n",
    "                    type_data=\"Excess Mortality\",\n",
    "                    min_val=None, max_val=None,\n",
    "                    cmid=0,\n",
    "                    show_figures=False,\n",
    "                    **kwargs)"
   ]
  },
  {
   "cell_type": "markdown",
   "id": "56177d67",
   "metadata": {},
   "source": [
    "Community type 14 - COVID-19"
   ]
  },
  {
   "cell_type": "code",
   "execution_count": null,
   "id": "6c0b0fe8",
   "metadata": {},
   "outputs": [],
   "source": [
    "acp_nb = 14\n",
    "acp_name = county_database[county_database[\"acp\"] == acp_nb][\"acp_name\"].iloc[0]\n",
    "\n",
    "kwargs = {\"filter_equality\": \"acp\",\n",
    "          \"filter_equality_value\": acp_nb,\n",
    "          \"additional_text\": \"<br>American Communities: \" + acp_name,\n",
    "          \"shared_yaxes\": \"all\"}\n",
    "\n",
    "custom_scatter_plot(feat_col=\"pct_nursing\",\n",
    "                    feat_name=\"Nursing population %\",\n",
    "                    type_data=\"COVID-19\",\n",
    "                    min_val=None, max_val=None,\n",
    "                    cmid=0,\n",
    "                    show_figures=False,\n",
    "                    **kwargs)"
   ]
  },
  {
   "cell_type": "markdown",
   "id": "1544d860",
   "metadata": {},
   "source": [
    "Community type 14 - All Causes"
   ]
  },
  {
   "cell_type": "code",
   "execution_count": null,
   "id": "157c61ff",
   "metadata": {},
   "outputs": [],
   "source": [
    "acp_nb = 14\n",
    "acp_name = county_database[county_database[\"acp\"] == acp_nb][\"acp_name\"].iloc[0]\n",
    "\n",
    "kwargs = {\"filter_equality\": \"acp\",\n",
    "          \"filter_equality_value\": acp_nb,\n",
    "          \"additional_text\": \"<br>American Communities: \" + acp_name,\n",
    "          \"shared_yaxes\": \"all\"}\n",
    "\n",
    "custom_scatter_plot(feat_col=\"pct_nursing\",\n",
    "                    feat_name=\"Nursing population %\",\n",
    "                    type_data=\"All Causes\",\n",
    "                    min_val=None, max_val=None,\n",
    "                    cmid=0,\n",
    "                    show_figures=False,\n",
    "                    **kwargs)"
   ]
  },
  {
   "cell_type": "markdown",
   "id": "97ec9a52",
   "metadata": {},
   "source": [
    "Community type 14 - Excess Mortality"
   ]
  },
  {
   "cell_type": "code",
   "execution_count": null,
   "id": "764d877a",
   "metadata": {},
   "outputs": [],
   "source": [
    "acp_nb = 14\n",
    "acp_name = county_database[county_database[\"acp\"] == acp_nb][\"acp_name\"].iloc[0]\n",
    "\n",
    "kwargs = {\"filter_equality\": \"acp\",\n",
    "          \"filter_equality_value\": acp_nb,\n",
    "          \"additional_text\": \"<br>American Communities: \" + acp_name,\n",
    "          \"shared_yaxes\": \"all\"}\n",
    "\n",
    "custom_scatter_plot(feat_col=\"pct_nursing\",\n",
    "                    feat_name=\"Nursing population %\",\n",
    "                    type_data=\"Excess Mortality\",\n",
    "                    min_val=None, max_val=None,\n",
    "                    cmid=0,\n",
    "                    show_figures=False,\n",
    "                    **kwargs)"
   ]
  },
  {
   "cell_type": "markdown",
   "id": "3d1fed19",
   "metadata": {},
   "source": [
    "Community type 15 - COVID-19"
   ]
  },
  {
   "cell_type": "code",
   "execution_count": null,
   "id": "c477d334",
   "metadata": {},
   "outputs": [],
   "source": [
    "acp_nb = 15\n",
    "acp_name = county_database[county_database[\"acp\"] == acp_nb][\"acp_name\"].iloc[0]\n",
    "\n",
    "kwargs = {\"filter_equality\": \"acp\",\n",
    "          \"filter_equality_value\": acp_nb,\n",
    "          \"additional_text\": \"<br>American Communities: \" + acp_name,\n",
    "          \"shared_yaxes\": \"all\"}\n",
    "\n",
    "custom_scatter_plot(feat_col=\"pct_nursing\",\n",
    "                    feat_name=\"Nursing population %\",\n",
    "                    type_data=\"COVID-19\",\n",
    "                    min_val=None, max_val=None,\n",
    "                    cmid=0,\n",
    "                    show_figures=False,\n",
    "                    **kwargs)"
   ]
  },
  {
   "cell_type": "markdown",
   "id": "dd3d4943",
   "metadata": {},
   "source": [
    "Community type 15 - All Causes"
   ]
  },
  {
   "cell_type": "code",
   "execution_count": null,
   "id": "0306544a",
   "metadata": {},
   "outputs": [],
   "source": [
    "acp_nb = 15\n",
    "acp_name = county_database[county_database[\"acp\"] == acp_nb][\"acp_name\"].iloc[0]\n",
    "\n",
    "kwargs = {\"filter_equality\": \"acp\",\n",
    "          \"filter_equality_value\": acp_nb,\n",
    "          \"additional_text\": \"<br>American Communities: \" + acp_name,\n",
    "          \"shared_yaxes\": \"all\"}\n",
    "\n",
    "custom_scatter_plot(feat_col=\"pct_nursing\",\n",
    "                    feat_name=\"Nursing population %\",\n",
    "                    type_data=\"All Causes\",\n",
    "                    min_val=None, max_val=None,\n",
    "                    cmid=0,\n",
    "                    show_figures=False,\n",
    "                    **kwargs)"
   ]
  },
  {
   "cell_type": "markdown",
   "id": "db68e15c",
   "metadata": {},
   "source": [
    "Community type 15 - Excess Mortality"
   ]
  },
  {
   "cell_type": "code",
   "execution_count": null,
   "id": "44f316c2",
   "metadata": {},
   "outputs": [],
   "source": [
    "acp_nb = 15\n",
    "acp_name = county_database[county_database[\"acp\"] == acp_nb][\"acp_name\"].iloc[0]\n",
    "\n",
    "kwargs = {\"filter_equality\": \"acp\",\n",
    "          \"filter_equality_value\": acp_nb,\n",
    "          \"additional_text\": \"<br>American Communities: \" + acp_name,\n",
    "          \"shared_yaxes\": \"all\"}\n",
    "\n",
    "custom_scatter_plot(feat_col=\"pct_nursing\",\n",
    "                    feat_name=\"Nursing population %\",\n",
    "                    type_data=\"Excess Mortality\",\n",
    "                    min_val=None, max_val=None,\n",
    "                    cmid=0,\n",
    "                    show_figures=False,\n",
    "                    **kwargs)"
   ]
  },
  {
   "cell_type": "markdown",
   "id": "451147b4",
   "metadata": {},
   "source": [
    "### Median Household Income"
   ]
  },
  {
   "cell_type": "markdown",
   "id": "7e3424ee",
   "metadata": {},
   "source": [
    "Box plot"
   ]
  },
  {
   "cell_type": "code",
   "execution_count": null,
   "id": "36f2916e",
   "metadata": {},
   "outputs": [],
   "source": [
    "fig = go.Figure()\n",
    "for acp_nb in range(1, 16):\n",
    "    acp_name = acp_dic[acp_nb]\n",
    "    fig.add_trace(go.Box(y=county_database[county_database[\"acp\"] == acp_nb][\"income\"],\n",
    "                         name=acp_name,\n",
    "                         marker_color=community_color_dic[acp_name]))\n",
    "\n",
    "fig.update_layout(title_text=\"Box Plot Median Household Income - Community level\",\n",
    "                  yaxis_title=\"Median Household Income\",\n",
    "                  width=1500, height=500)\n",
    "fig.write_image(\"Plot/Analysis/boxplot_income_communities.png\")"
   ]
  },
  {
   "cell_type": "markdown",
   "id": "26c11fb8",
   "metadata": {},
   "source": [
    "Community type 1 - COVID-19"
   ]
  },
  {
   "cell_type": "code",
   "execution_count": null,
   "id": "632c98dd",
   "metadata": {},
   "outputs": [],
   "source": [
    "acp_nb = 1\n",
    "acp_name = county_database[county_database[\"acp\"] == acp_nb][\"acp_name\"].iloc[0]\n",
    "\n",
    "kwargs = {\"filter_equality\": \"acp\",\n",
    "          \"filter_equality_value\": acp_nb,\n",
    "          \"additional_text\": \"<br>American Communities: \" + acp_name,\n",
    "          \"shared_yaxes\": \"all\"}\n",
    "\n",
    "custom_scatter_plot(feat_col=\"income\",\n",
    "                    feat_name=\"Median Household Income\",\n",
    "                    type_data=\"COVID-19\",\n",
    "                    min_val=None, max_val=None,\n",
    "                    cmid=0,\n",
    "                    show_figures=False,\n",
    "                    **kwargs)"
   ]
  },
  {
   "cell_type": "markdown",
   "id": "00177279",
   "metadata": {},
   "source": [
    "Community type 1 - All Causes"
   ]
  },
  {
   "cell_type": "code",
   "execution_count": null,
   "id": "8f8166ca",
   "metadata": {},
   "outputs": [],
   "source": [
    "acp_nb = 1\n",
    "acp_name = county_database[county_database[\"acp\"] == acp_nb][\"acp_name\"].iloc[0]\n",
    "\n",
    "kwargs = {\"filter_equality\": \"acp\",\n",
    "          \"filter_equality_value\": acp_nb,\n",
    "          \"additional_text\": \"<br>American Communities: \" + acp_name,\n",
    "          \"shared_yaxes\": \"all\"}\n",
    "\n",
    "custom_scatter_plot(feat_col=\"income\",\n",
    "                    feat_name=\"Median Household Income\",\n",
    "                    type_data=\"All Causes\",\n",
    "                    min_val=None, max_val=None,\n",
    "                    cmid=0,\n",
    "                    show_figures=False,\n",
    "                    **kwargs)"
   ]
  },
  {
   "cell_type": "markdown",
   "id": "f9ca0fed",
   "metadata": {},
   "source": [
    "Community type 1 - Excess Mortality"
   ]
  },
  {
   "cell_type": "code",
   "execution_count": null,
   "id": "24b74a0e",
   "metadata": {},
   "outputs": [],
   "source": [
    "acp_nb = 1\n",
    "acp_name = county_database[county_database[\"acp\"] == acp_nb][\"acp_name\"].iloc[0]\n",
    "\n",
    "kwargs = {\"filter_equality\": \"acp\",\n",
    "          \"filter_equality_value\": acp_nb,\n",
    "          \"additional_text\": \"<br>American Communities: \" + acp_name,\n",
    "          \"shared_yaxes\": \"all\"}\n",
    "\n",
    "custom_scatter_plot(feat_col=\"income\",\n",
    "                    feat_name=\"Median Household Income\",\n",
    "                    type_data=\"Excess Mortality\",\n",
    "                    min_val=None, max_val=None,\n",
    "                    cmid=0,\n",
    "                    show_figures=False,\n",
    "                    **kwargs)"
   ]
  },
  {
   "cell_type": "markdown",
   "id": "6f72bbef",
   "metadata": {},
   "source": [
    "Community type 2 - COVID-19"
   ]
  },
  {
   "cell_type": "code",
   "execution_count": null,
   "id": "9bfb2e2e",
   "metadata": {},
   "outputs": [],
   "source": [
    "acp_nb = 2\n",
    "acp_name = county_database[county_database[\"acp\"] == acp_nb][\"acp_name\"].iloc[0]\n",
    "\n",
    "kwargs = {\"filter_equality\": \"acp\",\n",
    "          \"filter_equality_value\": acp_nb,\n",
    "          \"additional_text\": \"<br>American Communities: \" + acp_name,\n",
    "          \"shared_yaxes\": \"all\"}\n",
    "\n",
    "custom_scatter_plot(feat_col=\"income\",\n",
    "                    feat_name=\"Median Household Income\",\n",
    "                    type_data=\"COVID-19\",\n",
    "                    min_val=None, max_val=None,\n",
    "                    cmid=0,\n",
    "                    show_figures=False,\n",
    "                    **kwargs)"
   ]
  },
  {
   "cell_type": "markdown",
   "id": "8f865ab4",
   "metadata": {},
   "source": [
    "Community type 2 - All Causes"
   ]
  },
  {
   "cell_type": "code",
   "execution_count": null,
   "id": "d4a629b4",
   "metadata": {},
   "outputs": [],
   "source": [
    "acp_nb = 2\n",
    "acp_name = county_database[county_database[\"acp\"] == acp_nb][\"acp_name\"].iloc[0]\n",
    "\n",
    "kwargs = {\"filter_equality\": \"acp\",\n",
    "          \"filter_equality_value\": acp_nb,\n",
    "          \"additional_text\": \"<br>American Communities: \" + acp_name,\n",
    "          \"shared_yaxes\": \"all\"}\n",
    "\n",
    "custom_scatter_plot(feat_col=\"income\",\n",
    "                    feat_name=\"Median Household Income\",\n",
    "                    type_data=\"All Causes\",\n",
    "                    min_val=None, max_val=None,\n",
    "                    cmid=0,\n",
    "                    show_figures=False,\n",
    "                    **kwargs)"
   ]
  },
  {
   "cell_type": "markdown",
   "id": "b6e18026",
   "metadata": {},
   "source": [
    "Community type 2 - Excess Mortality"
   ]
  },
  {
   "cell_type": "code",
   "execution_count": null,
   "id": "33b111fc",
   "metadata": {},
   "outputs": [],
   "source": [
    "acp_nb = 2\n",
    "acp_name = county_database[county_database[\"acp\"] == acp_nb][\"acp_name\"].iloc[0]\n",
    "\n",
    "kwargs = {\"filter_equality\": \"acp\",\n",
    "          \"filter_equality_value\": acp_nb,\n",
    "          \"additional_text\": \"<br>American Communities: \" + acp_name,\n",
    "          \"shared_yaxes\": \"all\"}\n",
    "\n",
    "custom_scatter_plot(feat_col=\"income\",\n",
    "                    feat_name=\"Median Household Income\",\n",
    "                    type_data=\"Excess Mortality\",\n",
    "                    min_val=None, max_val=None,\n",
    "                    cmid=0,\n",
    "                    show_figures=False,\n",
    "                    **kwargs)"
   ]
  },
  {
   "cell_type": "markdown",
   "id": "3585412d",
   "metadata": {},
   "source": [
    "Community type 3 - COVID-19"
   ]
  },
  {
   "cell_type": "code",
   "execution_count": null,
   "id": "a971f7fc",
   "metadata": {},
   "outputs": [],
   "source": [
    "acp_nb = 3\n",
    "acp_name = county_database[county_database[\"acp\"] == acp_nb][\"acp_name\"].iloc[0]\n",
    "\n",
    "kwargs = {\"filter_equality\": \"acp\",\n",
    "          \"filter_equality_value\": acp_nb,\n",
    "          \"additional_text\": \"<br>American Communities: \" + acp_name,\n",
    "          \"shared_yaxes\": \"all\"}\n",
    "\n",
    "custom_scatter_plot(feat_col=\"income\",\n",
    "                    feat_name=\"Median Household Income\",\n",
    "                    type_data=\"COVID-19\",\n",
    "                    min_val=None, max_val=None,\n",
    "                    cmid=0,\n",
    "                    show_figures=False,\n",
    "                    **kwargs)"
   ]
  },
  {
   "cell_type": "markdown",
   "id": "0738bcc2",
   "metadata": {},
   "source": [
    "Community type 3 - All Causes"
   ]
  },
  {
   "cell_type": "code",
   "execution_count": null,
   "id": "bcd4f71a",
   "metadata": {},
   "outputs": [],
   "source": [
    "acp_nb = 3\n",
    "acp_name = county_database[county_database[\"acp\"] == acp_nb][\"acp_name\"].iloc[0]\n",
    "\n",
    "kwargs = {\"filter_equality\": \"acp\",\n",
    "          \"filter_equality_value\": acp_nb,\n",
    "          \"additional_text\": \"<br>American Communities: \" + acp_name,\n",
    "          \"shared_yaxes\": \"all\"}\n",
    "\n",
    "custom_scatter_plot(feat_col=\"income\",\n",
    "                    feat_name=\"Median Household Income\",\n",
    "                    type_data=\"All Causes\",\n",
    "                    min_val=None, max_val=None,\n",
    "                    cmid=0,\n",
    "                    show_figures=False,\n",
    "                    **kwargs)"
   ]
  },
  {
   "cell_type": "markdown",
   "id": "b1c052d3",
   "metadata": {},
   "source": [
    "Community type 3 - Excess Mortality"
   ]
  },
  {
   "cell_type": "code",
   "execution_count": null,
   "id": "da009845",
   "metadata": {},
   "outputs": [],
   "source": [
    "acp_nb = 3\n",
    "acp_name = county_database[county_database[\"acp\"] == acp_nb][\"acp_name\"].iloc[0]\n",
    "\n",
    "kwargs = {\"filter_equality\": \"acp\",\n",
    "          \"filter_equality_value\": acp_nb,\n",
    "          \"additional_text\": \"<br>American Communities: \" + acp_name,\n",
    "          \"shared_yaxes\": \"all\"}\n",
    "\n",
    "custom_scatter_plot(feat_col=\"income\",\n",
    "                    feat_name=\"Median Household Income\",\n",
    "                    type_data=\"Excess Mortality\",\n",
    "                    min_val=None, max_val=None,\n",
    "                    cmid=0,\n",
    "                    show_figures=False,\n",
    "                    **kwargs)"
   ]
  },
  {
   "cell_type": "markdown",
   "id": "9d94872d",
   "metadata": {},
   "source": [
    "Community type 4 - COVID-19"
   ]
  },
  {
   "cell_type": "code",
   "execution_count": null,
   "id": "92c4be7f",
   "metadata": {},
   "outputs": [],
   "source": [
    "acp_nb = 4\n",
    "acp_name = county_database[county_database[\"acp\"] == acp_nb][\"acp_name\"].iloc[0]\n",
    "\n",
    "kwargs = {\"filter_equality\": \"acp\",\n",
    "          \"filter_equality_value\": acp_nb,\n",
    "          \"additional_text\": \"<br>American Communities: \" + acp_name,\n",
    "          \"shared_yaxes\": \"all\"}\n",
    "\n",
    "custom_scatter_plot(feat_col=\"income\",\n",
    "                    feat_name=\"Median Household Income\",\n",
    "                    type_data=\"COVID-19\",\n",
    "                    min_val=None, max_val=None,\n",
    "                    cmid=0,\n",
    "                    show_figures=False,\n",
    "                    **kwargs)"
   ]
  },
  {
   "cell_type": "markdown",
   "id": "4e4fb3ce",
   "metadata": {},
   "source": [
    "Community type 4 - All Causes"
   ]
  },
  {
   "cell_type": "code",
   "execution_count": null,
   "id": "28e3655c",
   "metadata": {},
   "outputs": [],
   "source": [
    "acp_nb = 4\n",
    "acp_name = county_database[county_database[\"acp\"] == acp_nb][\"acp_name\"].iloc[0]\n",
    "\n",
    "kwargs = {\"filter_equality\": \"acp\",\n",
    "          \"filter_equality_value\": acp_nb,\n",
    "          \"additional_text\": \"<br>American Communities: \" + acp_name,\n",
    "          \"shared_yaxes\": \"all\"}\n",
    "\n",
    "custom_scatter_plot(feat_col=\"income\",\n",
    "                    feat_name=\"Median Household Income\",\n",
    "                    type_data=\"All Causes\",\n",
    "                    min_val=None, max_val=None,\n",
    "                    cmid=0,\n",
    "                    show_figures=False,\n",
    "                    **kwargs)"
   ]
  },
  {
   "cell_type": "markdown",
   "id": "d9d6eb08",
   "metadata": {},
   "source": [
    "Community type 4 - Excess Mortality"
   ]
  },
  {
   "cell_type": "code",
   "execution_count": null,
   "id": "4a8e8c25",
   "metadata": {},
   "outputs": [],
   "source": [
    "acp_nb = 4\n",
    "acp_name = county_database[county_database[\"acp\"] == acp_nb][\"acp_name\"].iloc[0]\n",
    "\n",
    "kwargs = {\"filter_equality\": \"acp\",\n",
    "          \"filter_equality_value\": acp_nb,\n",
    "          \"additional_text\": \"<br>American Communities: \" + acp_name,\n",
    "          \"shared_yaxes\": \"all\"}\n",
    "\n",
    "custom_scatter_plot(feat_col=\"income\",\n",
    "                    feat_name=\"Median Household Income\",\n",
    "                    type_data=\"Excess Mortality\",\n",
    "                    min_val=None, max_val=None,\n",
    "                    cmid=0,\n",
    "                    show_figures=False,\n",
    "                    **kwargs)"
   ]
  },
  {
   "cell_type": "markdown",
   "id": "b7f4af0e",
   "metadata": {},
   "source": [
    "Community type 5 - COVID-19"
   ]
  },
  {
   "cell_type": "code",
   "execution_count": null,
   "id": "cc9b3d4a",
   "metadata": {},
   "outputs": [],
   "source": [
    "acp_nb = 5\n",
    "acp_name = county_database[county_database[\"acp\"] == acp_nb][\"acp_name\"].iloc[0]\n",
    "\n",
    "kwargs = {\"filter_equality\": \"acp\",\n",
    "          \"filter_equality_value\": acp_nb,\n",
    "          \"additional_text\": \"<br>American Communities: \" + acp_name,\n",
    "          \"shared_yaxes\": \"all\"}\n",
    "\n",
    "custom_scatter_plot(feat_col=\"income\",\n",
    "                    feat_name=\"Median Household Income\",\n",
    "                    type_data=\"COVID-19\",\n",
    "                    min_val=None, max_val=None,\n",
    "                    cmid=0,\n",
    "                    show_figures=False,\n",
    "                    **kwargs)"
   ]
  },
  {
   "cell_type": "markdown",
   "id": "c4263962",
   "metadata": {},
   "source": [
    "Community type 5 - All Causes"
   ]
  },
  {
   "cell_type": "code",
   "execution_count": null,
   "id": "677b9428",
   "metadata": {},
   "outputs": [],
   "source": [
    "acp_nb = 5\n",
    "acp_name = county_database[county_database[\"acp\"] == acp_nb][\"acp_name\"].iloc[0]\n",
    "\n",
    "kwargs = {\"filter_equality\": \"acp\",\n",
    "          \"filter_equality_value\": acp_nb,\n",
    "          \"additional_text\": \"<br>American Communities: \" + acp_name,\n",
    "          \"shared_yaxes\": \"all\"}\n",
    "\n",
    "custom_scatter_plot(feat_col=\"income\",\n",
    "                    feat_name=\"Median Household Income\",\n",
    "                    type_data=\"All Causes\",\n",
    "                    min_val=None, max_val=None,\n",
    "                    cmid=0,\n",
    "                    show_figures=False,\n",
    "                    **kwargs)"
   ]
  },
  {
   "cell_type": "markdown",
   "id": "b7f3808f",
   "metadata": {},
   "source": [
    "Community type 5 - Excess Mortality"
   ]
  },
  {
   "cell_type": "code",
   "execution_count": null,
   "id": "689c80fe",
   "metadata": {},
   "outputs": [],
   "source": [
    "acp_nb = 5\n",
    "acp_name = county_database[county_database[\"acp\"] == acp_nb][\"acp_name\"].iloc[0]\n",
    "\n",
    "kwargs = {\"filter_equality\": \"acp\",\n",
    "          \"filter_equality_value\": acp_nb,\n",
    "          \"additional_text\": \"<br>American Communities: \" + acp_name,\n",
    "          \"shared_yaxes\": \"all\"}\n",
    "\n",
    "custom_scatter_plot(feat_col=\"income\",\n",
    "                    feat_name=\"Median Household Income\",\n",
    "                    type_data=\"Excess Mortality\",\n",
    "                    min_val=None, max_val=None,\n",
    "                    cmid=0,\n",
    "                    show_figures=False,\n",
    "                    **kwargs)"
   ]
  },
  {
   "cell_type": "markdown",
   "id": "08b20ebc",
   "metadata": {},
   "source": [
    "Community type 6 - COVID-19"
   ]
  },
  {
   "cell_type": "code",
   "execution_count": null,
   "id": "72c4267b",
   "metadata": {},
   "outputs": [],
   "source": [
    "acp_nb = 6\n",
    "acp_name = county_database[county_database[\"acp\"] == acp_nb][\"acp_name\"].iloc[0]\n",
    "\n",
    "kwargs = {\"filter_equality\": \"acp\",\n",
    "          \"filter_equality_value\": acp_nb,\n",
    "          \"additional_text\": \"<br>American Communities: \" + acp_name,\n",
    "          \"shared_yaxes\": \"all\"}\n",
    "\n",
    "custom_scatter_plot(feat_col=\"income\",\n",
    "                    feat_name=\"Median Household Income\",\n",
    "                    type_data=\"COVID-19\",\n",
    "                    min_val=None, max_val=None,\n",
    "                    cmid=0,\n",
    "                    show_figures=False,\n",
    "                    **kwargs)"
   ]
  },
  {
   "cell_type": "markdown",
   "id": "3075e22f",
   "metadata": {},
   "source": [
    "Community type 6 - All Causes"
   ]
  },
  {
   "cell_type": "code",
   "execution_count": null,
   "id": "789478a8",
   "metadata": {},
   "outputs": [],
   "source": [
    "acp_nb = 6\n",
    "acp_name = county_database[county_database[\"acp\"] == acp_nb][\"acp_name\"].iloc[0]\n",
    "\n",
    "kwargs = {\"filter_equality\": \"acp\",\n",
    "          \"filter_equality_value\": acp_nb,\n",
    "          \"additional_text\": \"<br>American Communities: \" + acp_name,\n",
    "          \"shared_yaxes\": \"all\"}\n",
    "\n",
    "custom_scatter_plot(feat_col=\"income\",\n",
    "                    feat_name=\"Median Household Income\",\n",
    "                    type_data=\"All Causes\",\n",
    "                    min_val=None, max_val=None,\n",
    "                    cmid=0,\n",
    "                    show_figures=False,\n",
    "                    **kwargs)"
   ]
  },
  {
   "cell_type": "markdown",
   "id": "e8ffddad",
   "metadata": {},
   "source": [
    "Community type 6 - Excess Mortality"
   ]
  },
  {
   "cell_type": "code",
   "execution_count": null,
   "id": "e5c98b6c",
   "metadata": {},
   "outputs": [],
   "source": [
    "acp_nb = 6\n",
    "acp_name = county_database[county_database[\"acp\"] == acp_nb][\"acp_name\"].iloc[0]\n",
    "\n",
    "kwargs = {\"filter_equality\": \"acp\",\n",
    "          \"filter_equality_value\": acp_nb,\n",
    "          \"additional_text\": \"<br>American Communities: \" + acp_name,\n",
    "          \"shared_yaxes\": \"all\"}\n",
    "\n",
    "custom_scatter_plot(feat_col=\"income\",\n",
    "                    feat_name=\"Median Household Income\",\n",
    "                    type_data=\"Excess Mortality\",\n",
    "                    min_val=None, max_val=None,\n",
    "                    cmid=0,\n",
    "                    show_figures=False,\n",
    "                    **kwargs)"
   ]
  },
  {
   "cell_type": "markdown",
   "id": "3f4555b9",
   "metadata": {},
   "source": [
    "Community type 7 - COVID-19"
   ]
  },
  {
   "cell_type": "code",
   "execution_count": null,
   "id": "1f14b44a",
   "metadata": {},
   "outputs": [],
   "source": [
    "acp_nb = 7\n",
    "acp_name = county_database[county_database[\"acp\"] == acp_nb][\"acp_name\"].iloc[0]\n",
    "\n",
    "kwargs = {\"filter_equality\": \"acp\",\n",
    "          \"filter_equality_value\": acp_nb,\n",
    "          \"additional_text\": \"<br>American Communities: \" + acp_name,\n",
    "          \"shared_yaxes\": \"all\"}\n",
    "\n",
    "custom_scatter_plot(feat_col=\"income\",\n",
    "                    feat_name=\"Median Household Income\",\n",
    "                    type_data=\"COVID-19\",\n",
    "                    min_val=None, max_val=None,\n",
    "                    cmid=0,\n",
    "                    show_figures=False,\n",
    "                    **kwargs)"
   ]
  },
  {
   "cell_type": "markdown",
   "id": "8cf8279a",
   "metadata": {},
   "source": [
    "Community type 7 - All Causes"
   ]
  },
  {
   "cell_type": "code",
   "execution_count": null,
   "id": "3100332d",
   "metadata": {},
   "outputs": [],
   "source": [
    "acp_nb = 7\n",
    "acp_name = county_database[county_database[\"acp\"] == acp_nb][\"acp_name\"].iloc[0]\n",
    "\n",
    "kwargs = {\"filter_equality\": \"acp\",\n",
    "          \"filter_equality_value\": acp_nb,\n",
    "          \"additional_text\": \"<br>American Communities: \" + acp_name,\n",
    "          \"shared_yaxes\": \"all\"}\n",
    "\n",
    "custom_scatter_plot(feat_col=\"income\",\n",
    "                    feat_name=\"Median Household Income\",\n",
    "                    type_data=\"All Causes\",\n",
    "                    min_val=None, max_val=None,\n",
    "                    cmid=0,\n",
    "                    show_figures=False,\n",
    "                    **kwargs)"
   ]
  },
  {
   "cell_type": "markdown",
   "id": "b1eb8c8a",
   "metadata": {},
   "source": [
    "Community type 7 - Excess Mortality"
   ]
  },
  {
   "cell_type": "code",
   "execution_count": null,
   "id": "4a8a1df3",
   "metadata": {},
   "outputs": [],
   "source": [
    "acp_nb = 7\n",
    "acp_name = county_database[county_database[\"acp\"] == acp_nb][\"acp_name\"].iloc[0]\n",
    "\n",
    "kwargs = {\"filter_equality\": \"acp\",\n",
    "          \"filter_equality_value\": acp_nb,\n",
    "          \"additional_text\": \"<br>American Communities: \" + acp_name,\n",
    "          \"shared_yaxes\": \"all\"}\n",
    "\n",
    "custom_scatter_plot(feat_col=\"income\",\n",
    "                    feat_name=\"Median Household Income\",\n",
    "                    type_data=\"Excess Mortality\",\n",
    "                    min_val=None, max_val=None,\n",
    "                    cmid=0,\n",
    "                    show_figures=False,\n",
    "                    **kwargs)"
   ]
  },
  {
   "cell_type": "markdown",
   "id": "6ea8c20b",
   "metadata": {},
   "source": [
    "Community type 8 - COVID-19"
   ]
  },
  {
   "cell_type": "code",
   "execution_count": null,
   "id": "a9e86abc",
   "metadata": {},
   "outputs": [],
   "source": [
    "acp_nb = 8\n",
    "acp_name = county_database[county_database[\"acp\"] == acp_nb][\"acp_name\"].iloc[0]\n",
    "\n",
    "kwargs = {\"filter_equality\": \"acp\",\n",
    "          \"filter_equality_value\": acp_nb,\n",
    "          \"additional_text\": \"<br>American Communities: \" + acp_name,\n",
    "          \"shared_yaxes\": \"all\"}\n",
    "\n",
    "custom_scatter_plot(feat_col=\"income\",\n",
    "                    feat_name=\"Median Household Income\",\n",
    "                    type_data=\"COVID-19\",\n",
    "                    min_val=None, max_val=None,\n",
    "                    cmid=0,\n",
    "                    show_figures=False,\n",
    "                    **kwargs)"
   ]
  },
  {
   "cell_type": "markdown",
   "id": "ebd06dbe",
   "metadata": {},
   "source": [
    "Community type 8 - All Causes"
   ]
  },
  {
   "cell_type": "code",
   "execution_count": null,
   "id": "0978b113",
   "metadata": {},
   "outputs": [],
   "source": [
    "acp_nb = 8\n",
    "acp_name = county_database[county_database[\"acp\"] == acp_nb][\"acp_name\"].iloc[0]\n",
    "\n",
    "kwargs = {\"filter_equality\": \"acp\",\n",
    "          \"filter_equality_value\": acp_nb,\n",
    "          \"additional_text\": \"<br>American Communities: \" + acp_name,\n",
    "          \"shared_yaxes\": \"all\"}\n",
    "\n",
    "custom_scatter_plot(feat_col=\"income\",\n",
    "                    feat_name=\"Median Household Income\",\n",
    "                    type_data=\"All Causes\",\n",
    "                    min_val=None, max_val=None,\n",
    "                    cmid=0,\n",
    "                    show_figures=False,\n",
    "                    **kwargs)"
   ]
  },
  {
   "cell_type": "markdown",
   "id": "a2688720",
   "metadata": {},
   "source": [
    "Community type 8 - Excess Mortality"
   ]
  },
  {
   "cell_type": "code",
   "execution_count": null,
   "id": "cd95ff77",
   "metadata": {},
   "outputs": [],
   "source": [
    "acp_nb = 8\n",
    "acp_name = county_database[county_database[\"acp\"] == acp_nb][\"acp_name\"].iloc[0]\n",
    "\n",
    "kwargs = {\"filter_equality\": \"acp\",\n",
    "          \"filter_equality_value\": acp_nb,\n",
    "          \"additional_text\": \"<br>American Communities: \" + acp_name,\n",
    "          \"shared_yaxes\": \"all\"}\n",
    "\n",
    "custom_scatter_plot(feat_col=\"income\",\n",
    "                    feat_name=\"Median Household Income\",\n",
    "                    type_data=\"Excess Mortality\",\n",
    "                    min_val=None, max_val=None,\n",
    "                    cmid=0,\n",
    "                    show_figures=False,\n",
    "                    **kwargs)"
   ]
  },
  {
   "cell_type": "markdown",
   "id": "d0446ca2",
   "metadata": {},
   "source": [
    "Community type 9 - COVID-19"
   ]
  },
  {
   "cell_type": "code",
   "execution_count": null,
   "id": "48ecdeb6",
   "metadata": {},
   "outputs": [],
   "source": [
    "acp_nb = 9\n",
    "acp_name = county_database[county_database[\"acp\"] == acp_nb][\"acp_name\"].iloc[0]\n",
    "\n",
    "kwargs = {\"filter_equality\": \"acp\",\n",
    "          \"filter_equality_value\": acp_nb,\n",
    "          \"additional_text\": \"<br>American Communities: \" + acp_name,\n",
    "          \"shared_yaxes\": \"all\"}\n",
    "\n",
    "custom_scatter_plot(feat_col=\"income\",\n",
    "                    feat_name=\"Median Household Income\",\n",
    "                    type_data=\"COVID-19\",\n",
    "                    min_val=None, max_val=None,\n",
    "                    cmid=0,\n",
    "                    show_figures=False,\n",
    "                    **kwargs)"
   ]
  },
  {
   "cell_type": "markdown",
   "id": "93c3ff27",
   "metadata": {},
   "source": [
    "Community type 9 - All Causes"
   ]
  },
  {
   "cell_type": "code",
   "execution_count": null,
   "id": "7fd8daf4",
   "metadata": {},
   "outputs": [],
   "source": [
    "acp_nb = 9\n",
    "acp_name = county_database[county_database[\"acp\"] == acp_nb][\"acp_name\"].iloc[0]\n",
    "\n",
    "kwargs = {\"filter_equality\": \"acp\",\n",
    "          \"filter_equality_value\": acp_nb,\n",
    "          \"additional_text\": \"<br>American Communities: \" + acp_name,\n",
    "          \"shared_yaxes\": \"all\"}\n",
    "\n",
    "custom_scatter_plot(feat_col=\"income\",\n",
    "                    feat_name=\"Median Household Income\",\n",
    "                    type_data=\"All Causes\",\n",
    "                    min_val=None, max_val=None,\n",
    "                    cmid=0,\n",
    "                    show_figures=False,\n",
    "                    **kwargs)"
   ]
  },
  {
   "cell_type": "markdown",
   "id": "ec0d57c6",
   "metadata": {},
   "source": [
    "Community type 9 - Excess Mortality"
   ]
  },
  {
   "cell_type": "code",
   "execution_count": null,
   "id": "be0a913e",
   "metadata": {},
   "outputs": [],
   "source": [
    "acp_nb = 9\n",
    "acp_name = county_database[county_database[\"acp\"] == acp_nb][\"acp_name\"].iloc[0]\n",
    "\n",
    "kwargs = {\"filter_equality\": \"acp\",\n",
    "          \"filter_equality_value\": acp_nb,\n",
    "          \"additional_text\": \"<br>American Communities: \" + acp_name,\n",
    "          \"shared_yaxes\": \"all\"}\n",
    "\n",
    "custom_scatter_plot(feat_col=\"income\",\n",
    "                    feat_name=\"Median Household Income\",\n",
    "                    type_data=\"Excess Mortality\",\n",
    "                    min_val=None, max_val=None,\n",
    "                    cmid=0,\n",
    "                    show_figures=False,\n",
    "                    **kwargs)"
   ]
  },
  {
   "cell_type": "markdown",
   "id": "6ed3182f",
   "metadata": {},
   "source": [
    "Community type 10 - COVID-19"
   ]
  },
  {
   "cell_type": "code",
   "execution_count": null,
   "id": "14ffc03b",
   "metadata": {},
   "outputs": [],
   "source": [
    "acp_nb = 10\n",
    "acp_name = county_database[county_database[\"acp\"] == acp_nb][\"acp_name\"].iloc[0]\n",
    "\n",
    "kwargs = {\"filter_equality\": \"acp\",\n",
    "          \"filter_equality_value\": acp_nb,\n",
    "          \"additional_text\": \"<br>American Communities: \" + acp_name,\n",
    "          \"shared_yaxes\": \"all\"}\n",
    "\n",
    "custom_scatter_plot(feat_col=\"income\",\n",
    "                    feat_name=\"Median Household Income\",\n",
    "                    type_data=\"COVID-19\",\n",
    "                    min_val=None, max_val=None,\n",
    "                    cmid=0,\n",
    "                    show_figures=False,\n",
    "                    **kwargs)"
   ]
  },
  {
   "cell_type": "markdown",
   "id": "c31e2b14",
   "metadata": {},
   "source": [
    "Community type 10 - All Causes"
   ]
  },
  {
   "cell_type": "code",
   "execution_count": null,
   "id": "2f290cc8",
   "metadata": {},
   "outputs": [],
   "source": [
    "acp_nb = 10\n",
    "acp_name = county_database[county_database[\"acp\"] == acp_nb][\"acp_name\"].iloc[0]\n",
    "\n",
    "kwargs = {\"filter_equality\": \"acp\",\n",
    "          \"filter_equality_value\": acp_nb,\n",
    "          \"additional_text\": \"<br>American Communities: \" + acp_name,\n",
    "          \"shared_yaxes\": \"all\"}\n",
    "\n",
    "custom_scatter_plot(feat_col=\"income\",\n",
    "                    feat_name=\"Median Household Income\",\n",
    "                    type_data=\"All Causes\",\n",
    "                    min_val=None, max_val=None,\n",
    "                    cmid=0,\n",
    "                    show_figures=False,\n",
    "                    **kwargs)"
   ]
  },
  {
   "cell_type": "markdown",
   "id": "a6685ca5",
   "metadata": {},
   "source": [
    "Community type 10 - Excess Mortality"
   ]
  },
  {
   "cell_type": "code",
   "execution_count": null,
   "id": "e26eda65",
   "metadata": {},
   "outputs": [],
   "source": [
    "acp_nb = 10\n",
    "acp_name = county_database[county_database[\"acp\"] == acp_nb][\"acp_name\"].iloc[0]\n",
    "\n",
    "kwargs = {\"filter_equality\": \"acp\",\n",
    "          \"filter_equality_value\": acp_nb,\n",
    "          \"additional_text\": \"<br>American Communities: \" + acp_name,\n",
    "          \"shared_yaxes\": \"all\"}\n",
    "\n",
    "custom_scatter_plot(feat_col=\"income\",\n",
    "                    feat_name=\"Median Household Income\",\n",
    "                    type_data=\"Excess Mortality\",\n",
    "                    min_val=None, max_val=None,\n",
    "                    cmid=0,\n",
    "                    show_figures=False,\n",
    "                    **kwargs)"
   ]
  },
  {
   "cell_type": "markdown",
   "id": "24ae3134",
   "metadata": {},
   "source": [
    "Community type 11 - COVID-19"
   ]
  },
  {
   "cell_type": "code",
   "execution_count": null,
   "id": "df5a85c8",
   "metadata": {},
   "outputs": [],
   "source": [
    "acp_nb = 11\n",
    "acp_name = county_database[county_database[\"acp\"] == acp_nb][\"acp_name\"].iloc[0]\n",
    "\n",
    "kwargs = {\"filter_equality\": \"acp\",\n",
    "          \"filter_equality_value\": acp_nb,\n",
    "          \"additional_text\": \"<br>American Communities: \" + acp_name,\n",
    "          \"shared_yaxes\": \"all\"}\n",
    "\n",
    "custom_scatter_plot(feat_col=\"income\",\n",
    "                    feat_name=\"Median Household Income\",\n",
    "                    type_data=\"COVID-19\",\n",
    "                    min_val=None, max_val=None,\n",
    "                    cmid=0,\n",
    "                    show_figures=False,\n",
    "                    **kwargs)"
   ]
  },
  {
   "cell_type": "markdown",
   "id": "dbabdedf",
   "metadata": {},
   "source": [
    "Community type 11 - All Causes"
   ]
  },
  {
   "cell_type": "code",
   "execution_count": null,
   "id": "4ac198f5",
   "metadata": {},
   "outputs": [],
   "source": [
    "acp_nb = 11\n",
    "acp_name = county_database[county_database[\"acp\"] == acp_nb][\"acp_name\"].iloc[0]\n",
    "\n",
    "kwargs = {\"filter_equality\": \"acp\",\n",
    "          \"filter_equality_value\": acp_nb,\n",
    "          \"additional_text\": \"<br>American Communities: \" + acp_name,\n",
    "          \"shared_yaxes\": \"all\"}\n",
    "\n",
    "custom_scatter_plot(feat_col=\"income\",\n",
    "                    feat_name=\"Median Household Income\",\n",
    "                    type_data=\"All Causes\",\n",
    "                    min_val=None, max_val=None,\n",
    "                    cmid=0,\n",
    "                    show_figures=False,\n",
    "                    **kwargs)"
   ]
  },
  {
   "cell_type": "markdown",
   "id": "bbe3d0e5",
   "metadata": {},
   "source": [
    "Community type 11 - Excess Mortality"
   ]
  },
  {
   "cell_type": "code",
   "execution_count": null,
   "id": "2726135e",
   "metadata": {},
   "outputs": [],
   "source": [
    "acp_nb = 11\n",
    "acp_name = county_database[county_database[\"acp\"] == acp_nb][\"acp_name\"].iloc[0]\n",
    "\n",
    "kwargs = {\"filter_equality\": \"acp\",\n",
    "          \"filter_equality_value\": acp_nb,\n",
    "          \"additional_text\": \"<br>American Communities: \" + acp_name,\n",
    "          \"shared_yaxes\": \"all\"}\n",
    "\n",
    "custom_scatter_plot(feat_col=\"income\",\n",
    "                    feat_name=\"Median Household Income\",\n",
    "                    type_data=\"Excess Mortality\",\n",
    "                    min_val=None, max_val=None,\n",
    "                    cmid=0,\n",
    "                    show_figures=False,\n",
    "                    **kwargs)"
   ]
  },
  {
   "cell_type": "markdown",
   "id": "5af28592",
   "metadata": {},
   "source": [
    "Community type 12 - COVID-19"
   ]
  },
  {
   "cell_type": "code",
   "execution_count": null,
   "id": "1a1ee131",
   "metadata": {},
   "outputs": [],
   "source": [
    "acp_nb = 12\n",
    "acp_name = county_database[county_database[\"acp\"] == acp_nb][\"acp_name\"].iloc[0]\n",
    "\n",
    "kwargs = {\"filter_equality\": \"acp\",\n",
    "          \"filter_equality_value\": acp_nb,\n",
    "          \"additional_text\": \"<br>American Communities: \" + acp_name,\n",
    "          \"shared_yaxes\": \"all\"}\n",
    "\n",
    "custom_scatter_plot(feat_col=\"income\",\n",
    "                    feat_name=\"Median Household Income\",\n",
    "                    type_data=\"COVID-19\",\n",
    "                    min_val=None, max_val=None,\n",
    "                    cmid=0,\n",
    "                    show_figures=False,\n",
    "                    **kwargs)"
   ]
  },
  {
   "cell_type": "markdown",
   "id": "a3369d27",
   "metadata": {},
   "source": [
    "Community type 12 - All Causes"
   ]
  },
  {
   "cell_type": "code",
   "execution_count": null,
   "id": "f4b3ab2a",
   "metadata": {},
   "outputs": [],
   "source": [
    "acp_nb = 12\n",
    "acp_name = county_database[county_database[\"acp\"] == acp_nb][\"acp_name\"].iloc[0]\n",
    "\n",
    "kwargs = {\"filter_equality\": \"acp\",\n",
    "          \"filter_equality_value\": acp_nb,\n",
    "          \"additional_text\": \"<br>American Communities: \" + acp_name,\n",
    "          \"shared_yaxes\": \"all\"}\n",
    "\n",
    "custom_scatter_plot(feat_col=\"income\",\n",
    "                    feat_name=\"Median Household Income\",\n",
    "                    type_data=\"All Causes\",\n",
    "                    min_val=None, max_val=None,\n",
    "                    cmid=0,\n",
    "                    show_figures=False,\n",
    "                    **kwargs)"
   ]
  },
  {
   "cell_type": "markdown",
   "id": "eba3b7fc",
   "metadata": {},
   "source": [
    "Community type 12 - Excess Mortality"
   ]
  },
  {
   "cell_type": "code",
   "execution_count": null,
   "id": "56a32dbd",
   "metadata": {},
   "outputs": [],
   "source": [
    "acp_nb = 12\n",
    "acp_name = county_database[county_database[\"acp\"] == acp_nb][\"acp_name\"].iloc[0]\n",
    "\n",
    "kwargs = {\"filter_equality\": \"acp\",\n",
    "          \"filter_equality_value\": acp_nb,\n",
    "          \"additional_text\": \"<br>American Communities: \" + acp_name,\n",
    "          \"shared_yaxes\": \"all\"}\n",
    "\n",
    "custom_scatter_plot(feat_col=\"income\",\n",
    "                    feat_name=\"Median Household Income\",\n",
    "                    type_data=\"Excess Mortality\",\n",
    "                    min_val=None, max_val=None,\n",
    "                    cmid=0,\n",
    "                    show_figures=False,\n",
    "                    **kwargs)"
   ]
  },
  {
   "cell_type": "markdown",
   "id": "f26734c5",
   "metadata": {},
   "source": [
    "Community type 13 - COVID-19"
   ]
  },
  {
   "cell_type": "code",
   "execution_count": null,
   "id": "0e9c50d9",
   "metadata": {},
   "outputs": [],
   "source": [
    "acp_nb = 13\n",
    "acp_name = county_database[county_database[\"acp\"] == acp_nb][\"acp_name\"].iloc[0]\n",
    "\n",
    "kwargs = {\"filter_equality\": \"acp\",\n",
    "          \"filter_equality_value\": acp_nb,\n",
    "          \"additional_text\": \"<br>American Communities: \" + acp_name,\n",
    "          \"shared_yaxes\": \"all\"}\n",
    "\n",
    "custom_scatter_plot(feat_col=\"income\",\n",
    "                    feat_name=\"Median Household Income\",\n",
    "                    type_data=\"COVID-19\",\n",
    "                    min_val=None, max_val=None,\n",
    "                    cmid=0,\n",
    "                    show_figures=False,\n",
    "                    **kwargs)"
   ]
  },
  {
   "cell_type": "markdown",
   "id": "52597955",
   "metadata": {},
   "source": [
    "Community type 13 - All Causes"
   ]
  },
  {
   "cell_type": "code",
   "execution_count": null,
   "id": "68366695",
   "metadata": {},
   "outputs": [],
   "source": [
    "acp_nb = 13\n",
    "acp_name = county_database[county_database[\"acp\"] == acp_nb][\"acp_name\"].iloc[0]\n",
    "\n",
    "kwargs = {\"filter_equality\": \"acp\",\n",
    "          \"filter_equality_value\": acp_nb,\n",
    "          \"additional_text\": \"<br>American Communities: \" + acp_name,\n",
    "          \"shared_yaxes\": \"all\"}\n",
    "\n",
    "custom_scatter_plot(feat_col=\"income\",\n",
    "                    feat_name=\"Median Household Income\",\n",
    "                    type_data=\"All Causes\",\n",
    "                    min_val=None, max_val=None,\n",
    "                    cmid=0,\n",
    "                    show_figures=False,\n",
    "                    **kwargs)"
   ]
  },
  {
   "cell_type": "markdown",
   "id": "da0b2e59",
   "metadata": {},
   "source": [
    "Community type 13 - Excess Mortality"
   ]
  },
  {
   "cell_type": "code",
   "execution_count": null,
   "id": "5f45f477",
   "metadata": {},
   "outputs": [],
   "source": [
    "acp_nb = 13\n",
    "acp_name = county_database[county_database[\"acp\"] == acp_nb][\"acp_name\"].iloc[0]\n",
    "\n",
    "kwargs = {\"filter_equality\": \"acp\",\n",
    "          \"filter_equality_value\": acp_nb,\n",
    "          \"additional_text\": \"<br>American Communities: \" + acp_name,\n",
    "          \"shared_yaxes\": \"all\"}\n",
    "\n",
    "custom_scatter_plot(feat_col=\"income\",\n",
    "                    feat_name=\"Median Household Income\",\n",
    "                    type_data=\"Excess Mortality\",\n",
    "                    min_val=None, max_val=None,\n",
    "                    cmid=0,\n",
    "                    show_figures=False,\n",
    "                    **kwargs)"
   ]
  },
  {
   "cell_type": "markdown",
   "id": "b8773f7e",
   "metadata": {},
   "source": [
    "Community type 14 - COVID-19"
   ]
  },
  {
   "cell_type": "code",
   "execution_count": null,
   "id": "64a890e9",
   "metadata": {},
   "outputs": [],
   "source": [
    "acp_nb = 14\n",
    "acp_name = county_database[county_database[\"acp\"] == acp_nb][\"acp_name\"].iloc[0]\n",
    "\n",
    "kwargs = {\"filter_equality\": \"acp\",\n",
    "          \"filter_equality_value\": acp_nb,\n",
    "          \"additional_text\": \"<br>American Communities: \" + acp_name,\n",
    "          \"shared_yaxes\": \"all\"}\n",
    "\n",
    "custom_scatter_plot(feat_col=\"income\",\n",
    "                    feat_name=\"Median Household Income\",\n",
    "                    type_data=\"COVID-19\",\n",
    "                    min_val=None, max_val=None,\n",
    "                    cmid=0,\n",
    "                    show_figures=False,\n",
    "                    **kwargs)"
   ]
  },
  {
   "cell_type": "markdown",
   "id": "b661ef08",
   "metadata": {},
   "source": [
    "Community type 14 - All Causes"
   ]
  },
  {
   "cell_type": "code",
   "execution_count": null,
   "id": "b1144eae",
   "metadata": {},
   "outputs": [],
   "source": [
    "acp_nb = 14\n",
    "acp_name = county_database[county_database[\"acp\"] == acp_nb][\"acp_name\"].iloc[0]\n",
    "\n",
    "kwargs = {\"filter_equality\": \"acp\",\n",
    "          \"filter_equality_value\": acp_nb,\n",
    "          \"additional_text\": \"<br>American Communities: \" + acp_name,\n",
    "          \"shared_yaxes\": \"all\"}\n",
    "\n",
    "custom_scatter_plot(feat_col=\"income\",\n",
    "                    feat_name=\"Median Household Income\",\n",
    "                    type_data=\"All Causes\",\n",
    "                    min_val=None, max_val=None,\n",
    "                    cmid=0,\n",
    "                    show_figures=False,\n",
    "                    **kwargs)"
   ]
  },
  {
   "cell_type": "markdown",
   "id": "52f3df7e",
   "metadata": {},
   "source": [
    "Community type 14 - Excess Mortality"
   ]
  },
  {
   "cell_type": "code",
   "execution_count": null,
   "id": "e9338e8b",
   "metadata": {},
   "outputs": [],
   "source": [
    "acp_nb = 14\n",
    "acp_name = county_database[county_database[\"acp\"] == acp_nb][\"acp_name\"].iloc[0]\n",
    "\n",
    "kwargs = {\"filter_equality\": \"acp\",\n",
    "          \"filter_equality_value\": acp_nb,\n",
    "          \"additional_text\": \"<br>American Communities: \" + acp_name,\n",
    "          \"shared_yaxes\": \"all\"}\n",
    "\n",
    "custom_scatter_plot(feat_col=\"income\",\n",
    "                    feat_name=\"Median Household Income\",\n",
    "                    type_data=\"Excess Mortality\",\n",
    "                    min_val=None, max_val=None,\n",
    "                    cmid=0,\n",
    "                    show_figures=False,\n",
    "                    **kwargs)"
   ]
  },
  {
   "cell_type": "markdown",
   "id": "518426e1",
   "metadata": {},
   "source": [
    "Community type 15 - COVID-19"
   ]
  },
  {
   "cell_type": "code",
   "execution_count": null,
   "id": "2245e9d9",
   "metadata": {},
   "outputs": [],
   "source": [
    "acp_nb = 15\n",
    "acp_name = county_database[county_database[\"acp\"] == acp_nb][\"acp_name\"].iloc[0]\n",
    "\n",
    "kwargs = {\"filter_equality\": \"acp\",\n",
    "          \"filter_equality_value\": acp_nb,\n",
    "          \"additional_text\": \"<br>American Communities: \" + acp_name,\n",
    "          \"shared_yaxes\": \"all\"}\n",
    "\n",
    "custom_scatter_plot(feat_col=\"income\",\n",
    "                    feat_name=\"Median Household Income\",\n",
    "                    type_data=\"COVID-19\",\n",
    "                    min_val=None, max_val=None,\n",
    "                    cmid=0,\n",
    "                    show_figures=False,\n",
    "                    **kwargs)"
   ]
  },
  {
   "cell_type": "markdown",
   "id": "449e05e3",
   "metadata": {},
   "source": [
    "Community type 15 - All Causes"
   ]
  },
  {
   "cell_type": "code",
   "execution_count": null,
   "id": "610386d3",
   "metadata": {},
   "outputs": [],
   "source": [
    "acp_nb = 15\n",
    "acp_name = county_database[county_database[\"acp\"] == acp_nb][\"acp_name\"].iloc[0]\n",
    "\n",
    "kwargs = {\"filter_equality\": \"acp\",\n",
    "          \"filter_equality_value\": acp_nb,\n",
    "          \"additional_text\": \"<br>American Communities: \" + acp_name,\n",
    "          \"shared_yaxes\": \"all\"}\n",
    "\n",
    "custom_scatter_plot(feat_col=\"income\",\n",
    "                    feat_name=\"Median Household Income\",\n",
    "                    type_data=\"All Causes\",\n",
    "                    min_val=None, max_val=None,\n",
    "                    cmid=0,\n",
    "                    show_figures=False,\n",
    "                    **kwargs)"
   ]
  },
  {
   "cell_type": "markdown",
   "id": "ce4d0adc",
   "metadata": {},
   "source": [
    "Community type 15 - Excess Mortality"
   ]
  },
  {
   "cell_type": "code",
   "execution_count": null,
   "id": "f9952619",
   "metadata": {},
   "outputs": [],
   "source": [
    "acp_nb = 15\n",
    "acp_name = county_database[county_database[\"acp\"] == acp_nb][\"acp_name\"].iloc[0]\n",
    "\n",
    "kwargs = {\"filter_equality\": \"acp\",\n",
    "          \"filter_equality_value\": acp_nb,\n",
    "          \"additional_text\": \"<br>American Communities: \" + acp_name,\n",
    "          \"shared_yaxes\": \"all\"}\n",
    "\n",
    "custom_scatter_plot(feat_col=\"income\",\n",
    "                    feat_name=\"Median Household Income\",\n",
    "                    type_data=\"Excess Mortality\",\n",
    "                    min_val=None, max_val=None,\n",
    "                    cmid=0,\n",
    "                    show_figures=False,\n",
    "                    **kwargs)"
   ]
  }
 ],
 "metadata": {
  "language_info": {
   "name": "python"
  }
 },
 "nbformat": 4,
 "nbformat_minor": 5
}
